{
 "cells": [
  {
   "cell_type": "code",
   "execution_count": 1,
   "metadata": {},
   "outputs": [],
   "source": [
    "import networkx as nx\n",
    "import numpy as np\n",
    "import os\n",
    "import time\n",
    "import pandas as pd\n",
    "import matplotlib.pyplot as plt\n",
    "from itertools import chain\n",
    "from collections import defaultdict\n",
    "from gensim.models import Word2Vec\n",
    "from sklearn.model_selection import KFold\n",
    "from sklearn.metrics import roc_auc_score"
   ]
  },
  {
   "cell_type": "markdown",
   "metadata": {},
   "source": [
    "# Pipeline"
   ]
  },
  {
   "cell_type": "markdown",
   "metadata": {},
   "source": [
    "### Data Loader"
   ]
  },
  {
   "cell_type": "markdown",
   "metadata": {},
   "source": [
    "We need to load networks into memory. Usually networks are organized as pairs of nodes. And sometimes different edges have different weights. Hence, we use networkx.DiGraph to store such structure information and attributes."
   ]
  },
  {
   "cell_type": "code",
   "execution_count": 2,
   "metadata": {},
   "outputs": [],
   "source": [
    "def load_data(file_name): \n",
    "    \"\"\"\n",
    "    read edges from an edge file\n",
    "    \"\"\"\n",
    "    edges = list()\n",
    "    df = pd.read_csv(file_name)\n",
    "    for idx, row in df.iterrows():\n",
    "        user_id, friends = row[\"user_id\"], eval(row[\"friends\"])\n",
    "        for friend in friends:\n",
    "            # add each friend relation as an edge\n",
    "            edges.append((user_id, friend))\n",
    "    edges = sorted(edges)\n",
    "    \n",
    "    return edges\n",
    "\n",
    "def load_test_data(file_name):\n",
    "    \"\"\"\n",
    "    read edges from an edge file\n",
    "    \"\"\"\n",
    "    edges = list()\n",
    "    scores = list()\n",
    "    df = pd.read_csv(file_name)\n",
    "    for idx, row in df.iterrows():\n",
    "        edges.append((row[\"src\"], row[\"dst\"]))\n",
    "    edges = sorted(edges)\n",
    "    \n",
    "    return edges\n",
    "\n",
    "def generate_false_edges(true_edges, num_false_edges=5):\n",
    "    \"\"\"\n",
    "    generate false edges given true edges\n",
    "    \"\"\"\n",
    "    nodes = list(set(chain.from_iterable(true_edges)))\n",
    "    N = len(nodes)\n",
    "    true_edges = set(true_edges)\n",
    "    print(N, len(true_edges))\n",
    "    false_edges = set()\n",
    "    \n",
    "    while len(false_edges) < num_false_edges:\n",
    "        # randomly sample two different nodes and check whether the pair exisit or not\n",
    "        src, dst = nodes[int(np.random.rand() * N)], nodes[int(np.random.rand() * N)]\n",
    "        if src != dst and (src, dst) not in true_edges and (src, dst) not in false_edges:\n",
    "            false_edges.add((src, dst))\n",
    "    false_edges = sorted(false_edges)\n",
    "    \n",
    "    return false_edges\n",
    "\n",
    "def construct_graph_from_edges(edges):\n",
    "    \"\"\"\n",
    "    generate a directed graph object given true edges\n",
    "    DiGraph documentation: https://networkx.github.io/documentation/stable/reference/classes/digraph.html\n",
    "    \"\"\"\n",
    "    # convert a list of edges {(u, v)} to a list of edges with weights {(u, v, w)}\n",
    "    edge_weight = defaultdict(float)\n",
    "    for e in edges:\n",
    "        edge_weight[e] += 1.0\n",
    "    weighed_edge_list = list()\n",
    "    for e in sorted(edge_weight.keys()):\n",
    "        weighed_edge_list.append((e[0], e[1], edge_weight[e]))\n",
    "        \n",
    "    graph = nx.DiGraph()\n",
    "    graph.add_weighted_edges_from(weighed_edge_list)\n",
    "    \n",
    "    print(\"number of nodes:\", graph.number_of_nodes())\n",
    "    print(\"number of edges:\", graph.number_of_edges())\n",
    "    \n",
    "    return graph"
   ]
  },
  {
   "cell_type": "markdown",
   "metadata": {},
   "source": [
    "### Random Walk Generator"
   ]
  },
  {
   "cell_type": "markdown",
   "metadata": {},
   "source": [
    "Random walk generators or random walkers yield random walks that contain both local and higher-order neighborhood information. However, naive non-uniform sampling is very slow, which requires O(n) time complexity. Here alias sampling can reduce the time complexity to O(1) with O(n) space. If you are interested, please see the following blog."
   ]
  },
  {
   "cell_type": "code",
   "execution_count": 3,
   "metadata": {},
   "outputs": [],
   "source": [
    "def alias_setup(probs):\n",
    "    \"\"\"\n",
    "    compute utility lists for non-uniform sampling from discrete distributions.\n",
    "    details: https://lips.cs.princeton.edu/the-alias-method-efficient-sampling-with-many-discrete-outcomes/\n",
    "    \"\"\"\n",
    "    K = len(probs)\n",
    "    q = np.zeros(K)\n",
    "    J = np.zeros(K, dtype=np.int)\n",
    "\n",
    "    smaller = list()\n",
    "    larger = list()\n",
    "    for kk, prob in enumerate(probs):\n",
    "        q[kk] = K * prob\n",
    "        if q[kk] < 1.0:\n",
    "            smaller.append(kk)\n",
    "        else:\n",
    "            larger.append(kk)\n",
    "\n",
    "    while len(smaller) > 0 and len(larger) > 0:\n",
    "        small = smaller.pop()\n",
    "        large = larger.pop()\n",
    "\n",
    "        J[small] = large\n",
    "        q[large] = q[large] + q[small] - 1.0\n",
    "        if q[large] < 1.0:\n",
    "            smaller.append(large)\n",
    "        else:\n",
    "            larger.append(large)\n",
    "\n",
    "    return J, q\n",
    "\n",
    "def get_alias_node(graph, node):\n",
    "    \"\"\"\n",
    "    get the alias node setup lists for a given node.\n",
    "    \"\"\"\n",
    "    # get the unnormalized probabilities with the first-order information\n",
    "    unnormalized_probs = list()\n",
    "    for nbr in graph.neighbors(node):\n",
    "        unnormalized_probs.append(graph[node][nbr][\"weight\"])\n",
    "    unnormalized_probs = np.array(unnormalized_probs)\n",
    "    if len(unnormalized_probs) > 0:\n",
    "        normalized_probs = unnormalized_probs / unnormalized_probs.sum()\n",
    "    else:\n",
    "        normalized_probs = unnormalized_probs\n",
    "        \n",
    "    return alias_setup(normalized_probs)\n",
    "    \n",
    "def get_alias_edge(graph, src, dst, p=1, q=1):\n",
    "    \"\"\"\n",
    "    get the alias edge setup lists for a given edge.\n",
    "    \"\"\"\n",
    "    # get the unnormalized probabilities with the second-order information\n",
    "    unnormalized_probs = list()\n",
    "    for dst_nbr in graph.neighbors(dst):\n",
    "        if dst_nbr == src: # distance is 0\n",
    "            unnormalized_probs.append(graph[dst][dst_nbr][\"weight\"]/p)\n",
    "        elif graph.has_edge(dst_nbr, src): # distance is 1\n",
    "            unnormalized_probs.append(graph[dst][dst_nbr][\"weight\"])\n",
    "        else: # distance is 2\n",
    "            unnormalized_probs.append(graph[dst][dst_nbr][\"weight\"]/q)\n",
    "    unnormalized_probs = np.array(unnormalized_probs)\n",
    "    if len(unnormalized_probs) > 0:\n",
    "        normalized_probs = unnormalized_probs / unnormalized_probs.sum()\n",
    "    else:\n",
    "        normalized_probs = unnormalized_probs\n",
    "\n",
    "    return alias_setup(normalized_probs)\n",
    "\n",
    "def preprocess_transition_probs(graph, p=1, q=1):\n",
    "    \"\"\"\n",
    "    preprocess transition probabilities for guiding the random walks.\n",
    "    \"\"\"\n",
    "    alias_nodes = dict()\n",
    "    for node in graph.nodes():\n",
    "        alias_nodes[node] = get_alias_node(graph, node)\n",
    "\n",
    "    alias_edges = dict()\n",
    "    for edge in graph.edges():\n",
    "        alias_edges[edge] = get_alias_edge(graph, edge[0], edge[1], p=p, q=q)\n",
    "\n",
    "    return alias_nodes, alias_edges"
   ]
  },
  {
   "cell_type": "markdown",
   "metadata": {},
   "source": [
    "The difference between DeepWalk and node2vec is how to generate random walks. The former only consider the first-order information while the latter also involves the second-order information."
   ]
  },
  {
   "cell_type": "code",
   "execution_count": 4,
   "metadata": {},
   "outputs": [],
   "source": [
    "def alias_draw(J, q):\n",
    "    \"\"\"\n",
    "    draw sample from a non-uniform discrete distribution using alias sampling.\n",
    "    \"\"\"\n",
    "    K = len(J)\n",
    "\n",
    "    kk = int(np.floor(np.random.rand() * K))\n",
    "    if np.random.rand() < q[kk]:\n",
    "        return kk\n",
    "    else:\n",
    "        return J[kk]\n",
    "\n",
    "\n",
    "# helper function to generate the long random walk as desired\n",
    "def fallback(walk, fetch_last_num=1):\n",
    "    if len(walk) > fetch_last_num:\n",
    "        walk.pop()\n",
    "        fetched = []\n",
    "        for i in range(fetch_last_num):\n",
    "            fetched.append(walk[-1-i])\n",
    "        return walk, fetched\n",
    "    else:\n",
    "        return [], [None for _ in range(fetch_last_num)]\n",
    "\n",
    "def generate_first_order_random_walk(graph, alias_nodes, \n",
    "                                     walk_length=10, start_node=None, verbose=False, max_trails=10):\n",
    "    \"\"\"\n",
    "    simulate a random walk starting from start node and considering the first order information.\n",
    "    max_trials: set the max trials to be one for standard random walk. Larger max_trails will make the generated biased.\n",
    "    \"\"\"\n",
    "    if start_node == None:\n",
    "        start_node = np.random.choice(graph.nodes())\n",
    "    walk = [start_node]\n",
    "    cur = start_node\n",
    "    num_tried = 0\n",
    "    \n",
    "    ########## begin ##########\n",
    "    while len(walk) < walk_length:\n",
    "        cur_nbrs = list(graph.neighbors(cur))\n",
    "        if len(cur_nbrs) > 0: # if we can sample next nodes\n",
    "            # sample the next node based on alias_nodes\n",
    "            cur = cur_nbrs[alias_draw(*alias_nodes[cur])]\n",
    "            walk.append(cur)\n",
    "        else: # if we can't do that\n",
    "            num_tried += 1\n",
    "            if num_tried >= max_trails:\n",
    "                break\n",
    "\n",
    "            walk, fetched = fallback(walk, fetch_last_num=1)\n",
    "            cur = fetched[0]\n",
    "            if len(walk) == 0: # if falls back to the empty walk\n",
    "                start_node = np.random.choice(graph.nodes())\n",
    "                walk = [start_node]\n",
    "                cur = start_node\n",
    "    ########## end ##########\n",
    "\n",
    "    if verbose: \n",
    "        print(f'walk of lenght {len(walk)} generated with {num_tried} trails')\n",
    "    return walk\n",
    "    \n",
    "def generate_second_order_random_walk(graph, alias_nodes, alias_edges, \n",
    "                                      walk_length=10, start_node=None, verbose=False, max_trails=10):\n",
    "    \"\"\"\n",
    "    simulate a random walk starting from start node and considering the second order information.\n",
    "    \"\"\"\n",
    "    if start_node == None:\n",
    "        start_node = np.random.choice(graph.nodes())\n",
    "    walk = [start_node]\n",
    "    \n",
    "    prev = None\n",
    "    cur = start_node\n",
    "    num_tried = 0\n",
    "\n",
    "    ########## begin ##########\n",
    "    while len(walk) < walk_length:\n",
    "        cur_nbrs = list(graph.neighbors(cur))\n",
    "        if len(cur_nbrs) > 0:\n",
    "            if prev is None:\n",
    "                # sample the next node based on alias_nodes\n",
    "                prev, cur = cur, cur_nbrs[alias_draw(*alias_nodes[cur])]\n",
    "            else:\n",
    "                # sample the next node based on alias_edges\n",
    "                prev, cur = cur, cur_nbrs[alias_draw(*alias_edges[(prev, cur)])]\n",
    "            walk.append(cur)\n",
    "        else:\n",
    "            num_tried += 1\n",
    "            if num_tried >= max_trails:\n",
    "                break\n",
    "            walk, (cur, prev) = fallback(walk, fetch_last_num=2)\n",
    "            if len(walk) == 0:\n",
    "                start_node = np.random.choice(graph.nodes())\n",
    "                walk = [start_node]\n",
    "                cur = start_node\n",
    "                prev = None\n",
    "    ########## end ##########\n",
    "    if verbose: \n",
    "        print(f'walk of lenght {len(walk)} generated with {num_tried} trails')\n",
    "    return walk"
   ]
  },
  {
   "cell_type": "markdown",
   "metadata": {},
   "source": [
    "### Network Embedding Algorithms"
   ]
  },
  {
   "cell_type": "code",
   "execution_count": 5,
   "metadata": {},
   "outputs": [],
   "source": [
    "def build_deepwalk(graph, alias_nodes, node_dim=10, num_walks=10, walk_length=10):\n",
    "    \"\"\"\n",
    "    build a deepwalk model\n",
    "    \"\"\"\n",
    "    print(\"building a DeepWalk model...\", end=\"\\t\")\n",
    "    st = time.time()\n",
    "    np.random.seed(0)\n",
    "    nodes = list(graph.nodes())\n",
    "    walks = list()\n",
    "    # generate random walks\n",
    "    for walk_iter in range(num_walks):\n",
    "        np.random.shuffle(nodes)\n",
    "        for node in nodes:\n",
    "            walks.append(generate_first_order_random_walk(\n",
    "                graph, alias_nodes, walk_length=walk_length, start_node=node))\n",
    "        \n",
    "    walk_lens = [len(w) for w in walks]\n",
    "    if len(walk_lens) > 0:\n",
    "        avg_walk_len = sum(walk_lens) / len(walk_lens)\n",
    "    else:\n",
    "        avg_walk_len = 0.0\n",
    "    print(\"number of walks: %d\\taverage walk length: %.4f\" % (len(walks), avg_walk_len), end=\"\\t\")\n",
    "    \n",
    "    # train a skip-gram model for these walks\n",
    "    model = Word2Vec(walks, vector_size=node_dim, window=3, min_count=0, sg=1, workers=os.cpu_count(), epochs=10)\n",
    "    print(\"training time: %.4f\" % (time.time()-st))\n",
    "    \n",
    "    return model\n",
    "\n",
    "def build_node2vec(graph, alias_nodes, alias_edges, node_dim=10, num_walks=10, walk_length=10):\n",
    "    \"\"\"\n",
    "    build a node2vec model\n",
    "    \"\"\"\n",
    "    print(\"building a node2vec model...\", end=\"\\t\")\n",
    "    st = time.time()\n",
    "    np.random.seed(0)\n",
    "    nodes = list(graph.nodes())\n",
    "    walks = list()\n",
    "    # generate random walks\n",
    "    for walk_iter in range(num_walks):\n",
    "        np.random.shuffle(nodes)\n",
    "        for node in nodes:\n",
    "            walks.append(generate_second_order_random_walk(\n",
    "                graph, alias_nodes, alias_edges, walk_length=walk_length, start_node=node))\n",
    "            \n",
    "    walk_lens = [len(w) for w in walks]\n",
    "    if len(walk_lens) > 0:\n",
    "        avg_walk_len = sum(walk_lens) / len(walk_lens)\n",
    "    else:\n",
    "        avg_walk_len = 0.0    \n",
    "    print(\"number of walks: %d\\taverage walk length: %.4f\" % (len(walks), avg_walk_len), end=\"\\t\")\n",
    "    \n",
    "    # train a skip-gram model for these walks\n",
    "    model = Word2Vec(walks, vector_size=node_dim, window=3, min_count=0, sg=1, workers=os.cpu_count(), epochs=10)\n",
    "    print(\"training time: %.4f\" % (time.time()-st))\n",
    "    \n",
    "    return model"
   ]
  },
  {
   "cell_type": "markdown",
   "metadata": {},
   "source": [
    "### Scorer"
   ]
  },
  {
   "cell_type": "code",
   "execution_count": 6,
   "metadata": {},
   "outputs": [],
   "source": [
    "def get_cosine_sim(model, u, v):\n",
    "    \"\"\"\n",
    "    get the cosine similarity between two nodes\n",
    "    \"\"\"\n",
    "    try:\n",
    "        u = model.wv[u]\n",
    "        v = model.wv[v]\n",
    "        return np.dot(u, v) / (np.linalg.norm(u) * np.linalg.norm(v))\n",
    "    except:\n",
    "        return 0.5\n",
    "\n",
    "def get_auc_score(model, true_edges, false_edges):\n",
    "    \"\"\"\n",
    "    get the auc score\n",
    "    \"\"\"\n",
    "    y_true = [1] * len(true_edges) + [0] * len(false_edges)\n",
    "    \n",
    "    y_score = list()\n",
    "    for e in true_edges:\n",
    "        y_score.append(get_cosine_sim(model, e[0], e[1]))\n",
    "    for e in false_edges:\n",
    "        y_score.append(get_cosine_sim(model, e[0], e[1]))\n",
    "    \n",
    "    return roc_auc_score(y_true, y_score)\n",
    "\n",
    "def write_pred(file_name, edges, scores):\n",
    "    df = pd.DataFrame()\n",
    "    df[\"src\"] = [e[0] for e in edges]\n",
    "    df[\"dst\"] = [e[1] for e in edges]\n",
    "    df[\"score\"] = scores\n",
    "    df.to_csv(file_name, index=False)\n",
    "\n",
    "\n",
    "def write_valid_ans(file_name, edges, scores):\n",
    "    df = pd.DataFrame()\n",
    "    df[\"src\"] = [e[0] for e in edges]\n",
    "    df[\"dst\"] = [e[1] for e in edges]\n",
    "    df[\"score\"] = scores\n",
    "    df.to_csv(file_name, index=False)"
   ]
  },
  {
   "cell_type": "markdown",
   "metadata": {},
   "source": [
    "### Try them over a Real-life Network"
   ]
  },
  {
   "cell_type": "markdown",
   "metadata": {},
   "source": [
    "Firstly, we need to load edges into memory and use the networkx.DiGraph structure to store the graph."
   ]
  },
  {
   "cell_type": "code",
   "execution_count": 7,
   "metadata": {},
   "outputs": [
    {
     "name": "stdout",
     "output_type": "stream",
     "text": [
      "number of nodes: 8328\n",
      "number of edges: 100000\n",
      "8474 119268\n"
     ]
    }
   ],
   "source": [
    "train_file = \"data/train.csv\"\n",
    "valid_file = \"data/valid.csv\"\n",
    "test_file = \"data/test.csv\"\n",
    "\n",
    "np.random.seed(0)\n",
    "train_edges = load_data(train_file)\n",
    "graph = construct_graph_from_edges(train_edges)\n",
    "valid_edges = load_data(valid_file)\n",
    "false_edges = generate_false_edges(train_edges+valid_edges, 40000-len(valid_edges))\n",
    "test_edges = load_test_data(test_file)"
   ]
  },
  {
   "cell_type": "code",
   "execution_count": 8,
   "metadata": {},
   "outputs": [
    {
     "name": "stdout",
     "output_type": "stream",
     "text": [
      "number of nodes: 5440\n",
      "number of edges: 19268\n",
      "number of nodes: 8394\n",
      "number of edges: 20732\n",
      "number of nodes: 8509\n",
      "number of edges: 40000\n"
     ]
    },
    {
     "data": {
      "text/plain": [
       "<networkx.classes.digraph.DiGraph at 0x2280f39d100>"
      ]
     },
     "execution_count": 8,
     "metadata": {},
     "output_type": "execute_result"
    }
   ],
   "source": [
    "construct_graph_from_edges(valid_edges)\n",
    "construct_graph_from_edges(false_edges)\n",
    "construct_graph_from_edges(test_edges)"
   ]
  },
  {
   "cell_type": "markdown",
   "metadata": {},
   "source": [
    "After that, we can use preprocess transition probabilities with the help of alias sampling."
   ]
  },
  {
   "cell_type": "code",
   "execution_count": 9,
   "metadata": {},
   "outputs": [],
   "source": [
    "alias_nodes, alias_edges = preprocess_transition_probs(graph, p=1, q=1)"
   ]
  },
  {
   "cell_type": "markdown",
   "metadata": {},
   "source": [
    "We can use random walk generators to generate random walks."
   ]
  },
  {
   "cell_type": "markdown",
   "metadata": {},
   "source": [
    "Let's try to generate a first-order random walk and a second-order random walk."
   ]
  },
  {
   "cell_type": "code",
   "execution_count": 10,
   "metadata": {},
   "outputs": [
    {
     "data": {
      "text/plain": [
       "['N6ZTMIue-2b30CJv2tyPGg',\n",
       " 'aKhv49qQ1A1MDvGZ-cVh7Q',\n",
       " 'pTUh580nYtGi5Go0U0iI7w',\n",
       " 'J9c0XM-wV_KQmtZYxvIFFQ',\n",
       " 'sE1T1wT2alHRdy5iRezN0Q',\n",
       " 'rCWrxuRC8_pfagpchtHp6A',\n",
       " 'ReDypdRmVA3wc-QG8HBKkQ',\n",
       " 'om5ZiponkpRqUNa3pVPiRg',\n",
       " '184SiS5rngZWRtMjHB4rew',\n",
       " '1LdXqpTv0bcKQVkQB6Lttg']"
      ]
     },
     "execution_count": 10,
     "metadata": {},
     "output_type": "execute_result"
    }
   ],
   "source": [
    "generate_first_order_random_walk(graph, alias_nodes=alias_nodes,\n",
    "                                 start_node=\"N6ZTMIue-2b30CJv2tyPGg\", walk_length=10)"
   ]
  },
  {
   "cell_type": "code",
   "execution_count": 11,
   "metadata": {},
   "outputs": [
    {
     "data": {
      "text/plain": [
       "['N6ZTMIue-2b30CJv2tyPGg',\n",
       " 'd_TBs6J3twMy9GChqUEXkg',\n",
       " 'MPGqUhAsmVEHq9k9X6VZKw',\n",
       " 'DXh8yxwZCg5Ckj5kmDvKXw',\n",
       " 'Hi10sGSZNxQH3NLyWSZ1oA',\n",
       " 'om5ZiponkpRqUNa3pVPiRg',\n",
       " 'Ic6-gs1_FjrWGx6JIr95Mw',\n",
       " 'QJI9OSEn6ujRCtrX06vs1w',\n",
       " 'haSh72Q0MsQZUpWPeVgp0Q',\n",
       " '3NnPbhmv_vEfPTBp2pnn9Q']"
      ]
     },
     "execution_count": 11,
     "metadata": {},
     "output_type": "execute_result"
    }
   ],
   "source": [
    "generate_second_order_random_walk(graph, alias_nodes=alias_nodes, alias_edges=alias_edges,\n",
    "                                  start_node=\"N6ZTMIue-2b30CJv2tyPGg\", walk_length=10)"
   ]
  },
  {
   "cell_type": "markdown",
   "metadata": {},
   "source": [
    "And we can build a DeepWalk model and a node2vec model. Here we set p=q=0.5 so that the walker will not go very far away from the start node."
   ]
  },
  {
   "cell_type": "code",
   "execution_count": 12,
   "metadata": {},
   "outputs": [
    {
     "name": "stdout",
     "output_type": "stream",
     "text": [
      "building a DeepWalk model...\tnumber of walks: 83280\taverage walk length: 9.8980\ttraining time: 15.2322\n"
     ]
    }
   ],
   "source": [
    "model = build_deepwalk(graph, alias_nodes, node_dim=10, num_walks=10, walk_length=10)"
   ]
  },
  {
   "cell_type": "code",
   "execution_count": 13,
   "metadata": {},
   "outputs": [
    {
     "name": "stdout",
     "output_type": "stream",
     "text": [
      "building a node2vec model...\tnumber of walks: 83280\taverage walk length: 9.9910\ttraining time: 17.2282\n"
     ]
    }
   ],
   "source": [
    "model = build_node2vec(graph, alias_nodes, alias_edges, node_dim=10, num_walks=10, walk_length=10)"
   ]
  },
  {
   "cell_type": "markdown",
   "metadata": {},
   "source": [
    "Let's see the node embeddings of three nodes, and cosine similarities of two edges."
   ]
  },
  {
   "cell_type": "code",
   "execution_count": 14,
   "metadata": {},
   "outputs": [
    {
     "name": "stdout",
     "output_type": "stream",
     "text": [
      "node embedding (\"N6ZTMIue-2b30CJv2tyPGg\"): [ 0.04459985 -0.68595093  2.366229    1.1187421  -1.1502352   0.6972182\n",
      "  0.6343157   0.9263189  -0.39027408 -0.2187732 ]\n",
      "node embedding (\"N7E-CfqdME28dakWdEKNvw\"): [ 0.59906787 -0.53240687  1.6435498   0.5572451  -0.7688336   0.7079261\n",
      "  1.172558    0.7917537   0.19695875 -0.96732825]\n",
      "node embedding (\"MmlJSLDg-IFaeXb5wdJbgg\"): [ 0.10418403  0.26161772 -0.7119432   0.5526311   1.8067763   1.7521204\n",
      "  2.0669544   1.3276352  -1.1940062  -2.218014  ]\n",
      "true edge (\"N6ZTMIue-2b30CJv2tyPGg\", \"N7E-CfqdME28dakWdEKNvw\"): 0.8728067\n",
      "false edge (\"N6ZTMIue-2b30CJv2tyPGg\", \"MmlJSLDg-IFaeXb5wdJbgg\"): 0.09675473\n"
     ]
    }
   ],
   "source": [
    "print(\"node embedding (\\\"N6ZTMIue-2b30CJv2tyPGg\\\"):\",\n",
    "      model.wv[\"N6ZTMIue-2b30CJv2tyPGg\"])\n",
    "print(\"node embedding (\\\"N7E-CfqdME28dakWdEKNvw\\\"):\",\n",
    "      model.wv[\"N7E-CfqdME28dakWdEKNvw\"])\n",
    "print(\"node embedding (\\\"MmlJSLDg-IFaeXb5wdJbgg\\\"):\",\n",
    "      model.wv.vectors[model.wv.index_to_key.index(\"MmlJSLDg-IFaeXb5wdJbgg\")])\n",
    "print(\"true edge (\\\"N6ZTMIue-2b30CJv2tyPGg\\\", \\\"N7E-CfqdME28dakWdEKNvw\\\"):\",\n",
    "      get_cosine_sim(model, \"N6ZTMIue-2b30CJv2tyPGg\", \"N7E-CfqdME28dakWdEKNvw\"))\n",
    "print(\"false edge (\\\"N6ZTMIue-2b30CJv2tyPGg\\\", \\\"MmlJSLDg-IFaeXb5wdJbgg\\\"):\",\n",
    "      get_cosine_sim(model, \"N6ZTMIue-2b30CJv2tyPGg\", \"MmlJSLDg-IFaeXb5wdJbgg\"))"
   ]
  },
  {
   "cell_type": "markdown",
   "metadata": {},
   "source": [
    "# Link Prediction"
   ]
  },
  {
   "cell_type": "markdown",
   "metadata": {},
   "source": [
    "We can train the model with different parameters and test the model on the validation set. Please show your parameter search process and analysis in your code, and visualization tools (Heatmap, etc.) are recommended to make your analysis clear."
   ]
  },
  {
   "cell_type": "code",
   "execution_count": 19,
   "metadata": {},
   "outputs": [
    {
     "name": "stdout",
     "output_type": "stream",
     "text": [
      "node dim: 5,\tnum_walks: 5,\twalk_length: 5\tbuilding a DeepWalk model...\tnumber of walks: 41640\taverage walk length: 4.9622\ttraining time: 5.7093\n",
      "auc: 0.8797\n",
      "node dim: 5,\tnum_walks: 5,\twalk_length: 10\tbuilding a DeepWalk model...\tnumber of walks: 41640\taverage walk length: 9.8976\ttraining time: 7.9515\n",
      "auc: 0.9105\n",
      "node dim: 5,\tnum_walks: 5,\twalk_length: 15\tbuilding a DeepWalk model...\tnumber of walks: 41640\taverage walk length: 14.8335\ttraining time: 9.9270\n",
      "auc: 0.9185\n",
      "node dim: 5,\tnum_walks: 5,\twalk_length: 20\tbuilding a DeepWalk model...\tnumber of walks: 41640\taverage walk length: 19.7535\ttraining time: 12.0162\n",
      "auc: 0.9162\n",
      "node dim: 5,\tnum_walks: 10,\twalk_length: 5\tbuilding a DeepWalk model...\tnumber of walks: 83280\taverage walk length: 4.9629\ttraining time: 10.8705\n",
      "auc: 0.9029\n",
      "node dim: 5,\tnum_walks: 10,\twalk_length: 10\tbuilding a DeepWalk model...\tnumber of walks: 83280\taverage walk length: 9.8980\ttraining time: 15.0752\n",
      "auc: 0.9097\n",
      "node dim: 5,\tnum_walks: 10,\twalk_length: 15\tbuilding a DeepWalk model...\tnumber of walks: 83280\taverage walk length: 14.8289\ttraining time: 18.9447\n",
      "auc: 0.9175\n",
      "node dim: 5,\tnum_walks: 10,\twalk_length: 20\tbuilding a DeepWalk model...\tnumber of walks: 83280\taverage walk length: 19.7559\ttraining time: 22.6839\n",
      "auc: 0.9172\n",
      "node dim: 5,\tnum_walks: 15,\twalk_length: 5\tbuilding a DeepWalk model...\tnumber of walks: 124920\taverage walk length: 4.9630\ttraining time: 16.2158\n",
      "auc: 0.9091\n",
      "node dim: 5,\tnum_walks: 15,\twalk_length: 10\tbuilding a DeepWalk model...\tnumber of walks: 124920\taverage walk length: 9.8983\ttraining time: 22.2103\n",
      "auc: 0.9182\n",
      "node dim: 5,\tnum_walks: 15,\twalk_length: 15\tbuilding a DeepWalk model...\tnumber of walks: 124920\taverage walk length: 14.8291\ttraining time: 27.8025\n",
      "auc: 0.9177\n",
      "node dim: 5,\tnum_walks: 15,\twalk_length: 20\tbuilding a DeepWalk model...\tnumber of walks: 124920\taverage walk length: 19.7553\ttraining time: 33.9843\n",
      "auc: 0.9150\n",
      "node dim: 5,\tnum_walks: 20,\twalk_length: 5\tbuilding a DeepWalk model...\tnumber of walks: 166560\taverage walk length: 4.9630\ttraining time: 21.5864\n",
      "auc: 0.9098\n",
      "node dim: 5,\tnum_walks: 20,\twalk_length: 10\tbuilding a DeepWalk model...\tnumber of walks: 166560\taverage walk length: 9.8981\ttraining time: 29.3473\n",
      "auc: 0.9173\n",
      "node dim: 5,\tnum_walks: 20,\twalk_length: 15\tbuilding a DeepWalk model...\tnumber of walks: 166560\taverage walk length: 14.8288\ttraining time: 37.3481\n",
      "auc: 0.9191\n",
      "node dim: 5,\tnum_walks: 20,\twalk_length: 20\tbuilding a DeepWalk model...\tnumber of walks: 166560\taverage walk length: 19.7587\ttraining time: 51.1827\n",
      "auc: 0.9182\n",
      "node dim: 10,\tnum_walks: 5,\twalk_length: 5\tbuilding a DeepWalk model...\tnumber of walks: 41640\taverage walk length: 4.9622\ttraining time: 6.4450\n",
      "auc: 0.8649\n",
      "node dim: 10,\tnum_walks: 5,\twalk_length: 10\tbuilding a DeepWalk model...\tnumber of walks: 41640\taverage walk length: 9.8976\ttraining time: 8.3248\n",
      "auc: 0.9130\n",
      "node dim: 10,\tnum_walks: 5,\twalk_length: 15\tbuilding a DeepWalk model...\tnumber of walks: 41640\taverage walk length: 14.8335\ttraining time: 12.6775\n",
      "auc: 0.9218\n",
      "node dim: 10,\tnum_walks: 5,\twalk_length: 20\tbuilding a DeepWalk model...\tnumber of walks: 41640\taverage walk length: 19.7535\ttraining time: 15.0641\n",
      "auc: 0.9254\n",
      "node dim: 10,\tnum_walks: 10,\twalk_length: 5\tbuilding a DeepWalk model...\tnumber of walks: 83280\taverage walk length: 4.9629\ttraining time: 13.8441\n",
      "auc: 0.9077\n",
      "node dim: 10,\tnum_walks: 10,\twalk_length: 10\tbuilding a DeepWalk model...\tnumber of walks: 83280\taverage walk length: 9.8980\ttraining time: 18.8788\n",
      "auc: 0.9257\n",
      "node dim: 10,\tnum_walks: 10,\twalk_length: 15\tbuilding a DeepWalk model...\tnumber of walks: 83280\taverage walk length: 14.8289\ttraining time: 22.4898\n",
      "auc: 0.9305\n",
      "node dim: 10,\tnum_walks: 10,\twalk_length: 20\tbuilding a DeepWalk model...\tnumber of walks: 83280\taverage walk length: 19.7559\ttraining time: 29.4354\n",
      "auc: 0.9301\n",
      "node dim: 10,\tnum_walks: 15,\twalk_length: 5\tbuilding a DeepWalk model...\tnumber of walks: 124920\taverage walk length: 4.9630\ttraining time: 19.9912\n",
      "auc: 0.9161\n",
      "node dim: 10,\tnum_walks: 15,\twalk_length: 10\tbuilding a DeepWalk model...\tnumber of walks: 124920\taverage walk length: 9.8983\ttraining time: 24.9171\n",
      "auc: 0.9316\n",
      "node dim: 10,\tnum_walks: 15,\twalk_length: 15\tbuilding a DeepWalk model...\tnumber of walks: 124920\taverage walk length: 14.8291\ttraining time: 33.6115\n",
      "auc: 0.9324\n",
      "node dim: 10,\tnum_walks: 15,\twalk_length: 20\tbuilding a DeepWalk model...\tnumber of walks: 124920\taverage walk length: 19.7553\ttraining time: 38.1630\n",
      "auc: 0.9321\n",
      "node dim: 10,\tnum_walks: 20,\twalk_length: 5\tbuilding a DeepWalk model...\tnumber of walks: 166560\taverage walk length: 4.9630\ttraining time: 22.6986\n",
      "auc: 0.9219\n",
      "node dim: 10,\tnum_walks: 20,\twalk_length: 10\tbuilding a DeepWalk model...\tnumber of walks: 166560\taverage walk length: 9.8981\ttraining time: 33.8592\n",
      "auc: 0.9316\n",
      "node dim: 10,\tnum_walks: 20,\twalk_length: 15\tbuilding a DeepWalk model...\tnumber of walks: 166560\taverage walk length: 14.8288\ttraining time: 39.1931\n",
      "auc: 0.9325\n",
      "node dim: 10,\tnum_walks: 20,\twalk_length: 20\tbuilding a DeepWalk model...\tnumber of walks: 166560\taverage walk length: 19.7587\ttraining time: 48.8310\n",
      "auc: 0.9316\n",
      "node dim: 20,\tnum_walks: 5,\twalk_length: 5\tbuilding a DeepWalk model...\tnumber of walks: 41640\taverage walk length: 4.9622\ttraining time: 6.5682\n",
      "auc: 0.8265\n",
      "node dim: 20,\tnum_walks: 5,\twalk_length: 10\tbuilding a DeepWalk model...\tnumber of walks: 41640\taverage walk length: 9.8976\ttraining time: 9.2294\n",
      "auc: 0.8738\n",
      "node dim: 20,\tnum_walks: 5,\twalk_length: 15\tbuilding a DeepWalk model...\tnumber of walks: 41640\taverage walk length: 14.8335\ttraining time: 11.0801\n",
      "auc: 0.8942\n",
      "node dim: 20,\tnum_walks: 5,\twalk_length: 20\tbuilding a DeepWalk model...\tnumber of walks: 41640\taverage walk length: 19.7535\ttraining time: 13.6670\n",
      "auc: 0.9077\n",
      "node dim: 20,\tnum_walks: 10,\twalk_length: 5\tbuilding a DeepWalk model...\tnumber of walks: 83280\taverage walk length: 4.9629\ttraining time: 12.3313\n",
      "auc: 0.8701\n",
      "node dim: 20,\tnum_walks: 10,\twalk_length: 10\tbuilding a DeepWalk model...\tnumber of walks: 83280\taverage walk length: 9.8980\ttraining time: 17.7784\n",
      "auc: 0.9085\n",
      "node dim: 20,\tnum_walks: 10,\twalk_length: 15\tbuilding a DeepWalk model...\tnumber of walks: 83280\taverage walk length: 14.8289\ttraining time: 21.6954\n",
      "auc: 0.9184\n",
      "node dim: 20,\tnum_walks: 10,\twalk_length: 20\tbuilding a DeepWalk model...\tnumber of walks: 83280\taverage walk length: 19.7559\ttraining time: 26.1854\n",
      "auc: 0.9223\n",
      "node dim: 20,\tnum_walks: 15,\twalk_length: 5\tbuilding a DeepWalk model...\tnumber of walks: 124920\taverage walk length: 4.9630\ttraining time: 18.5029\n",
      "auc: 0.8895\n",
      "node dim: 20,\tnum_walks: 15,\twalk_length: 10\tbuilding a DeepWalk model...\tnumber of walks: 124920\taverage walk length: 9.8983\ttraining time: 23.9230\n",
      "auc: 0.9202\n",
      "node dim: 20,\tnum_walks: 15,\twalk_length: 15\tbuilding a DeepWalk model...\tnumber of walks: 124920\taverage walk length: 14.8291\ttraining time: 29.0755\n",
      "auc: 0.9258\n",
      "node dim: 20,\tnum_walks: 15,\twalk_length: 20\tbuilding a DeepWalk model...\tnumber of walks: 124920\taverage walk length: 19.7553\ttraining time: 36.9335\n",
      "auc: 0.9252\n",
      "node dim: 20,\tnum_walks: 20,\twalk_length: 5\tbuilding a DeepWalk model...\tnumber of walks: 166560\taverage walk length: 4.9630\ttraining time: 23.1229\n",
      "auc: 0.9028\n",
      "node dim: 20,\tnum_walks: 20,\twalk_length: 10\tbuilding a DeepWalk model...\tnumber of walks: 166560\taverage walk length: 9.8981\ttraining time: 30.9347\n",
      "auc: 0.9236\n",
      "node dim: 20,\tnum_walks: 20,\twalk_length: 15\tbuilding a DeepWalk model...\tnumber of walks: 166560\taverage walk length: 14.8288\ttraining time: 41.9096\n",
      "auc: 0.9262\n",
      "node dim: 20,\tnum_walks: 20,\twalk_length: 20\tbuilding a DeepWalk model...\tnumber of walks: 166560\taverage walk length: 19.7587\ttraining time: 48.2926\n",
      "auc: 0.9258\n",
      "node dim: 40,\tnum_walks: 5,\twalk_length: 5\tbuilding a DeepWalk model...\tnumber of walks: 41640\taverage walk length: 4.9622\ttraining time: 6.5419\n",
      "auc: 0.7961\n",
      "node dim: 40,\tnum_walks: 5,\twalk_length: 10\tbuilding a DeepWalk model...\tnumber of walks: 41640\taverage walk length: 9.8976\ttraining time: 8.9201\n",
      "auc: 0.8038\n",
      "node dim: 40,\tnum_walks: 5,\twalk_length: 15\tbuilding a DeepWalk model...\tnumber of walks: 41640\taverage walk length: 14.8335\ttraining time: 11.1577\n",
      "auc: 0.8336\n"
     ]
    },
    {
     "name": "stdout",
     "output_type": "stream",
     "text": [
      "node dim: 40,\tnum_walks: 5,\twalk_length: 20\tbuilding a DeepWalk model...\tnumber of walks: 41640\taverage walk length: 19.7535\ttraining time: 13.6559\n",
      "auc: 0.8532\n",
      "node dim: 40,\tnum_walks: 10,\twalk_length: 5\tbuilding a DeepWalk model...\tnumber of walks: 83280\taverage walk length: 4.9629\ttraining time: 12.6189\n",
      "auc: 0.8050\n",
      "node dim: 40,\tnum_walks: 10,\twalk_length: 10\tbuilding a DeepWalk model...\tnumber of walks: 83280\taverage walk length: 9.8980\ttraining time: 17.2255\n",
      "auc: 0.8528\n",
      "node dim: 40,\tnum_walks: 10,\twalk_length: 15\tbuilding a DeepWalk model...\tnumber of walks: 83280\taverage walk length: 14.8289\ttraining time: 21.8283\n",
      "auc: 0.8776\n",
      "node dim: 40,\tnum_walks: 10,\twalk_length: 20\tbuilding a DeepWalk model...\tnumber of walks: 83280\taverage walk length: 19.7559\ttraining time: 24.2501\n",
      "auc: 0.8888\n",
      "node dim: 40,\tnum_walks: 15,\twalk_length: 5\tbuilding a DeepWalk model...\tnumber of walks: 124920\taverage walk length: 4.9630\ttraining time: 16.8428\n",
      "auc: 0.8249\n",
      "node dim: 40,\tnum_walks: 15,\twalk_length: 10\tbuilding a DeepWalk model...\tnumber of walks: 124920\taverage walk length: 9.8983\ttraining time: 22.8157\n",
      "auc: 0.8808\n",
      "node dim: 40,\tnum_walks: 15,\twalk_length: 15\tbuilding a DeepWalk model...\tnumber of walks: 124920\taverage walk length: 14.8291\ttraining time: 31.6212\n",
      "auc: 0.8939\n",
      "node dim: 40,\tnum_walks: 15,\twalk_length: 20\tbuilding a DeepWalk model...\tnumber of walks: 124920\taverage walk length: 19.7553\ttraining time: 38.0192\n",
      "auc: 0.8997\n",
      "node dim: 40,\tnum_walks: 20,\twalk_length: 5\tbuilding a DeepWalk model...\tnumber of walks: 166560\taverage walk length: 4.9630\ttraining time: 24.0253\n",
      "auc: 0.8441\n",
      "node dim: 40,\tnum_walks: 20,\twalk_length: 10\tbuilding a DeepWalk model...\tnumber of walks: 166560\taverage walk length: 9.8981\ttraining time: 32.9631\n",
      "auc: 0.8898\n",
      "node dim: 40,\tnum_walks: 20,\twalk_length: 15\tbuilding a DeepWalk model...\tnumber of walks: 166560\taverage walk length: 14.8288\ttraining time: 39.9436\n",
      "auc: 0.8998\n",
      "node dim: 40,\tnum_walks: 20,\twalk_length: 20\tbuilding a DeepWalk model...\tnumber of walks: 166560\taverage walk length: 19.7587\ttraining time: 46.4249\n",
      "auc: 0.9019\n"
     ]
    }
   ],
   "source": [
    "np.random.seed(0)\n",
    "\n",
    "deepwalk_auc_scores = dict()\n",
    "for node_dim in [5,10,20,40]:\n",
    "    for num_walks in [5,10,15,20]:\n",
    "        for walk_length in [5,10,15,20]:\n",
    "            print(\"node dim: %d,\\tnum_walks: %d,\\twalk_length: %d\" % (node_dim, num_walks, walk_length), end=\"\\t\")\n",
    "            model = build_deepwalk(graph, alias_nodes, \n",
    "                                   node_dim=node_dim, num_walks=num_walks, walk_length=walk_length)\n",
    "            deepwalk_auc_scores[(node_dim, num_walks, walk_length)] = get_auc_score(model, valid_edges, false_edges)\n",
    "            print(\"auc: %.4f\" % (deepwalk_auc_scores[(node_dim, num_walks, walk_length)]))"
   ]
  },
  {
   "cell_type": "code",
   "execution_count": 20,
   "metadata": {},
   "outputs": [
    {
     "name": "stdout",
     "output_type": "stream",
     "text": [
      "node dim: 5,\tnum_walks: 5,\twalk_length: 5,\tp: 0.50,\tq: 0.50\tbuilding a node2vec model...\tnumber of walks: 41640\taverage walk length: 4.9982\ttraining time: 7.6421\n",
      "auc: 0.8755\n",
      "node dim: 5,\tnum_walks: 5,\twalk_length: 10,\tp: 0.50,\tq: 0.50\tbuilding a node2vec model...\tnumber of walks: 41640\taverage walk length: 9.9919\ttraining time: 9.0680\n",
      "auc: 0.9106\n",
      "node dim: 5,\tnum_walks: 5,\twalk_length: 15,\tp: 0.50,\tq: 0.50\tbuilding a node2vec model...\tnumber of walks: 41640\taverage walk length: 14.9837\ttraining time: 11.5390\n",
      "auc: 0.9163\n",
      "node dim: 5,\tnum_walks: 5,\twalk_length: 20,\tp: 0.50,\tq: 0.50\tbuilding a node2vec model...\tnumber of walks: 41640\taverage walk length: 19.9671\ttraining time: 13.7235\n",
      "auc: 0.9097\n",
      "node dim: 5,\tnum_walks: 10,\twalk_length: 5,\tp: 0.50,\tq: 0.50\tbuilding a node2vec model...\tnumber of walks: 83280\taverage walk length: 4.9981\ttraining time: 13.3339\n",
      "auc: 0.9064\n",
      "node dim: 5,\tnum_walks: 10,\twalk_length: 10,\tp: 0.50,\tq: 0.50\tbuilding a node2vec model...\tnumber of walks: 83280\taverage walk length: 9.9918\ttraining time: 19.8946\n",
      "auc: 0.9164\n",
      "node dim: 5,\tnum_walks: 10,\twalk_length: 15,\tp: 0.50,\tq: 0.50\tbuilding a node2vec model...\tnumber of walks: 83280\taverage walk length: 14.9836\ttraining time: 22.1521\n",
      "auc: 0.9191\n",
      "node dim: 5,\tnum_walks: 10,\twalk_length: 20,\tp: 0.50,\tq: 0.50\tbuilding a node2vec model...\tnumber of walks: 83280\taverage walk length: 19.9665\ttraining time: 26.5110\n",
      "auc: 0.9177\n",
      "node dim: 5,\tnum_walks: 15,\twalk_length: 5,\tp: 0.50,\tq: 0.50\tbuilding a node2vec model...\tnumber of walks: 124920\taverage walk length: 4.9981\ttraining time: 19.7442\n",
      "auc: 0.9092\n",
      "node dim: 5,\tnum_walks: 15,\twalk_length: 10,\tp: 0.50,\tq: 0.50\tbuilding a node2vec model...\tnumber of walks: 124920\taverage walk length: 9.9915\ttraining time: 26.3445\n",
      "auc: 0.9175\n",
      "node dim: 5,\tnum_walks: 15,\twalk_length: 15,\tp: 0.50,\tq: 0.50\tbuilding a node2vec model...\tnumber of walks: 124920\taverage walk length: 14.9834\ttraining time: 33.3140\n",
      "auc: 0.9166\n",
      "node dim: 5,\tnum_walks: 15,\twalk_length: 20,\tp: 0.50,\tq: 0.50\tbuilding a node2vec model...\tnumber of walks: 124920\taverage walk length: 19.9682\ttraining time: 40.2091\n",
      "auc: 0.9177\n",
      "node dim: 5,\tnum_walks: 20,\twalk_length: 5,\tp: 0.50,\tq: 0.50\tbuilding a node2vec model...\tnumber of walks: 166560\taverage walk length: 4.9981\ttraining time: 27.7797\n",
      "auc: 0.9133\n",
      "node dim: 5,\tnum_walks: 20,\twalk_length: 10,\tp: 0.50,\tq: 0.50\tbuilding a node2vec model...\tnumber of walks: 166560\taverage walk length: 9.9915\ttraining time: 36.7426\n",
      "auc: 0.9178\n",
      "node dim: 5,\tnum_walks: 20,\twalk_length: 15,\tp: 0.50,\tq: 0.50\tbuilding a node2vec model...\tnumber of walks: 166560\taverage walk length: 14.9828\ttraining time: 45.8239\n",
      "auc: 0.9167\n",
      "node dim: 5,\tnum_walks: 20,\twalk_length: 20,\tp: 0.50,\tq: 0.50\tbuilding a node2vec model...\tnumber of walks: 166560\taverage walk length: 19.9677\ttraining time: 56.1837\n",
      "auc: 0.9163\n",
      "node dim: 10,\tnum_walks: 5,\twalk_length: 5,\tp: 0.50,\tq: 0.50\tbuilding a node2vec model...\tnumber of walks: 41640\taverage walk length: 4.9982\ttraining time: 7.3209\n",
      "auc: 0.8687\n",
      "node dim: 10,\tnum_walks: 5,\twalk_length: 10,\tp: 0.50,\tq: 0.50\tbuilding a node2vec model...\tnumber of walks: 41640\taverage walk length: 9.9919\ttraining time: 9.3301\n",
      "auc: 0.9128\n",
      "node dim: 10,\tnum_walks: 5,\twalk_length: 15,\tp: 0.50,\tq: 0.50\tbuilding a node2vec model...\tnumber of walks: 41640\taverage walk length: 14.9837\ttraining time: 11.5086\n",
      "auc: 0.9241\n",
      "node dim: 10,\tnum_walks: 5,\twalk_length: 20,\tp: 0.50,\tq: 0.50\tbuilding a node2vec model...\tnumber of walks: 41640\taverage walk length: 19.9671\ttraining time: 13.5994\n",
      "auc: 0.9263\n",
      "node dim: 10,\tnum_walks: 10,\twalk_length: 5,\tp: 0.50,\tq: 0.50\tbuilding a node2vec model...\tnumber of walks: 83280\taverage walk length: 4.9981\ttraining time: 13.2345\n",
      "auc: 0.9079\n",
      "node dim: 10,\tnum_walks: 10,\twalk_length: 10,\tp: 0.50,\tq: 0.50\tbuilding a node2vec model...\tnumber of walks: 83280\taverage walk length: 9.9918\ttraining time: 17.7218\n",
      "auc: 0.9271\n",
      "node dim: 10,\tnum_walks: 10,\twalk_length: 15,\tp: 0.50,\tq: 0.50\tbuilding a node2vec model...\tnumber of walks: 83280\taverage walk length: 14.9836\ttraining time: 21.8997\n",
      "auc: 0.9305\n",
      "node dim: 10,\tnum_walks: 10,\twalk_length: 20,\tp: 0.50,\tq: 0.50\tbuilding a node2vec model...\tnumber of walks: 83280\taverage walk length: 19.9665\ttraining time: 28.5285\n",
      "auc: 0.9306\n",
      "node dim: 10,\tnum_walks: 15,\twalk_length: 5,\tp: 0.50,\tq: 0.50\tbuilding a node2vec model...\tnumber of walks: 124920\taverage walk length: 4.9981\ttraining time: 19.7148\n",
      "auc: 0.9184\n",
      "node dim: 10,\tnum_walks: 15,\twalk_length: 10,\tp: 0.50,\tq: 0.50\tbuilding a node2vec model...\tnumber of walks: 124920\taverage walk length: 9.9915\ttraining time: 26.1010\n",
      "auc: 0.9302\n",
      "node dim: 10,\tnum_walks: 15,\twalk_length: 15,\tp: 0.50,\tq: 0.50\tbuilding a node2vec model...\tnumber of walks: 124920\taverage walk length: 14.9834\ttraining time: 32.7198\n",
      "auc: 0.9309\n",
      "node dim: 10,\tnum_walks: 15,\twalk_length: 20,\tp: 0.50,\tq: 0.50\tbuilding a node2vec model...\tnumber of walks: 124920\taverage walk length: 19.9682\ttraining time: 41.0808\n",
      "auc: 0.9308\n",
      "node dim: 10,\tnum_walks: 20,\twalk_length: 5,\tp: 0.50,\tq: 0.50\tbuilding a node2vec model...\tnumber of walks: 166560\taverage walk length: 4.9981\ttraining time: 26.7404\n",
      "auc: 0.9217\n",
      "node dim: 10,\tnum_walks: 20,\twalk_length: 10,\tp: 0.50,\tq: 0.50\tbuilding a node2vec model...\tnumber of walks: 166560\taverage walk length: 9.9915\ttraining time: 36.6501\n",
      "auc: 0.9301\n",
      "node dim: 10,\tnum_walks: 20,\twalk_length: 15,\tp: 0.50,\tq: 0.50\tbuilding a node2vec model...\tnumber of walks: 166560\taverage walk length: 14.9828\ttraining time: 46.3119\n",
      "auc: 0.9302\n",
      "node dim: 10,\tnum_walks: 20,\twalk_length: 20,\tp: 0.50,\tq: 0.50\tbuilding a node2vec model...\tnumber of walks: 166560\taverage walk length: 19.9677\ttraining time: 54.9785\n",
      "auc: 0.9302\n",
      "node dim: 20,\tnum_walks: 5,\twalk_length: 5,\tp: 0.50,\tq: 0.50\tbuilding a node2vec model...\tnumber of walks: 41640\taverage walk length: 4.9982\ttraining time: 7.2020\n",
      "auc: 0.8287\n",
      "node dim: 20,\tnum_walks: 5,\twalk_length: 10,\tp: 0.50,\tq: 0.50\tbuilding a node2vec model...\tnumber of walks: 41640\taverage walk length: 9.9919\ttraining time: 9.9012\n",
      "auc: 0.8812\n",
      "node dim: 20,\tnum_walks: 5,\twalk_length: 15,\tp: 0.50,\tq: 0.50\tbuilding a node2vec model...\tnumber of walks: 41640\taverage walk length: 14.9837\ttraining time: 12.2243\n",
      "auc: 0.9009\n",
      "node dim: 20,\tnum_walks: 5,\twalk_length: 20,\tp: 0.50,\tq: 0.50\tbuilding a node2vec model...\tnumber of walks: 41640\taverage walk length: 19.9671\ttraining time: 14.8602\n",
      "auc: 0.9104\n",
      "node dim: 20,\tnum_walks: 10,\twalk_length: 5,\tp: 0.50,\tq: 0.50\tbuilding a node2vec model...\tnumber of walks: 83280\taverage walk length: 4.9981\ttraining time: 14.3850\n",
      "auc: 0.8711\n",
      "node dim: 20,\tnum_walks: 10,\twalk_length: 10,\tp: 0.50,\tq: 0.50\tbuilding a node2vec model...\tnumber of walks: 83280\taverage walk length: 9.9918\ttraining time: 19.3355\n",
      "auc: 0.9090\n",
      "node dim: 20,\tnum_walks: 10,\twalk_length: 15,\tp: 0.50,\tq: 0.50\tbuilding a node2vec model...\tnumber of walks: 83280\taverage walk length: 14.9836\ttraining time: 23.5482\n",
      "auc: 0.9189\n",
      "node dim: 20,\tnum_walks: 10,\twalk_length: 20,\tp: 0.50,\tq: 0.50\tbuilding a node2vec model...\tnumber of walks: 83280\taverage walk length: 19.9665\ttraining time: 28.4777\n",
      "auc: 0.9223\n",
      "node dim: 20,\tnum_walks: 15,\twalk_length: 5,\tp: 0.50,\tq: 0.50\tbuilding a node2vec model...\tnumber of walks: 124920\taverage walk length: 4.9981\ttraining time: 20.9913\n",
      "auc: 0.8887\n",
      "node dim: 20,\tnum_walks: 15,\twalk_length: 10,\tp: 0.50,\tq: 0.50\tbuilding a node2vec model...\tnumber of walks: 124920\taverage walk length: 9.9915\ttraining time: 27.8986\n",
      "auc: 0.9174\n",
      "node dim: 20,\tnum_walks: 15,\twalk_length: 15,\tp: 0.50,\tq: 0.50\tbuilding a node2vec model...\tnumber of walks: 124920\taverage walk length: 14.9834\ttraining time: 35.1311\n",
      "auc: 0.9229\n",
      "node dim: 20,\tnum_walks: 15,\twalk_length: 20,\tp: 0.50,\tq: 0.50\tbuilding a node2vec model...\tnumber of walks: 124920\taverage walk length: 19.9682\ttraining time: 41.4356\n",
      "auc: 0.9225\n",
      "node dim: 20,\tnum_walks: 20,\twalk_length: 5,\tp: 0.50,\tq: 0.50\tbuilding a node2vec model...\tnumber of walks: 166560\taverage walk length: 4.9981\ttraining time: 27.9088\n",
      "auc: 0.8999\n",
      "node dim: 20,\tnum_walks: 20,\twalk_length: 10,\tp: 0.50,\tq: 0.50\tbuilding a node2vec model...\tnumber of walks: 166560\taverage walk length: 9.9915\ttraining time: 36.3574\n",
      "auc: 0.9222\n"
     ]
    },
    {
     "name": "stdout",
     "output_type": "stream",
     "text": [
      "node dim: 20,\tnum_walks: 20,\twalk_length: 15,\tp: 0.50,\tq: 0.50\tbuilding a node2vec model...\tnumber of walks: 166560\taverage walk length: 14.9828\ttraining time: 45.4480\n",
      "auc: 0.9231\n",
      "node dim: 20,\tnum_walks: 20,\twalk_length: 20,\tp: 0.50,\tq: 0.50\tbuilding a node2vec model...\tnumber of walks: 166560\taverage walk length: 19.9677\ttraining time: 54.5470\n",
      "auc: 0.9229\n",
      "node dim: 40,\tnum_walks: 5,\twalk_length: 5,\tp: 0.50,\tq: 0.50\tbuilding a node2vec model...\tnumber of walks: 41640\taverage walk length: 4.9982\ttraining time: 7.3599\n",
      "auc: 0.7975\n",
      "node dim: 40,\tnum_walks: 5,\twalk_length: 10,\tp: 0.50,\tq: 0.50\tbuilding a node2vec model...\tnumber of walks: 41640\taverage walk length: 9.9919\ttraining time: 10.0334\n",
      "auc: 0.8129\n",
      "node dim: 40,\tnum_walks: 5,\twalk_length: 15,\tp: 0.50,\tq: 0.50\tbuilding a node2vec model...\tnumber of walks: 41640\taverage walk length: 14.9837\ttraining time: 12.1011\n",
      "auc: 0.8402\n",
      "node dim: 40,\tnum_walks: 5,\twalk_length: 20,\tp: 0.50,\tq: 0.50\tbuilding a node2vec model...\tnumber of walks: 41640\taverage walk length: 19.9671\ttraining time: 14.2432\n",
      "auc: 0.8594\n",
      "node dim: 40,\tnum_walks: 10,\twalk_length: 5,\tp: 0.50,\tq: 0.50\tbuilding a node2vec model...\tnumber of walks: 83280\taverage walk length: 4.9981\ttraining time: 14.0407\n",
      "auc: 0.8082\n",
      "node dim: 40,\tnum_walks: 10,\twalk_length: 10,\tp: 0.50,\tq: 0.50\tbuilding a node2vec model...\tnumber of walks: 83280\taverage walk length: 9.9918\ttraining time: 18.9214\n",
      "auc: 0.8585\n",
      "node dim: 40,\tnum_walks: 10,\twalk_length: 15,\tp: 0.50,\tq: 0.50\tbuilding a node2vec model...\tnumber of walks: 83280\taverage walk length: 14.9836\ttraining time: 23.4849\n",
      "auc: 0.8789\n",
      "node dim: 40,\tnum_walks: 10,\twalk_length: 20,\tp: 0.50,\tq: 0.50\tbuilding a node2vec model...\tnumber of walks: 83280\taverage walk length: 19.9665\ttraining time: 27.9098\n",
      "auc: 0.8876\n",
      "node dim: 40,\tnum_walks: 15,\twalk_length: 5,\tp: 0.50,\tq: 0.50\tbuilding a node2vec model...\tnumber of walks: 124920\taverage walk length: 4.9981\ttraining time: 20.6751\n",
      "auc: 0.8256\n",
      "node dim: 40,\tnum_walks: 15,\twalk_length: 10,\tp: 0.50,\tq: 0.50\tbuilding a node2vec model...\tnumber of walks: 124920\taverage walk length: 9.9915\ttraining time: 27.6634\n",
      "auc: 0.8781\n",
      "node dim: 40,\tnum_walks: 15,\twalk_length: 15,\tp: 0.50,\tq: 0.50\tbuilding a node2vec model...\tnumber of walks: 124920\taverage walk length: 14.9834\ttraining time: 34.7561\n",
      "auc: 0.8910\n",
      "node dim: 40,\tnum_walks: 15,\twalk_length: 20,\tp: 0.50,\tq: 0.50\tbuilding a node2vec model...\tnumber of walks: 124920\taverage walk length: 19.9682\ttraining time: 46.0930\n",
      "auc: 0.8952\n",
      "node dim: 40,\tnum_walks: 20,\twalk_length: 5,\tp: 0.50,\tq: 0.50\tbuilding a node2vec model...\tnumber of walks: 166560\taverage walk length: 4.9981\ttraining time: 27.1900\n",
      "auc: 0.8417\n",
      "node dim: 40,\tnum_walks: 20,\twalk_length: 10,\tp: 0.50,\tq: 0.50\tbuilding a node2vec model...\tnumber of walks: 166560\taverage walk length: 9.9915\ttraining time: 36.9442\n",
      "auc: 0.8885\n",
      "node dim: 40,\tnum_walks: 20,\twalk_length: 15,\tp: 0.50,\tq: 0.50\tbuilding a node2vec model...\tnumber of walks: 166560\taverage walk length: 14.9828\ttraining time: 46.2152\n",
      "auc: 0.8961\n",
      "node dim: 40,\tnum_walks: 20,\twalk_length: 20,\tp: 0.50,\tq: 0.50\tbuilding a node2vec model...\tnumber of walks: 166560\taverage walk length: 19.9677\ttraining time: 56.0311\n",
      "auc: 0.8991\n"
     ]
    }
   ],
   "source": [
    "np.random.seed(0)\n",
    "\n",
    "p = 0.5\n",
    "q = 0.5\n",
    "\n",
    "node2vec_auc_scores = dict()\n",
    "\n",
    "for node_dim in [5,10,20,40]:\n",
    "    for num_walks in [5,10,15,20]:\n",
    "        for walk_length in [5,10,15,20]:\n",
    "            print(\"node dim: %d,\\tnum_walks: %d,\\twalk_length: %d,\\tp: %.2f,\\tq: %.2f\" % (\n",
    "                node_dim, num_walks, walk_length, p, q), end=\"\\t\")\n",
    "            alias_nodes, alias_edges = preprocess_transition_probs(graph, p=p, q=q)\n",
    "            model = build_node2vec(graph, alias_nodes, alias_edges, \n",
    "                                   node_dim=node_dim, num_walks=num_walks, walk_length=walk_length)\n",
    "            node2vec_auc_scores[(node_dim, num_walks, walk_length, p, q)] = get_auc_score(model, valid_edges, false_edges)\n",
    "            print(\"auc: %.4f\" % (node2vec_auc_scores[(node_dim, num_walks, walk_length, p, q)]))"
   ]
  },
  {
   "cell_type": "markdown",
   "metadata": {},
   "source": [
    "Example of using Heatmap to viualize the result."
   ]
  },
  {
   "cell_type": "code",
   "execution_count": 96,
   "metadata": {},
   "outputs": [
    {
     "data": {
      "image/png": "[encoded data removed]",
      "text/plain": [
       "<Figure size 432x288 with 2 Axes>"
      ]
     },
     "metadata": {
      "needs_background": "light"
     },
     "output_type": "display_data"
    }
   ],
   "source": [
    "from mpl_toolkits.mplot3d import Axes3D\n",
    "\n",
    "fig = plt.figure()\n",
    "ax = fig.add_subplot(111, projection='3d')\n",
    "dw_auc = np.array([[deepwalk_auc_scores[(node_dim, num_walks, walk_length)] for node_dim in [5,10,20,40] for walk_length in [5,10,15,20]] for num_walks in [5,10,15,20]])\n",
    "\n",
    "x = np.array([5,5,5,5,5,5,5,5,5,5,5,5,5,5,5,5,10,10,10,10,10,10,10,10,10,10,10,10,10,10,10,10,20,20,20,20,20,20,20,20,20,20,20,20,20,20,20,20,40,40,40,40,40,40,40,40,40,40,40,40,40,40,40,40])\n",
    "y = np.array([5,5,5,5,10,10,10,10,15,15,15,15,20,20,20,20,5,5,5,5,10,10,10,10,15,15,15,15,20,20,20,20,5,5,5,5,10,10,10,10,15,15,15,15,20,20,20,20,5,5,5,5,10,10,10,10,15,15,15,15,20,20,20,20])\n",
    "z = np.array([5,10,15,20,5,10,15,20,5,10,15,20,5,10,15,20,5,10,15,20,5,10,15,20,5,10,15,20,5,10,15,20,5,10,15,20,5,10,15,20,5,10,15,20,5,10,15,20,5,10,15,20,5,10,15,20,5,10,15,20,5,10,15,20])\n",
    "c = dw_auc\n",
    "\n",
    "\n",
    "ax.set_xlabel('node_dim')\n",
    "ax.set_ylabel('num_walks')\n",
    "ax.set_zlabel('walk_length')\n",
    "\n",
    "img = ax.scatter(x, y, z, c=c, s=30, cmap=plt.jet())\n",
    "fig.colorbar(img)\n",
    "plt.show()"
   ]
  },
  {
   "cell_type": "code",
   "execution_count": 99,
   "metadata": {},
   "outputs": [
    {
     "data": {
      "image/png": "[encoded data removed]",
      "text/plain": [
       "<Figure size 432x288 with 2 Axes>"
      ]
     },
     "metadata": {
      "needs_background": "light"
     },
     "output_type": "display_data"
    }
   ],
   "source": [
    "from mpl_toolkits.mplot3d import Axes3D\n",
    "\n",
    "fig = plt.figure()\n",
    "ax = fig.add_subplot(111, projection='3d')\n",
    "p = 0.5\n",
    "q = 0.5\n",
    "n2v_auc = np.array([[node2vec_auc_scores[(node_dim, num_walks, walk_length, p, q)] for node_dim in [5,10,20,40] for walk_length in [5,10,15,20]] for num_walks in [5,10,15,20]])\n",
    "\n",
    "x = np.array([5,5,5,5,5,5,5,5,5,5,5,5,5,5,5,5,10,10,10,10,10,10,10,10,10,10,10,10,10,10,10,10,20,20,20,20,20,20,20,20,20,20,20,20,20,20,20,20,40,40,40,40,40,40,40,40,40,40,40,40,40,40,40,40])\n",
    "y = np.array([5,5,5,5,10,10,10,10,15,15,15,15,20,20,20,20,5,5,5,5,10,10,10,10,15,15,15,15,20,20,20,20,5,5,5,5,10,10,10,10,15,15,15,15,20,20,20,20,5,5,5,5,10,10,10,10,15,15,15,15,20,20,20,20])\n",
    "z = np.array([5,10,15,20,5,10,15,20,5,10,15,20,5,10,15,20,5,10,15,20,5,10,15,20,5,10,15,20,5,10,15,20,5,10,15,20,5,10,15,20,5,10,15,20,5,10,15,20,5,10,15,20,5,10,15,20,5,10,15,20,5,10,15,20])\n",
    "c = n2v_auc\n",
    "\n",
    "\n",
    "ax.set_xlabel('node_dim')\n",
    "ax.set_ylabel('num_walks')\n",
    "ax.set_zlabel('walk_length')\n",
    "\n",
    "img = ax.scatter(x, y, z, c=c, s=30, cmap=plt.jet())\n",
    "fig.colorbar(img)\n",
    "plt.show()"
   ]
  },
  {
   "cell_type": "markdown",
   "metadata": {},
   "source": [
    "You can build model with the best parameters you find and save the prediction here."
   ]
  },
  {
   "cell_type": "code",
   "execution_count": null,
   "metadata": {},
   "outputs": [],
   "source": [
    "model = build_deepwalk(graph, alias_nodes, node_dim=10, num_walks=10, walk_length=10)\n",
    "scores = [get_cosine_sim(model, src, dst) for src, dst in test_edges]\n",
    "write_pred(\"data/pred.csv\", test_edges, scores)"
   ]
  },
  {
   "cell_type": "markdown",
   "metadata": {},
   "source": [
    "DEEPWAK_TUNING"
   ]
  },
  {
   "cell_type": "code",
   "execution_count": null,
   "metadata": {},
   "outputs": [],
   "source": [
    "import optuna\n",
    "def objective(trial,graph,alias_nodes,alias_edges):\n",
    "    np.random.seed(0)\n",
    "    \n",
    "    node_dim = trial.suggest_categorical(\"node_dim\",[5,10,20,40])\n",
    "    num_walks = trial.suggest_categorical(\"num_walks\",[5,10,15,20])\n",
    "    walk_length = trial.suggest_categorical(\"walk_length\",[5,10,15,20])\n",
    "    deepwalk_auc_scores = dict()\n",
    "\n",
    "    print(\"node dim: %d,\\tnum_walks: %d,\\twalk_length: %d\" % (node_dim, num_walks, walk_length), end=\"\\t\")\n",
    "    model = build_deepwalk(graph, alias_nodes, \n",
    "                           node_dim=node_dim, num_walks=num_walks, walk_length=walk_length)\n",
    "    deepwalk_auc_scores[(node_dim, num_walks, walk_length)] = get_auc_score(model, valid_edges, false_edges)\n",
    "    print(\"auc: %.4f\" % (deepwalk_auc_scores[(node_dim, num_walks, walk_length)]))\n",
    "    return (deepwalk_auc_scores[(node_dim, num_walks, walk_length)])\n",
    "\n",
    "study = optuna.create_study(direction = 'maximize')\n",
    "study.optimize(lambda trial:objective(trial,graph=graph,alias_nodes=alias_nodes,alias_edges=alias_edges), n_trials=100)\n",
    "\n",
    "study.best_params"
   ]
  },
  {
   "cell_type": "markdown",
   "metadata": {},
   "source": [
    "NODE2VEC TUNING"
   ]
  },
  {
   "cell_type": "code",
   "execution_count": null,
   "metadata": {},
   "outputs": [],
   "source": [
    "def objective_node2vec(trial,graph,alias_nodes,alias_edges):\n",
    "    np.random.seed(0)\n",
    "    \n",
    "    node_dim = trial.suggest_categorical(\"node_dim\",[5,10,20,40])\n",
    "    num_walks = trial.suggest_categorical(\"num_walks\",[5,10,15,20])\n",
    "    walk_length = trial.suggest_categorical(\"walk_length\",[5,10,15,20])\n",
    "    p = trial.suggest_float('p',0.01,1)\n",
    "    q = trial.suggest_float('q',0.01,1)\n",
    "\n",
    "    node2vec_auc_scores = dict()\n",
    "    print(\"node dim: %d,\\tnum_walks: %d,\\twalk_length: %d,\\tp: %.2f,\\tq: %.2f\" % (\n",
    "        node_dim, num_walks, walk_length, p, q), end=\"\\t\")\n",
    "    alias_nodes, alias_edges = preprocess_transition_probs(graph, p=p, q=q)\n",
    "    model = build_node2vec(graph, alias_nodes, alias_edges, \n",
    "                           node_dim=node_dim, num_walks=num_walks, walk_length=walk_length)\n",
    "    node2vec_auc_scores[(node_dim, num_walks, walk_length, p, q)] = get_auc_score(model, valid_edges, false_edges)\n",
    "    print(\"auc: %.4f\" % (node2vec_auc_scores[(node_dim, num_walks, walk_length, p, q)]))\n",
    "    return (node2vec_auc_scores[(node_dim, num_walks, walk_length, p, q)])\n",
    "\n",
    "study_node2vec = optuna.create_study(direction = 'maximize')\n",
    "study_node2vec.optimize(lambda trial:objective_node2vec(trial,graph=graph,alias_nodes=alias_nodes,alias_edges=alias_edges), n_trials=100)\n",
    "\n",
    "study_node2vec.best_params"
   ]
  },
  {
   "cell_type": "markdown",
   "metadata": {},
   "source": [
    "use best parameters {'node_dim': 10, 'num_walks': 15, 'walk_length': 15}"
   ]
  },
  {
   "cell_type": "code",
   "execution_count": null,
   "metadata": {},
   "outputs": [],
   "source": [
    "model = build_deepwalk(graph, alias_nodes, node_dim=10, num_walks=15, walk_length=15)\n",
    "scores = [get_cosine_sim(model, src, dst) for src, dst in test_edges]\n",
    "write_pred(\"data/pred.csv\", test_edges, scores)"
   ]
  },
  {
   "cell_type": "markdown",
   "metadata": {},
   "source": [
    "With the help of p and q, the node2vec model can fit training data better. And you can have a try if you set p=q=1, the two models will return the same results."
   ]
  }
 ],
 "metadata": {
  "kernelspec": {
   "display_name": "Python 3",
   "language": "python",
   "name": "python3"
  },
  "language_info": {
   "codemirror_mode": {
    "name": "ipython",
    "version": 3
   },
   "file_extension": ".py",
   "mimetype": "text/x-python",
   "name": "python",
   "nbconvert_exporter": "python",
   "pygments_lexer": "ipython3",
   "version": "3.8.5"
  }
 },
 "nbformat": 4,
 "nbformat_minor": 4
}
