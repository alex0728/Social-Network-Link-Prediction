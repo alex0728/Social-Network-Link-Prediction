{
 "cells": [
  {
   "cell_type": "code",
   "execution_count": 2,
   "metadata": {},
   "outputs": [],
   "source": [
    "import networkx as nx\n",
    "import numpy as np\n",
    "import os\n",
    "import time\n",
    "import pandas as pd\n",
    "import matplotlib.pyplot as plt\n",
    "from itertools import chain\n",
    "from collections import defaultdict\n",
    "from gensim.models import Word2Vec\n",
    "from sklearn.model_selection import KFold\n",
    "from sklearn.metrics import roc_auc_score"
   ]
  },
  {
   "cell_type": "markdown",
   "metadata": {},
   "source": [
    "# Pipeline"
   ]
  },
  {
   "cell_type": "markdown",
   "metadata": {},
   "source": [
    "### Data Loader"
   ]
  },
  {
   "cell_type": "markdown",
   "metadata": {},
   "source": [
    "We need to load networks into memory. Usually networks are organized as pairs of nodes. And sometimes different edges have different weights. Hence, we use networkx.DiGraph to store such structure information and attributes."
   ]
  },
  {
   "cell_type": "code",
   "execution_count": 3,
   "metadata": {},
   "outputs": [],
   "source": [
    "def load_data(file_name): \n",
    "    \"\"\"\n",
    "    read edges from an edge file\n",
    "    \"\"\"\n",
    "    edges = list()\n",
    "    df = pd.read_csv(file_name)\n",
    "    for idx, row in df.iterrows():\n",
    "        user_id, friends = row[\"user_id\"], eval(row[\"friends\"])\n",
    "        for friend in friends:\n",
    "            # add each friend relation as an edge\n",
    "            edges.append((user_id, friend))\n",
    "    edges = sorted(edges)\n",
    "    \n",
    "    return edges\n",
    "\n",
    "def load_test_data(file_name):\n",
    "    \"\"\"\n",
    "    read edges from an edge file\n",
    "    \"\"\"\n",
    "    edges = list()\n",
    "    scores = list()\n",
    "    df = pd.read_csv(file_name)\n",
    "    for idx, row in df.iterrows():\n",
    "        edges.append((row[\"src\"], row[\"dst\"]))\n",
    "    edges = sorted(edges)\n",
    "    \n",
    "    return edges\n",
    "\n",
    "def generate_false_edges(true_edges, num_false_edges=5):\n",
    "    \"\"\"\n",
    "    generate false edges given true edges\n",
    "    \"\"\"\n",
    "    nodes = list(set(chain.from_iterable(true_edges)))\n",
    "    N = len(nodes)\n",
    "    true_edges = set(true_edges)\n",
    "    print(N, len(true_edges))\n",
    "    false_edges = set()\n",
    "    \n",
    "    while len(false_edges) < num_false_edges:\n",
    "        # randomly sample two different nodes and check whether the pair exisit or not\n",
    "        src, dst = nodes[int(np.random.rand() * N)], nodes[int(np.random.rand() * N)]\n",
    "        if src != dst and (src, dst) not in true_edges and (src, dst) not in false_edges:\n",
    "            false_edges.add((src, dst))\n",
    "    false_edges = sorted(false_edges)\n",
    "    \n",
    "    return false_edges\n",
    "\n",
    "def construct_graph_from_edges(edges):\n",
    "    \"\"\"\n",
    "    generate a directed graph object given true edges\n",
    "    DiGraph documentation: https://networkx.github.io/documentation/stable/reference/classes/digraph.html\n",
    "    \"\"\"\n",
    "    # convert a list of edges {(u, v)} to a list of edges with weights {(u, v, w)}\n",
    "    edge_weight = defaultdict(float)\n",
    "    for e in edges:\n",
    "        edge_weight[e] += 1.0\n",
    "    weighed_edge_list = list()\n",
    "    for e in sorted(edge_weight.keys()):\n",
    "        weighed_edge_list.append((e[0], e[1], edge_weight[e]))\n",
    "        \n",
    "    graph = nx.DiGraph()\n",
    "    graph.add_weighted_edges_from(weighed_edge_list)\n",
    "    \n",
    "    print(\"number of nodes:\", graph.number_of_nodes())\n",
    "    print(\"number of edges:\", graph.number_of_edges())\n",
    "    \n",
    "    return graph"
   ]
  },
  {
   "cell_type": "markdown",
   "metadata": {},
   "source": [
    "### Random Walk Generator"
   ]
  },
  {
   "cell_type": "markdown",
   "metadata": {},
   "source": [
    "Random walk generators or random walkers yield random walks that contain both local and higher-order neighborhood information. However, naive non-uniform sampling is very slow, which requires O(n) time complexity. Here alias sampling can reduce the time complexity to O(1) with O(n) space. If you are interested, please see the following blog."
   ]
  },
  {
   "cell_type": "code",
   "execution_count": 4,
   "metadata": {},
   "outputs": [],
   "source": [
    "def alias_setup(probs):\n",
    "    \"\"\"\n",
    "    compute utility lists for non-uniform sampling from discrete distributions.\n",
    "    details: https://lips.cs.princeton.edu/the-alias-method-efficient-sampling-with-many-discrete-outcomes/\n",
    "    \"\"\"\n",
    "    K = len(probs)\n",
    "    q = np.zeros(K)\n",
    "    J = np.zeros(K, dtype=np.int)\n",
    "\n",
    "    smaller = list()\n",
    "    larger = list()\n",
    "    for kk, prob in enumerate(probs):\n",
    "        q[kk] = K * prob\n",
    "        if q[kk] < 1.0:\n",
    "            smaller.append(kk)\n",
    "        else:\n",
    "            larger.append(kk)\n",
    "\n",
    "    while len(smaller) > 0 and len(larger) > 0:\n",
    "        small = smaller.pop()\n",
    "        large = larger.pop()\n",
    "\n",
    "        J[small] = large\n",
    "        q[large] = q[large] + q[small] - 1.0\n",
    "        if q[large] < 1.0:\n",
    "            smaller.append(large)\n",
    "        else:\n",
    "            larger.append(large)\n",
    "\n",
    "    return J, q\n",
    "\n",
    "def get_alias_node(graph, node):\n",
    "    \"\"\"\n",
    "    get the alias node setup lists for a given node.\n",
    "    \"\"\"\n",
    "    # get the unnormalized probabilities with the first-order information\n",
    "    unnormalized_probs = list()\n",
    "    for nbr in graph.neighbors(node):\n",
    "        unnormalized_probs.append(graph[node][nbr][\"weight\"])\n",
    "    unnormalized_probs = np.array(unnormalized_probs)\n",
    "    if len(unnormalized_probs) > 0:\n",
    "        normalized_probs = unnormalized_probs / unnormalized_probs.sum()\n",
    "    else:\n",
    "        normalized_probs = unnormalized_probs\n",
    "        \n",
    "    return alias_setup(normalized_probs)\n",
    "    \n",
    "def get_alias_edge(graph, src, dst, p=1, q=1):\n",
    "    \"\"\"\n",
    "    get the alias edge setup lists for a given edge.\n",
    "    \"\"\"\n",
    "    # get the unnormalized probabilities with the second-order information\n",
    "    unnormalized_probs = list()\n",
    "    for dst_nbr in graph.neighbors(dst):\n",
    "        if dst_nbr == src: # distance is 0\n",
    "            unnormalized_probs.append(graph[dst][dst_nbr][\"weight\"]/p)\n",
    "        elif graph.has_edge(dst_nbr, src): # distance is 1\n",
    "            unnormalized_probs.append(graph[dst][dst_nbr][\"weight\"])\n",
    "        else: # distance is 2\n",
    "            unnormalized_probs.append(graph[dst][dst_nbr][\"weight\"]/q)\n",
    "    unnormalized_probs = np.array(unnormalized_probs)\n",
    "    if len(unnormalized_probs) > 0:\n",
    "        normalized_probs = unnormalized_probs / unnormalized_probs.sum()\n",
    "    else:\n",
    "        normalized_probs = unnormalized_probs\n",
    "\n",
    "    return alias_setup(normalized_probs)\n",
    "\n",
    "def preprocess_transition_probs(graph, p=1, q=1):\n",
    "    \"\"\"\n",
    "    preprocess transition probabilities for guiding the random walks.\n",
    "    \"\"\"\n",
    "    alias_nodes = dict()\n",
    "    for node in graph.nodes():\n",
    "        alias_nodes[node] = get_alias_node(graph, node)\n",
    "\n",
    "    alias_edges = dict()\n",
    "    for edge in graph.edges():\n",
    "        alias_edges[edge] = get_alias_edge(graph, edge[0], edge[1], p=p, q=q)\n",
    "\n",
    "    return alias_nodes, alias_edges"
   ]
  },
  {
   "cell_type": "markdown",
   "metadata": {},
   "source": [
    "The difference between DeepWalk and node2vec is how to generate random walks. The former only consider the first-order information while the latter also involves the second-order information."
   ]
  },
  {
   "cell_type": "code",
   "execution_count": 5,
   "metadata": {},
   "outputs": [],
   "source": [
    "def alias_draw(J, q):\n",
    "    \"\"\"\n",
    "    draw sample from a non-uniform discrete distribution using alias sampling.\n",
    "    \"\"\"\n",
    "    K = len(J)\n",
    "\n",
    "    kk = int(np.floor(np.random.rand() * K))\n",
    "    if np.random.rand() < q[kk]:\n",
    "        return kk\n",
    "    else:\n",
    "        return J[kk]\n",
    "\n",
    "\n",
    "# helper function to generate the long random walk as desired\n",
    "def fallback(walk, fetch_last_num=1):\n",
    "    if len(walk) > fetch_last_num:\n",
    "        walk.pop()\n",
    "        fetched = []\n",
    "        for i in range(fetch_last_num):\n",
    "            fetched.append(walk[-1-i])\n",
    "        return walk, fetched\n",
    "    else:\n",
    "        return [], [None for _ in range(fetch_last_num)]\n",
    "\n",
    "def generate_first_order_random_walk(graph, alias_nodes, \n",
    "                                     walk_length=10, start_node=None, verbose=False, max_trails=10):\n",
    "    \"\"\"\n",
    "    simulate a random walk starting from start node and considering the first order information.\n",
    "    max_trials: set the max trials to be one for standard random walk. Larger max_trails will make the generated biased.\n",
    "    \"\"\"\n",
    "    if start_node == None:\n",
    "        start_node = np.random.choice(graph.nodes())\n",
    "    walk = [start_node]\n",
    "    cur = start_node\n",
    "    num_tried = 0\n",
    "    \n",
    "    ########## begin ##########\n",
    "    while len(walk) < walk_length:\n",
    "        cur_nbrs = list(graph.neighbors(cur))\n",
    "        if len(cur_nbrs) > 0: # if we can sample next nodes\n",
    "            # sample the next node based on alias_nodes\n",
    "            cur = cur_nbrs[alias_draw(*alias_nodes[cur])]\n",
    "            walk.append(cur)\n",
    "        else: # if we can't do that\n",
    "            num_tried += 1\n",
    "            if num_tried >= max_trails:\n",
    "                break\n",
    "\n",
    "            walk, fetched = fallback(walk, fetch_last_num=1)\n",
    "            cur = fetched[0]\n",
    "            if len(walk) == 0: # if falls back to the empty walk\n",
    "                start_node = np.random.choice(graph.nodes())\n",
    "                walk = [start_node]\n",
    "                cur = start_node\n",
    "    ########## end ##########\n",
    "\n",
    "    if verbose: \n",
    "        print(f'walk of lenght {len(walk)} generated with {num_tried} trails')\n",
    "    return walk\n",
    "    \n",
    "def generate_second_order_random_walk(graph, alias_nodes, alias_edges, \n",
    "                                      walk_length=10, start_node=None, verbose=False, max_trails=10):\n",
    "    \"\"\"\n",
    "    simulate a random walk starting from start node and considering the second order information.\n",
    "    \"\"\"\n",
    "    if start_node == None:\n",
    "        start_node = np.random.choice(graph.nodes())\n",
    "    walk = [start_node]\n",
    "    \n",
    "    prev = None\n",
    "    cur = start_node\n",
    "    num_tried = 0\n",
    "\n",
    "    ########## begin ##########\n",
    "    while len(walk) < walk_length:\n",
    "        cur_nbrs = list(graph.neighbors(cur))\n",
    "        if len(cur_nbrs) > 0:\n",
    "            if prev is None:\n",
    "                # sample the next node based on alias_nodes\n",
    "                prev, cur = cur, cur_nbrs[alias_draw(*alias_nodes[cur])]\n",
    "            else:\n",
    "                # sample the next node based on alias_edges\n",
    "                prev, cur = cur, cur_nbrs[alias_draw(*alias_edges[(prev, cur)])]\n",
    "            walk.append(cur)\n",
    "        else:\n",
    "            num_tried += 1\n",
    "            if num_tried >= max_trails:\n",
    "                break\n",
    "            walk, (cur, prev) = fallback(walk, fetch_last_num=2)\n",
    "            if len(walk) == 0:\n",
    "                start_node = np.random.choice(graph.nodes())\n",
    "                walk = [start_node]\n",
    "                cur = start_node\n",
    "                prev = None\n",
    "    ########## end ##########\n",
    "    if verbose: \n",
    "        print(f'walk of lenght {len(walk)} generated with {num_tried} trails')\n",
    "    return walk"
   ]
  },
  {
   "cell_type": "markdown",
   "metadata": {},
   "source": [
    "### Network Embedding Algorithms"
   ]
  },
  {
   "cell_type": "code",
   "execution_count": 6,
   "metadata": {},
   "outputs": [],
   "source": [
    "def build_deepwalk(graph, alias_nodes, node_dim=10, num_walks=10, walk_length=10):\n",
    "    \"\"\"\n",
    "    build a deepwalk model\n",
    "    \"\"\"\n",
    "    print(\"building a DeepWalk model...\", end=\"\\t\")\n",
    "    st = time.time()\n",
    "    np.random.seed(0)\n",
    "    nodes = list(graph.nodes())\n",
    "    walks = list()\n",
    "    # generate random walks\n",
    "    for walk_iter in range(num_walks):\n",
    "        np.random.shuffle(nodes)\n",
    "        for node in nodes:\n",
    "            walks.append(generate_first_order_random_walk(\n",
    "                graph, alias_nodes, walk_length=walk_length, start_node=node))\n",
    "        \n",
    "    walk_lens = [len(w) for w in walks]\n",
    "    if len(walk_lens) > 0:\n",
    "        avg_walk_len = sum(walk_lens) / len(walk_lens)\n",
    "    else:\n",
    "        avg_walk_len = 0.0\n",
    "    print(\"number of walks: %d\\taverage walk length: %.4f\" % (len(walks), avg_walk_len), end=\"\\t\")\n",
    "    \n",
    "    # train a skip-gram model for these walks\n",
    "    model = Word2Vec(walks, vector_size=node_dim, window=3, min_count=0, sg=1, workers=os.cpu_count(), epochs=10)\n",
    "    print(\"training time: %.4f\" % (time.time()-st))\n",
    "    \n",
    "    return model\n",
    "\n",
    "def build_node2vec(graph, alias_nodes, alias_edges, node_dim=10, num_walks=10, walk_length=10):\n",
    "    \"\"\"\n",
    "    build a node2vec model\n",
    "    \"\"\"\n",
    "    print(\"building a node2vec model...\", end=\"\\t\")\n",
    "    st = time.time()\n",
    "    np.random.seed(0)\n",
    "    nodes = list(graph.nodes())\n",
    "    walks = list()\n",
    "    # generate random walks\n",
    "    for walk_iter in range(num_walks):\n",
    "        np.random.shuffle(nodes)\n",
    "        for node in nodes:\n",
    "            walks.append(generate_second_order_random_walk(\n",
    "                graph, alias_nodes, alias_edges, walk_length=walk_length, start_node=node))\n",
    "            \n",
    "    walk_lens = [len(w) for w in walks]\n",
    "    if len(walk_lens) > 0:\n",
    "        avg_walk_len = sum(walk_lens) / len(walk_lens)\n",
    "    else:\n",
    "        avg_walk_len = 0.0    \n",
    "    print(\"number of walks: %d\\taverage walk length: %.4f\" % (len(walks), avg_walk_len), end=\"\\t\")\n",
    "    \n",
    "    # train a skip-gram model for these walks\n",
    "    model = Word2Vec(walks, vector_size=node_dim, window=3, min_count=0, sg=1, workers=os.cpu_count(), epochs=10)\n",
    "    print(\"training time: %.4f\" % (time.time()-st))\n",
    "    \n",
    "    return model"
   ]
  },
  {
   "cell_type": "markdown",
   "metadata": {},
   "source": [
    "### Scorer"
   ]
  },
  {
   "cell_type": "code",
   "execution_count": 7,
   "metadata": {},
   "outputs": [],
   "source": [
    "def get_cosine_sim(model, u, v):\n",
    "    \"\"\"\n",
    "    get the cosine similarity between two nodes\n",
    "    \"\"\"\n",
    "    try:\n",
    "        u = model.wv[u]\n",
    "        v = model.wv[v]\n",
    "        return np.dot(u, v) / (np.linalg.norm(u) * np.linalg.norm(v))\n",
    "    except:\n",
    "        return 0.5\n",
    "\n",
    "def get_auc_score(model, true_edges, false_edges):\n",
    "    \"\"\"\n",
    "    get the auc score\n",
    "    \"\"\"\n",
    "    y_true = [1] * len(true_edges) + [0] * len(false_edges)\n",
    "    \n",
    "    y_score = list()\n",
    "    for e in true_edges:\n",
    "        y_score.append(get_cosine_sim(model, e[0], e[1]))\n",
    "    for e in false_edges:\n",
    "        y_score.append(get_cosine_sim(model, e[0], e[1]))\n",
    "    \n",
    "    return roc_auc_score(y_true, y_score)\n",
    "\n",
    "def write_pred(file_name, edges, scores):\n",
    "    df = pd.DataFrame()\n",
    "    df[\"src\"] = [e[0] for e in edges]\n",
    "    df[\"dst\"] = [e[1] for e in edges]\n",
    "    df[\"score\"] = scores\n",
    "    df.to_csv(file_name, index=False)\n",
    "\n",
    "\n",
    "def write_valid_ans(file_name, edges, scores):\n",
    "    df = pd.DataFrame()\n",
    "    df[\"src\"] = [e[0] for e in edges]\n",
    "    df[\"dst\"] = [e[1] for e in edges]\n",
    "    df[\"score\"] = scores\n",
    "    df.to_csv(file_name, index=False)"
   ]
  },
  {
   "cell_type": "markdown",
   "metadata": {},
   "source": [
    "### Try them over a Real-life Network"
   ]
  },
  {
   "cell_type": "markdown",
   "metadata": {},
   "source": [
    "Firstly, we need to load edges into memory and use the networkx.DiGraph structure to store the graph."
   ]
  },
  {
   "cell_type": "code",
   "execution_count": 8,
   "metadata": {},
   "outputs": [
    {
     "name": "stdout",
     "output_type": "stream",
     "text": [
      "number of nodes: 8328\n",
      "number of edges: 100000\n",
      "8474 119268\n"
     ]
    }
   ],
   "source": [
    "train_file = \"data/train.csv\"\n",
    "valid_file = \"data/valid.csv\"\n",
    "test_file = \"data/test.csv\"\n",
    "\n",
    "np.random.seed(0)\n",
    "train_edges = load_data(train_file)\n",
    "graph = construct_graph_from_edges(train_edges)\n",
    "valid_edges = load_data(valid_file)\n",
    "false_edges = generate_false_edges(train_edges+valid_edges, 40000-len(valid_edges))\n",
    "test_edges = load_test_data(test_file)"
   ]
  },
  {
   "cell_type": "code",
   "execution_count": 9,
   "metadata": {},
   "outputs": [
    {
     "name": "stdout",
     "output_type": "stream",
     "text": [
      "number of nodes: 5440\n",
      "number of edges: 19268\n",
      "number of nodes: 8396\n",
      "number of edges: 20732\n",
      "number of nodes: 8509\n",
      "number of edges: 40000\n"
     ]
    },
    {
     "data": {
      "text/plain": [
       "<networkx.classes.digraph.DiGraph at 0x21abb5ae6a0>"
      ]
     },
     "execution_count": 9,
     "metadata": {},
     "output_type": "execute_result"
    }
   ],
   "source": [
    "construct_graph_from_edges(valid_edges)\n",
    "construct_graph_from_edges(false_edges)\n",
    "construct_graph_from_edges(test_edges)"
   ]
  },
  {
   "cell_type": "markdown",
   "metadata": {},
   "source": [
    "After that, we can use preprocess transition probabilities with the help of alias sampling."
   ]
  },
  {
   "cell_type": "code",
   "execution_count": 10,
   "metadata": {},
   "outputs": [],
   "source": [
    "alias_nodes, alias_edges = preprocess_transition_probs(graph, p=1, q=1)"
   ]
  },
  {
   "cell_type": "markdown",
   "metadata": {},
   "source": [
    "We can use random walk generators to generate random walks."
   ]
  },
  {
   "cell_type": "markdown",
   "metadata": {},
   "source": [
    "Let's try to generate a first-order random walk and a second-order random walk."
   ]
  },
  {
   "cell_type": "code",
   "execution_count": 11,
   "metadata": {},
   "outputs": [
    {
     "data": {
      "text/plain": [
       "['N6ZTMIue-2b30CJv2tyPGg',\n",
       " '4FXbovgSEFZ5_9S5wddFIg',\n",
       " 'UG4EKu13JRwzRix6ESINdg',\n",
       " 'KQMzfaaI9jfo68S4CsCifA',\n",
       " '9hMqNBBpTl3lBy6qCAyu-A',\n",
       " 'EyLVCFOKltmlMg7XcRxU9Q',\n",
       " 'mM2lXZF7srcZ1FaPx8L7uw',\n",
       " 'KGsXnYHvYddGaL_jyl0DMQ',\n",
       " 'QQXTVtCUN-MYpfbau7mm0A',\n",
       " 'qZB8BZ2ZzMF0VfIGhttu7w']"
      ]
     },
     "execution_count": 11,
     "metadata": {},
     "output_type": "execute_result"
    }
   ],
   "source": [
    "generate_first_order_random_walk(graph, alias_nodes=alias_nodes,\n",
    "                                 start_node=\"N6ZTMIue-2b30CJv2tyPGg\", walk_length=10)"
   ]
  },
  {
   "cell_type": "code",
   "execution_count": 12,
   "metadata": {},
   "outputs": [
    {
     "data": {
      "text/plain": [
       "['N6ZTMIue-2b30CJv2tyPGg',\n",
       " '3DYOjCqN4u47VV5ZPIeKiA',\n",
       " 'djP46l4v0TQTqhLa-ZB1xw',\n",
       " '04J_q_VhSBItxNiEAN-gkA',\n",
       " 'Tsm8VraTp5OGyVALtUiCeQ',\n",
       " 'LIGMK-ewMd4_w6p1u0LBow',\n",
       " 'O_GWZZfQx7qv-n-CN7hsIA',\n",
       " 'pJoBzwiaWhtQJ4M64qtXzg',\n",
       " 'UG4EKu13JRwzRix6ESINdg',\n",
       " '4UlC9tI9DmsTgRb9XibrYA']"
      ]
     },
     "execution_count": 12,
     "metadata": {},
     "output_type": "execute_result"
    }
   ],
   "source": [
    "generate_second_order_random_walk(graph, alias_nodes=alias_nodes, alias_edges=alias_edges,\n",
    "                                  start_node=\"N6ZTMIue-2b30CJv2tyPGg\", walk_length=10)"
   ]
  },
  {
   "cell_type": "markdown",
   "metadata": {},
   "source": [
    "And we can build a DeepWalk model and a node2vec model. Here we set p=q=0.5 so that the walker will not go very far away from the start node."
   ]
  },
  {
   "cell_type": "code",
   "execution_count": 13,
   "metadata": {},
   "outputs": [
    {
     "name": "stdout",
     "output_type": "stream",
     "text": [
      "building a DeepWalk model...\tnumber of walks: 83280\taverage walk length: 9.8980\ttraining time: 22.9266\n"
     ]
    }
   ],
   "source": [
    "model = build_deepwalk(graph, alias_nodes, node_dim=10, num_walks=10, walk_length=10)"
   ]
  },
  {
   "cell_type": "code",
   "execution_count": 14,
   "metadata": {},
   "outputs": [
    {
     "name": "stdout",
     "output_type": "stream",
     "text": [
      "building a node2vec model...\tnumber of walks: 83280\taverage walk length: 9.9910\ttraining time: 22.2838\n"
     ]
    }
   ],
   "source": [
    "model = build_node2vec(graph, alias_nodes, alias_edges, node_dim=10, num_walks=10, walk_length=10)"
   ]
  },
  {
   "cell_type": "markdown",
   "metadata": {},
   "source": [
    "Let's see the node embeddings of three nodes, and cosine similarities of two edges."
   ]
  },
  {
   "cell_type": "code",
   "execution_count": 15,
   "metadata": {},
   "outputs": [
    {
     "name": "stdout",
     "output_type": "stream",
     "text": [
      "node embedding (\"N6ZTMIue-2b30CJv2tyPGg\"): [-0.08203912 -0.48324758  2.3365617   1.3427093  -0.9593549   0.6891398\n",
      "  0.5307564   0.6814984  -0.7039322  -0.5113058 ]\n",
      "node embedding (\"N7E-CfqdME28dakWdEKNvw\"): [ 0.4264547  -0.4421122   1.6058022   0.92754334 -0.5657387   0.25635484\n",
      "  1.6026855   0.79032737  0.2628882  -0.6761687 ]\n",
      "node embedding (\"MmlJSLDg-IFaeXb5wdJbgg\"): [ 0.04840645 -0.02783736 -1.0780101   0.8456825   0.88846356  1.8893033\n",
      "  2.9263995   1.148935   -0.28288275 -1.7604916 ]\n",
      "true edge (\"N6ZTMIue-2b30CJv2tyPGg\", \"N7E-CfqdME28dakWdEKNvw\"): 0.8202535\n",
      "false edge (\"N6ZTMIue-2b30CJv2tyPGg\", \"MmlJSLDg-IFaeXb5wdJbgg\"): 0.1772352\n"
     ]
    }
   ],
   "source": [
    "print(\"node embedding (\\\"N6ZTMIue-2b30CJv2tyPGg\\\"):\",\n",
    "      model.wv[\"N6ZTMIue-2b30CJv2tyPGg\"])\n",
    "print(\"node embedding (\\\"N7E-CfqdME28dakWdEKNvw\\\"):\",\n",
    "      model.wv[\"N7E-CfqdME28dakWdEKNvw\"])\n",
    "print(\"node embedding (\\\"MmlJSLDg-IFaeXb5wdJbgg\\\"):\",\n",
    "      model.wv.vectors[model.wv.index_to_key.index(\"MmlJSLDg-IFaeXb5wdJbgg\")])\n",
    "print(\"true edge (\\\"N6ZTMIue-2b30CJv2tyPGg\\\", \\\"N7E-CfqdME28dakWdEKNvw\\\"):\",\n",
    "      get_cosine_sim(model, \"N6ZTMIue-2b30CJv2tyPGg\", \"N7E-CfqdME28dakWdEKNvw\"))\n",
    "print(\"false edge (\\\"N6ZTMIue-2b30CJv2tyPGg\\\", \\\"MmlJSLDg-IFaeXb5wdJbgg\\\"):\",\n",
    "      get_cosine_sim(model, \"N6ZTMIue-2b30CJv2tyPGg\", \"MmlJSLDg-IFaeXb5wdJbgg\"))"
   ]
  },
  {
   "cell_type": "markdown",
   "metadata": {},
   "source": [
    "# Link Prediction"
   ]
  },
  {
   "cell_type": "markdown",
   "metadata": {},
   "source": [
    "We can train the model with different parameters and test the model on the validation set. Please show your parameter search process and analysis in your code, and visualization tools (Heatmap, etc.) are recommended to make your analysis clear."
   ]
  },
  {
   "cell_type": "code",
   "execution_count": 16,
   "metadata": {},
   "outputs": [
    {
     "name": "stdout",
     "output_type": "stream",
     "text": [
      "node dim: 5,\tnum_walks: 5,\twalk_length: 5\tbuilding a DeepWalk model...\tnumber of walks: 41640\taverage walk length: 4.9622\ttraining time: 6.9702\n",
      "auc: 0.8722\n",
      "node dim: 5,\tnum_walks: 5,\twalk_length: 10\tbuilding a DeepWalk model...\tnumber of walks: 41640\taverage walk length: 9.8976\ttraining time: 9.3467\n",
      "auc: 0.9091\n",
      "node dim: 5,\tnum_walks: 5,\twalk_length: 15\tbuilding a DeepWalk model...\tnumber of walks: 41640\taverage walk length: 14.8335\ttraining time: 12.6175\n",
      "auc: 0.9139\n",
      "node dim: 5,\tnum_walks: 5,\twalk_length: 20\tbuilding a DeepWalk model...\tnumber of walks: 41640\taverage walk length: 19.7535\ttraining time: 15.9667\n",
      "auc: 0.9160\n",
      "node dim: 5,\tnum_walks: 10,\twalk_length: 5\tbuilding a DeepWalk model...\tnumber of walks: 83280\taverage walk length: 4.9629\ttraining time: 13.9456\n",
      "auc: 0.9031\n",
      "node dim: 5,\tnum_walks: 10,\twalk_length: 10\tbuilding a DeepWalk model...\tnumber of walks: 83280\taverage walk length: 9.8980\ttraining time: 19.1609\n",
      "auc: 0.9167\n",
      "node dim: 5,\tnum_walks: 10,\twalk_length: 15\tbuilding a DeepWalk model...\tnumber of walks: 83280\taverage walk length: 14.8289\ttraining time: 24.9541\n",
      "auc: 0.9159\n",
      "node dim: 5,\tnum_walks: 10,\twalk_length: 20\tbuilding a DeepWalk model...\tnumber of walks: 83280\taverage walk length: 19.7559\ttraining time: 29.2563\n",
      "auc: 0.9168\n",
      "node dim: 5,\tnum_walks: 15,\twalk_length: 5\tbuilding a DeepWalk model...\tnumber of walks: 124920\taverage walk length: 4.9630\ttraining time: 18.6990\n",
      "auc: 0.9084\n",
      "node dim: 5,\tnum_walks: 15,\twalk_length: 10\tbuilding a DeepWalk model...\tnumber of walks: 124920\taverage walk length: 9.8983\ttraining time: 29.0219\n",
      "auc: 0.9179\n",
      "node dim: 5,\tnum_walks: 15,\twalk_length: 15\tbuilding a DeepWalk model...\tnumber of walks: 124920\taverage walk length: 14.8291\ttraining time: 37.6363\n",
      "auc: 0.9147\n",
      "node dim: 5,\tnum_walks: 15,\twalk_length: 20\tbuilding a DeepWalk model...\tnumber of walks: 124920\taverage walk length: 19.7553\ttraining time: 53.1016\n",
      "auc: 0.9131\n",
      "node dim: 5,\tnum_walks: 20,\twalk_length: 5\tbuilding a DeepWalk model...\tnumber of walks: 166560\taverage walk length: 4.9630\ttraining time: 25.9816\n",
      "auc: 0.9055\n",
      "node dim: 5,\tnum_walks: 20,\twalk_length: 10\tbuilding a DeepWalk model...\tnumber of walks: 166560\taverage walk length: 9.8981\ttraining time: 40.3044\n",
      "auc: 0.9189\n",
      "node dim: 5,\tnum_walks: 20,\twalk_length: 15\tbuilding a DeepWalk model...\tnumber of walks: 166560\taverage walk length: 14.8288\ttraining time: 57.4332\n",
      "auc: 0.9157\n",
      "node dim: 5,\tnum_walks: 20,\twalk_length: 20\tbuilding a DeepWalk model...\tnumber of walks: 166560\taverage walk length: 19.7587\ttraining time: 73.6537\n",
      "auc: 0.9176\n",
      "node dim: 10,\tnum_walks: 5,\twalk_length: 5\tbuilding a DeepWalk model...\tnumber of walks: 41640\taverage walk length: 4.9622\ttraining time: 12.6436\n",
      "auc: 0.8656\n",
      "node dim: 10,\tnum_walks: 5,\twalk_length: 10\tbuilding a DeepWalk model...\tnumber of walks: 41640\taverage walk length: 9.8976\ttraining time: 15.3555\n",
      "auc: 0.9132\n",
      "node dim: 10,\tnum_walks: 5,\twalk_length: 15\tbuilding a DeepWalk model...\tnumber of walks: 41640\taverage walk length: 14.8335\ttraining time: 16.8889\n",
      "auc: 0.9215\n",
      "node dim: 10,\tnum_walks: 5,\twalk_length: 20\tbuilding a DeepWalk model...\tnumber of walks: 41640\taverage walk length: 19.7535\ttraining time: 19.9185\n",
      "auc: 0.9252\n",
      "node dim: 10,\tnum_walks: 10,\twalk_length: 5\tbuilding a DeepWalk model...\tnumber of walks: 83280\taverage walk length: 4.9629\ttraining time: 16.0345\n",
      "auc: 0.9081\n",
      "node dim: 10,\tnum_walks: 10,\twalk_length: 10\tbuilding a DeepWalk model...\tnumber of walks: 83280\taverage walk length: 9.8980\ttraining time: 37.3810\n",
      "auc: 0.9263\n",
      "node dim: 10,\tnum_walks: 10,\twalk_length: 15\tbuilding a DeepWalk model...\tnumber of walks: 83280\taverage walk length: 14.8289\ttraining time: 32.3694\n",
      "auc: 0.9301\n",
      "node dim: 10,\tnum_walks: 10,\twalk_length: 20\tbuilding a DeepWalk model...\tnumber of walks: 83280\taverage walk length: 19.7559\ttraining time: 35.5218\n",
      "auc: 0.9319\n",
      "node dim: 10,\tnum_walks: 15,\twalk_length: 5\tbuilding a DeepWalk model...\tnumber of walks: 124920\taverage walk length: 4.9630\ttraining time: 23.9895\n",
      "auc: 0.9181\n",
      "node dim: 10,\tnum_walks: 15,\twalk_length: 10\tbuilding a DeepWalk model...\tnumber of walks: 124920\taverage walk length: 9.8983\ttraining time: 34.7390\n",
      "auc: 0.9302\n",
      "node dim: 10,\tnum_walks: 15,\twalk_length: 15\tbuilding a DeepWalk model...\tnumber of walks: 124920\taverage walk length: 14.8291\ttraining time: 46.6263\n",
      "auc: 0.9315\n",
      "node dim: 10,\tnum_walks: 15,\twalk_length: 20\tbuilding a DeepWalk model...\tnumber of walks: 124920\taverage walk length: 19.7553\ttraining time: 59.3088\n",
      "auc: 0.9308\n",
      "node dim: 10,\tnum_walks: 20,\twalk_length: 5\tbuilding a DeepWalk model...\tnumber of walks: 166560\taverage walk length: 4.9630\ttraining time: 35.3694\n",
      "auc: 0.9228\n",
      "node dim: 10,\tnum_walks: 20,\twalk_length: 10\tbuilding a DeepWalk model...\tnumber of walks: 166560\taverage walk length: 9.8981\ttraining time: 46.9863\n",
      "auc: 0.9317\n",
      "node dim: 10,\tnum_walks: 20,\twalk_length: 15\tbuilding a DeepWalk model...\tnumber of walks: 166560\taverage walk length: 14.8288\ttraining time: 61.1464\n",
      "auc: 0.9314\n",
      "node dim: 10,\tnum_walks: 20,\twalk_length: 20\tbuilding a DeepWalk model...\tnumber of walks: 166560\taverage walk length: 19.7587\ttraining time: 77.6966\n",
      "auc: 0.9312\n",
      "node dim: 20,\tnum_walks: 5,\twalk_length: 5\tbuilding a DeepWalk model...\tnumber of walks: 41640\taverage walk length: 4.9622\ttraining time: 8.7115\n",
      "auc: 0.8262\n",
      "node dim: 20,\tnum_walks: 5,\twalk_length: 10\tbuilding a DeepWalk model...\tnumber of walks: 41640\taverage walk length: 9.8976\ttraining time: 12.9847\n",
      "auc: 0.8728\n",
      "node dim: 20,\tnum_walks: 5,\twalk_length: 15\tbuilding a DeepWalk model...\tnumber of walks: 41640\taverage walk length: 14.8335\ttraining time: 17.6888\n",
      "auc: 0.8960\n",
      "node dim: 20,\tnum_walks: 5,\twalk_length: 20\tbuilding a DeepWalk model...\tnumber of walks: 41640\taverage walk length: 19.7535\ttraining time: 21.3822\n",
      "auc: 0.9076\n",
      "node dim: 20,\tnum_walks: 10,\twalk_length: 5\tbuilding a DeepWalk model...\tnumber of walks: 83280\taverage walk length: 4.9629\ttraining time: 16.8995\n",
      "auc: 0.8683\n",
      "node dim: 20,\tnum_walks: 10,\twalk_length: 10\tbuilding a DeepWalk model...\tnumber of walks: 83280\taverage walk length: 9.8980\ttraining time: 26.1627\n",
      "auc: 0.9083\n",
      "node dim: 20,\tnum_walks: 10,\twalk_length: 15\tbuilding a DeepWalk model...\tnumber of walks: 83280\taverage walk length: 14.8289\ttraining time: 32.5881\n",
      "auc: 0.9188\n",
      "node dim: 20,\tnum_walks: 10,\twalk_length: 20\tbuilding a DeepWalk model...\tnumber of walks: 83280\taverage walk length: 19.7559\ttraining time: 38.8839\n",
      "auc: 0.9223\n",
      "node dim: 20,\tnum_walks: 15,\twalk_length: 5\tbuilding a DeepWalk model...\tnumber of walks: 124920\taverage walk length: 4.9630\ttraining time: 23.4584\n",
      "auc: 0.8885\n",
      "node dim: 20,\tnum_walks: 15,\twalk_length: 10\tbuilding a DeepWalk model...\tnumber of walks: 124920\taverage walk length: 9.8983\ttraining time: 36.3917\n",
      "auc: 0.9195\n",
      "node dim: 20,\tnum_walks: 15,\twalk_length: 15\tbuilding a DeepWalk model...\tnumber of walks: 124920\taverage walk length: 14.8291\ttraining time: 50.3730\n",
      "auc: 0.9239\n",
      "node dim: 20,\tnum_walks: 15,\twalk_length: 20\tbuilding a DeepWalk model...\tnumber of walks: 124920\taverage walk length: 19.7553\ttraining time: 58.7994\n",
      "auc: 0.9249\n",
      "node dim: 20,\tnum_walks: 20,\twalk_length: 5\tbuilding a DeepWalk model...\tnumber of walks: 166560\taverage walk length: 4.9630\ttraining time: 32.5840\n",
      "auc: 0.9032\n",
      "node dim: 20,\tnum_walks: 20,\twalk_length: 10\tbuilding a DeepWalk model...\tnumber of walks: 166560\taverage walk length: 9.8981\ttraining time: 47.2377\n",
      "auc: 0.9235\n",
      "node dim: 20,\tnum_walks: 20,\twalk_length: 15\tbuilding a DeepWalk model...\tnumber of walks: 166560\taverage walk length: 14.8288\ttraining time: 65.8073\n",
      "auc: 0.9254\n",
      "node dim: 20,\tnum_walks: 20,\twalk_length: 20\tbuilding a DeepWalk model...\tnumber of walks: 166560\taverage walk length: 19.7587\ttraining time: 84.8800\n",
      "auc: 0.9260\n",
      "node dim: 40,\tnum_walks: 5,\twalk_length: 5\tbuilding a DeepWalk model...\tnumber of walks: 41640\taverage walk length: 4.9622\ttraining time: 8.3163\n",
      "auc: 0.7939\n",
      "node dim: 40,\tnum_walks: 5,\twalk_length: 10\tbuilding a DeepWalk model...\tnumber of walks: 41640\taverage walk length: 9.8976\ttraining time: 13.5977\n",
      "auc: 0.8016\n",
      "node dim: 40,\tnum_walks: 5,\twalk_length: 15\tbuilding a DeepWalk model...\tnumber of walks: 41640\taverage walk length: 14.8335\ttraining time: 20.6694\n",
      "auc: 0.8340\n"
     ]
    },
    {
     "name": "stdout",
     "output_type": "stream",
     "text": [
      "node dim: 40,\tnum_walks: 5,\twalk_length: 20\tbuilding a DeepWalk model...\tnumber of walks: 41640\taverage walk length: 19.7535\ttraining time: 22.6215\n",
      "auc: 0.8521\n",
      "node dim: 40,\tnum_walks: 10,\twalk_length: 5\tbuilding a DeepWalk model...\tnumber of walks: 83280\taverage walk length: 4.9629\ttraining time: 16.6945\n",
      "auc: 0.8024\n",
      "node dim: 40,\tnum_walks: 10,\twalk_length: 10\tbuilding a DeepWalk model...\tnumber of walks: 83280\taverage walk length: 9.8980\ttraining time: 24.6480\n",
      "auc: 0.8532\n",
      "node dim: 40,\tnum_walks: 10,\twalk_length: 15\tbuilding a DeepWalk model...\tnumber of walks: 83280\taverage walk length: 14.8289\ttraining time: 34.2940\n",
      "auc: 0.8783\n",
      "node dim: 40,\tnum_walks: 10,\twalk_length: 20\tbuilding a DeepWalk model...\tnumber of walks: 83280\taverage walk length: 19.7559\ttraining time: 42.5061\n",
      "auc: 0.8887\n",
      "node dim: 40,\tnum_walks: 15,\twalk_length: 5\tbuilding a DeepWalk model...\tnumber of walks: 124920\taverage walk length: 4.9630\ttraining time: 23.8755\n",
      "auc: 0.8234\n",
      "node dim: 40,\tnum_walks: 15,\twalk_length: 10\tbuilding a DeepWalk model...\tnumber of walks: 124920\taverage walk length: 9.8983\ttraining time: 34.7622\n",
      "auc: 0.8808\n",
      "node dim: 40,\tnum_walks: 15,\twalk_length: 15\tbuilding a DeepWalk model...\tnumber of walks: 124920\taverage walk length: 14.8291\ttraining time: 48.6712\n",
      "auc: 0.8924\n",
      "node dim: 40,\tnum_walks: 15,\twalk_length: 20\tbuilding a DeepWalk model...\tnumber of walks: 124920\taverage walk length: 19.7553\ttraining time: 63.3129\n",
      "auc: 0.8976\n",
      "node dim: 40,\tnum_walks: 20,\twalk_length: 5\tbuilding a DeepWalk model...\tnumber of walks: 166560\taverage walk length: 4.9630\ttraining time: 31.4123\n",
      "auc: 0.8444\n",
      "node dim: 40,\tnum_walks: 20,\twalk_length: 10\tbuilding a DeepWalk model...\tnumber of walks: 166560\taverage walk length: 9.8981\ttraining time: 47.5373\n",
      "auc: 0.8914\n",
      "node dim: 40,\tnum_walks: 20,\twalk_length: 15\tbuilding a DeepWalk model...\tnumber of walks: 166560\taverage walk length: 14.8288\ttraining time: 65.1632\n",
      "auc: 0.8998\n",
      "node dim: 40,\tnum_walks: 20,\twalk_length: 20\tbuilding a DeepWalk model...\tnumber of walks: 166560\taverage walk length: 19.7587\ttraining time: 79.2137\n",
      "auc: 0.9020\n"
     ]
    }
   ],
   "source": [
    "np.random.seed(0)\n",
    "\n",
    "deepwalk_auc_scores = dict()\n",
    "for node_dim in [5,10,20,40]:\n",
    "    for num_walks in [5,10,15,20]:\n",
    "        for walk_length in [5,10,15,20]:\n",
    "            print(\"node dim: %d,\\tnum_walks: %d,\\twalk_length: %d\" % (node_dim, num_walks, walk_length), end=\"\\t\")\n",
    "            model = build_deepwalk(graph, alias_nodes, \n",
    "                                   node_dim=node_dim, num_walks=num_walks, walk_length=walk_length)\n",
    "            deepwalk_auc_scores[(node_dim, num_walks, walk_length)] = get_auc_score(model, valid_edges, false_edges)\n",
    "            print(\"auc: %.4f\" % (deepwalk_auc_scores[(node_dim, num_walks, walk_length)]))"
   ]
  },
  {
   "cell_type": "code",
   "execution_count": 18,
   "metadata": {},
   "outputs": [
    {
     "name": "stdout",
     "output_type": "stream",
     "text": [
      "node dim: 10,\tnum_walks: 15,\twalk_length: 15,\tp: 0.10,\tq: 0.10\tbuilding a node2vec model...\tnumber of walks: 124920\taverage walk length: 14.9793\ttraining time: 56.6604\n",
      "auc: 0.9294\n",
      "node dim: 10,\tnum_walks: 15,\twalk_length: 15,\tp: 0.10,\tq: 0.20\tbuilding a node2vec model...\tnumber of walks: 124920\taverage walk length: 14.9818\ttraining time: 50.8219\n",
      "auc: 0.9288\n",
      "node dim: 10,\tnum_walks: 15,\twalk_length: 15,\tp: 0.10,\tq: 0.30\tbuilding a node2vec model...\tnumber of walks: 124920\taverage walk length: 14.9833\ttraining time: 54.8789\n",
      "auc: 0.9299\n",
      "node dim: 10,\tnum_walks: 15,\twalk_length: 15,\tp: 0.10,\tq: 0.40\tbuilding a node2vec model...\tnumber of walks: 124920\taverage walk length: 14.9845\ttraining time: 47.5789\n",
      "auc: 0.9304\n",
      "node dim: 10,\tnum_walks: 15,\twalk_length: 15,\tp: 0.10,\tq: 0.50\tbuilding a node2vec model...\tnumber of walks: 124920\taverage walk length: 14.9839\ttraining time: 47.9688\n",
      "auc: 0.9301\n",
      "node dim: 10,\tnum_walks: 15,\twalk_length: 15,\tp: 0.10,\tq: 0.60\tbuilding a node2vec model...\tnumber of walks: 124920\taverage walk length: 14.9857\ttraining time: 50.2251\n",
      "auc: 0.9298\n",
      "node dim: 10,\tnum_walks: 15,\twalk_length: 15,\tp: 0.10,\tq: 0.70\tbuilding a node2vec model...\tnumber of walks: 124920\taverage walk length: 14.9846\ttraining time: 48.2447\n",
      "auc: 0.9308\n",
      "node dim: 10,\tnum_walks: 15,\twalk_length: 15,\tp: 0.10,\tq: 0.80\tbuilding a node2vec model...\tnumber of walks: 124920\taverage walk length: 14.9851\ttraining time: 55.4724\n",
      "auc: 0.9306\n",
      "node dim: 10,\tnum_walks: 15,\twalk_length: 15,\tp: 0.10,\tq: 0.90\tbuilding a node2vec model...\tnumber of walks: 124920\taverage walk length: 14.9865\ttraining time: 47.5128\n",
      "auc: 0.9301\n",
      "node dim: 10,\tnum_walks: 15,\twalk_length: 15,\tp: 0.20,\tq: 0.10\tbuilding a node2vec model...\tnumber of walks: 124920\taverage walk length: 14.9742\ttraining time: 52.2437\n",
      "auc: 0.9296\n",
      "node dim: 10,\tnum_walks: 15,\twalk_length: 15,\tp: 0.20,\tq: 0.20\tbuilding a node2vec model...\tnumber of walks: 124920\taverage walk length: 14.9814\ttraining time: 54.1655\n",
      "auc: 0.9285\n",
      "node dim: 10,\tnum_walks: 15,\twalk_length: 15,\tp: 0.20,\tq: 0.30\tbuilding a node2vec model...\tnumber of walks: 124920\taverage walk length: 14.9829\ttraining time: 55.1636\n",
      "auc: 0.9288\n",
      "node dim: 10,\tnum_walks: 15,\twalk_length: 15,\tp: 0.20,\tq: 0.40\tbuilding a node2vec model...\tnumber of walks: 124920\taverage walk length: 14.9822\ttraining time: 78.3949\n",
      "auc: 0.9303\n",
      "node dim: 10,\tnum_walks: 15,\twalk_length: 15,\tp: 0.20,\tq: 0.50\tbuilding a node2vec model...\tnumber of walks: 124920\taverage walk length: 14.9840\ttraining time: 55.8281\n",
      "auc: 0.9301\n",
      "node dim: 10,\tnum_walks: 15,\twalk_length: 15,\tp: 0.20,\tq: 0.60\tbuilding a node2vec model...\tnumber of walks: 124920\taverage walk length: 14.9827\ttraining time: 61.9771\n",
      "auc: 0.9302\n",
      "node dim: 10,\tnum_walks: 15,\twalk_length: 15,\tp: 0.20,\tq: 0.70\tbuilding a node2vec model...\tnumber of walks: 124920\taverage walk length: 14.9845\ttraining time: 55.3904\n",
      "auc: 0.9301\n",
      "node dim: 10,\tnum_walks: 15,\twalk_length: 15,\tp: 0.20,\tq: 0.80\tbuilding a node2vec model...\tnumber of walks: 124920\taverage walk length: 14.9847\ttraining time: 61.5138\n",
      "auc: 0.9303\n",
      "node dim: 10,\tnum_walks: 15,\twalk_length: 15,\tp: 0.20,\tq: 0.90\tbuilding a node2vec model...\tnumber of walks: 124920\taverage walk length: 14.9851\ttraining time: 56.4921\n",
      "auc: 0.9302\n",
      "node dim: 10,\tnum_walks: 15,\twalk_length: 15,\tp: 0.30,\tq: 0.10\tbuilding a node2vec model...\tnumber of walks: 124920\taverage walk length: 14.9692\ttraining time: 60.5877\n",
      "auc: 0.9298\n",
      "node dim: 10,\tnum_walks: 15,\twalk_length: 15,\tp: 0.30,\tq: 0.20\tbuilding a node2vec model...\tnumber of walks: 124920\taverage walk length: 14.9769\ttraining time: 55.3884\n",
      "auc: 0.9303\n",
      "node dim: 10,\tnum_walks: 15,\twalk_length: 15,\tp: 0.30,\tq: 0.30\tbuilding a node2vec model...\tnumber of walks: 124920\taverage walk length: 14.9809\ttraining time: 56.6384\n",
      "auc: 0.9292\n",
      "node dim: 10,\tnum_walks: 15,\twalk_length: 15,\tp: 0.30,\tq: 0.40\tbuilding a node2vec model...\tnumber of walks: 124920\taverage walk length: 14.9814\ttraining time: 60.1003\n",
      "auc: 0.9296\n",
      "node dim: 10,\tnum_walks: 15,\twalk_length: 15,\tp: 0.30,\tq: 0.50\tbuilding a node2vec model...\tnumber of walks: 124920\taverage walk length: 14.9828\ttraining time: 55.7419\n",
      "auc: 0.9292\n",
      "node dim: 10,\tnum_walks: 15,\twalk_length: 15,\tp: 0.30,\tq: 0.60\tbuilding a node2vec model...\tnumber of walks: 124920\taverage walk length: 14.9836\ttraining time: 55.4125\n",
      "auc: 0.9301\n",
      "node dim: 10,\tnum_walks: 15,\twalk_length: 15,\tp: 0.30,\tq: 0.70\tbuilding a node2vec model...\tnumber of walks: 124920\taverage walk length: 14.9850\ttraining time: 55.3679\n",
      "auc: 0.9304\n",
      "node dim: 10,\tnum_walks: 15,\twalk_length: 15,\tp: 0.30,\tq: 0.80\tbuilding a node2vec model...\tnumber of walks: 124920\taverage walk length: 14.9842\ttraining time: 54.0434\n",
      "auc: 0.9314\n",
      "node dim: 10,\tnum_walks: 15,\twalk_length: 15,\tp: 0.30,\tq: 0.90\tbuilding a node2vec model...\tnumber of walks: 124920\taverage walk length: 14.9836\ttraining time: 54.6815\n",
      "auc: 0.9304\n",
      "node dim: 10,\tnum_walks: 15,\twalk_length: 15,\tp: 0.40,\tq: 0.10\tbuilding a node2vec model...\tnumber of walks: 124920\taverage walk length: 14.9653\ttraining time: 57.6846\n",
      "auc: 0.9301\n",
      "node dim: 10,\tnum_walks: 15,\twalk_length: 15,\tp: 0.40,\tq: 0.20\tbuilding a node2vec model...\tnumber of walks: 124920\taverage walk length: 14.9753\ttraining time: 54.7427\n",
      "auc: 0.9291\n",
      "node dim: 10,\tnum_walks: 15,\twalk_length: 15,\tp: 0.40,\tq: 0.30\tbuilding a node2vec model...\tnumber of walks: 124920\taverage walk length: 14.9782\ttraining time: 55.7525\n",
      "auc: 0.9301\n",
      "node dim: 10,\tnum_walks: 15,\twalk_length: 15,\tp: 0.40,\tq: 0.40\tbuilding a node2vec model...\tnumber of walks: 124920\taverage walk length: 14.9810\ttraining time: 65.2662\n",
      "auc: 0.9301\n",
      "node dim: 10,\tnum_walks: 15,\twalk_length: 15,\tp: 0.40,\tq: 0.50\tbuilding a node2vec model...\tnumber of walks: 124920\taverage walk length: 14.9802\ttraining time: 58.4187\n",
      "auc: 0.9292\n",
      "node dim: 10,\tnum_walks: 15,\twalk_length: 15,\tp: 0.40,\tq: 0.60\tbuilding a node2vec model...\tnumber of walks: 124920\taverage walk length: 14.9828\ttraining time: 57.5348\n",
      "auc: 0.9294\n",
      "node dim: 10,\tnum_walks: 15,\twalk_length: 15,\tp: 0.40,\tq: 0.70\tbuilding a node2vec model...\tnumber of walks: 124920\taverage walk length: 14.9844\ttraining time: 54.3016\n",
      "auc: 0.9287\n",
      "node dim: 10,\tnum_walks: 15,\twalk_length: 15,\tp: 0.40,\tq: 0.80\tbuilding a node2vec model...\tnumber of walks: 124920\taverage walk length: 14.9834\ttraining time: 54.4007\n",
      "auc: 0.9295\n",
      "node dim: 10,\tnum_walks: 15,\twalk_length: 15,\tp: 0.40,\tq: 0.90\tbuilding a node2vec model...\tnumber of walks: 124920\taverage walk length: 14.9843\ttraining time: 57.1604\n",
      "auc: 0.9305\n",
      "node dim: 10,\tnum_walks: 15,\twalk_length: 15,\tp: 0.50,\tq: 0.10\tbuilding a node2vec model...\tnumber of walks: 124920\taverage walk length: 14.9620\ttraining time: 56.5119\n",
      "auc: 0.9301\n",
      "node dim: 10,\tnum_walks: 15,\twalk_length: 15,\tp: 0.50,\tq: 0.20\tbuilding a node2vec model...\tnumber of walks: 124920\taverage walk length: 14.9709\ttraining time: 55.7645\n",
      "auc: 0.9296\n",
      "node dim: 10,\tnum_walks: 15,\twalk_length: 15,\tp: 0.50,\tq: 0.30\tbuilding a node2vec model...\tnumber of walks: 124920\taverage walk length: 14.9777\ttraining time: 54.7307\n",
      "auc: 0.9297\n",
      "node dim: 10,\tnum_walks: 15,\twalk_length: 15,\tp: 0.50,\tq: 0.40\tbuilding a node2vec model...\tnumber of walks: 124920\taverage walk length: 14.9799\ttraining time: 54.3309\n",
      "auc: 0.9304\n",
      "node dim: 10,\tnum_walks: 15,\twalk_length: 15,\tp: 0.50,\tq: 0.50\tbuilding a node2vec model...\tnumber of walks: 124920\taverage walk length: 14.9834\ttraining time: 56.7589\n",
      "auc: 0.9292\n",
      "node dim: 10,\tnum_walks: 15,\twalk_length: 15,\tp: 0.50,\tq: 0.60\tbuilding a node2vec model...\tnumber of walks: 124920\taverage walk length: 14.9821\ttraining time: 55.5706\n",
      "auc: 0.9306\n",
      "node dim: 10,\tnum_walks: 15,\twalk_length: 15,\tp: 0.50,\tq: 0.70\tbuilding a node2vec model...\tnumber of walks: 124920\taverage walk length: 14.9837\ttraining time: 55.3975\n",
      "auc: 0.9310\n",
      "node dim: 10,\tnum_walks: 15,\twalk_length: 15,\tp: 0.50,\tq: 0.80\tbuilding a node2vec model...\tnumber of walks: 124920\taverage walk length: 14.9838\ttraining time: 57.4747\n",
      "auc: 0.9299\n",
      "node dim: 10,\tnum_walks: 15,\twalk_length: 15,\tp: 0.50,\tq: 0.90\tbuilding a node2vec model...\tnumber of walks: 124920\taverage walk length: 14.9818\ttraining time: 53.4573\n",
      "auc: 0.9301\n"
     ]
    },
    {
     "name": "stdout",
     "output_type": "stream",
     "text": [
      "node dim: 10,\tnum_walks: 15,\twalk_length: 15,\tp: 0.60,\tq: 0.10\tbuilding a node2vec model...\tnumber of walks: 124920\taverage walk length: 14.9600\ttraining time: 56.4314\n",
      "auc: 0.9287\n",
      "node dim: 10,\tnum_walks: 15,\twalk_length: 15,\tp: 0.60,\tq: 0.20\tbuilding a node2vec model...\tnumber of walks: 124920\taverage walk length: 14.9692\ttraining time: 56.8229\n",
      "auc: 0.9285\n",
      "node dim: 10,\tnum_walks: 15,\twalk_length: 15,\tp: 0.60,\tq: 0.30\tbuilding a node2vec model...\tnumber of walks: 124920\taverage walk length: 14.9771\ttraining time: 56.1701\n",
      "auc: 0.9295\n",
      "node dim: 10,\tnum_walks: 15,\twalk_length: 15,\tp: 0.60,\tq: 0.40\tbuilding a node2vec model...\tnumber of walks: 124920\taverage walk length: 14.9790\ttraining time: 55.3206\n",
      "auc: 0.9299\n",
      "node dim: 10,\tnum_walks: 15,\twalk_length: 15,\tp: 0.60,\tq: 0.50\tbuilding a node2vec model...\tnumber of walks: 124920\taverage walk length: 14.9807\ttraining time: 57.0098\n",
      "auc: 0.9291\n",
      "node dim: 10,\tnum_walks: 15,\twalk_length: 15,\tp: 0.60,\tq: 0.60\tbuilding a node2vec model...\tnumber of walks: 124920\taverage walk length: 14.9816\ttraining time: 58.0611\n",
      "auc: 0.9308\n",
      "node dim: 10,\tnum_walks: 15,\twalk_length: 15,\tp: 0.60,\tq: 0.70\tbuilding a node2vec model...\tnumber of walks: 124920\taverage walk length: 14.9815\ttraining time: 54.1739\n",
      "auc: 0.9307\n",
      "node dim: 10,\tnum_walks: 15,\twalk_length: 15,\tp: 0.60,\tq: 0.80\tbuilding a node2vec model...\tnumber of walks: 124920\taverage walk length: 14.9826\ttraining time: 55.2277\n",
      "auc: 0.9303\n",
      "node dim: 10,\tnum_walks: 15,\twalk_length: 15,\tp: 0.60,\tq: 0.90\tbuilding a node2vec model...\tnumber of walks: 124920\taverage walk length: 14.9835\ttraining time: 56.9843\n",
      "auc: 0.9301\n",
      "node dim: 10,\tnum_walks: 15,\twalk_length: 15,\tp: 0.70,\tq: 0.10\tbuilding a node2vec model...\tnumber of walks: 124920\taverage walk length: 14.9568\ttraining time: 56.0142\n",
      "auc: 0.9293\n",
      "node dim: 10,\tnum_walks: 15,\twalk_length: 15,\tp: 0.70,\tq: 0.20\tbuilding a node2vec model...\tnumber of walks: 124920\taverage walk length: 14.9698\ttraining time: 53.7617\n",
      "auc: 0.9290\n",
      "node dim: 10,\tnum_walks: 15,\twalk_length: 15,\tp: 0.70,\tq: 0.30\tbuilding a node2vec model...\tnumber of walks: 124920\taverage walk length: 14.9745\ttraining time: 56.1552\n",
      "auc: 0.9307\n",
      "node dim: 10,\tnum_walks: 15,\twalk_length: 15,\tp: 0.70,\tq: 0.40\tbuilding a node2vec model...\tnumber of walks: 124920\taverage walk length: 14.9784\ttraining time: 55.0839\n",
      "auc: 0.9298\n",
      "node dim: 10,\tnum_walks: 15,\twalk_length: 15,\tp: 0.70,\tq: 0.50\tbuilding a node2vec model...\tnumber of walks: 124920\taverage walk length: 14.9783\ttraining time: 55.4365\n",
      "auc: 0.9295\n",
      "node dim: 10,\tnum_walks: 15,\twalk_length: 15,\tp: 0.70,\tq: 0.60\tbuilding a node2vec model...\tnumber of walks: 124920\taverage walk length: 14.9801\ttraining time: 72.6104\n",
      "auc: 0.9308\n",
      "node dim: 10,\tnum_walks: 15,\twalk_length: 15,\tp: 0.70,\tq: 0.70\tbuilding a node2vec model...\tnumber of walks: 124920\taverage walk length: 14.9825\ttraining time: 57.7310\n",
      "auc: 0.9306\n",
      "node dim: 10,\tnum_walks: 15,\twalk_length: 15,\tp: 0.70,\tq: 0.80\tbuilding a node2vec model...\tnumber of walks: 124920\taverage walk length: 14.9814\ttraining time: 56.3344\n",
      "auc: 0.9304\n",
      "node dim: 10,\tnum_walks: 15,\twalk_length: 15,\tp: 0.70,\tq: 0.90\tbuilding a node2vec model...\tnumber of walks: 124920\taverage walk length: 14.9830\ttraining time: 61.1012\n",
      "auc: 0.9302\n",
      "node dim: 10,\tnum_walks: 15,\twalk_length: 15,\tp: 0.80,\tq: 0.10\tbuilding a node2vec model...\tnumber of walks: 124920\taverage walk length: 14.9539\ttraining time: 60.6122\n",
      "auc: 0.9297\n",
      "node dim: 10,\tnum_walks: 15,\twalk_length: 15,\tp: 0.80,\tq: 0.20\tbuilding a node2vec model...\tnumber of walks: 124920\taverage walk length: 14.9655\ttraining time: 59.8187\n",
      "auc: 0.9294\n",
      "node dim: 10,\tnum_walks: 15,\twalk_length: 15,\tp: 0.80,\tq: 0.30\tbuilding a node2vec model...\tnumber of walks: 124920\taverage walk length: 14.9743\ttraining time: 82.4229\n",
      "auc: 0.9290\n",
      "node dim: 10,\tnum_walks: 15,\twalk_length: 15,\tp: 0.80,\tq: 0.40\tbuilding a node2vec model...\tnumber of walks: 124920\taverage walk length: 14.9774\ttraining time: 59.6648\n",
      "auc: 0.9291\n",
      "node dim: 10,\tnum_walks: 15,\twalk_length: 15,\tp: 0.80,\tq: 0.50\tbuilding a node2vec model...\tnumber of walks: 124920\taverage walk length: 14.9784\ttraining time: 57.7929\n",
      "auc: 0.9300\n",
      "node dim: 10,\tnum_walks: 15,\twalk_length: 15,\tp: 0.80,\tq: 0.60\tbuilding a node2vec model...\tnumber of walks: 124920\taverage walk length: 14.9775\ttraining time: 59.1648\n",
      "auc: 0.9298\n",
      "node dim: 10,\tnum_walks: 15,\twalk_length: 15,\tp: 0.80,\tq: 0.70\tbuilding a node2vec model...\tnumber of walks: 124920\taverage walk length: 14.9818\ttraining time: 57.8953\n",
      "auc: 0.9303\n",
      "node dim: 10,\tnum_walks: 15,\twalk_length: 15,\tp: 0.80,\tq: 0.80\tbuilding a node2vec model...\tnumber of walks: 124920\taverage walk length: 14.9822\ttraining time: 58.7107\n",
      "auc: 0.9311\n",
      "node dim: 10,\tnum_walks: 15,\twalk_length: 15,\tp: 0.80,\tq: 0.90\tbuilding a node2vec model...\tnumber of walks: 124920\taverage walk length: 14.9816\ttraining time: 62.3407\n",
      "auc: 0.9308\n",
      "node dim: 10,\tnum_walks: 15,\twalk_length: 15,\tp: 0.90,\tq: 0.10\tbuilding a node2vec model...\tnumber of walks: 124920\taverage walk length: 14.9537\ttraining time: 57.2466\n",
      "auc: 0.9298\n",
      "node dim: 10,\tnum_walks: 15,\twalk_length: 15,\tp: 0.90,\tq: 0.20\tbuilding a node2vec model...\tnumber of walks: 124920\taverage walk length: 14.9656\ttraining time: 57.4836\n",
      "auc: 0.9283\n",
      "node dim: 10,\tnum_walks: 15,\twalk_length: 15,\tp: 0.90,\tq: 0.30\tbuilding a node2vec model...\tnumber of walks: 124920\taverage walk length: 14.9711\ttraining time: 58.3295\n",
      "auc: 0.9299\n",
      "node dim: 10,\tnum_walks: 15,\twalk_length: 15,\tp: 0.90,\tq: 0.40\tbuilding a node2vec model...\tnumber of walks: 124920\taverage walk length: 14.9744\ttraining time: 55.2974\n",
      "auc: 0.9303\n",
      "node dim: 10,\tnum_walks: 15,\twalk_length: 15,\tp: 0.90,\tq: 0.50\tbuilding a node2vec model...\tnumber of walks: 124920\taverage walk length: 14.9770\ttraining time: 54.9216\n",
      "auc: 0.9303\n",
      "node dim: 10,\tnum_walks: 15,\twalk_length: 15,\tp: 0.90,\tq: 0.60\tbuilding a node2vec model...\tnumber of walks: 124920\taverage walk length: 14.9786\ttraining time: 56.8185\n",
      "auc: 0.9300\n",
      "node dim: 10,\tnum_walks: 15,\twalk_length: 15,\tp: 0.90,\tq: 0.70\tbuilding a node2vec model...\tnumber of walks: 124920\taverage walk length: 14.9803\ttraining time: 56.8270\n",
      "auc: 0.9301\n",
      "node dim: 10,\tnum_walks: 15,\twalk_length: 15,\tp: 0.90,\tq: 0.80\tbuilding a node2vec model...\tnumber of walks: 124920\taverage walk length: 14.9806\ttraining time: 54.1214\n",
      "auc: 0.9297\n",
      "node dim: 10,\tnum_walks: 15,\twalk_length: 15,\tp: 0.90,\tq: 0.90\tbuilding a node2vec model...\tnumber of walks: 124920\taverage walk length: 14.9809\ttraining time: 55.2015\n",
      "auc: 0.9312\n"
     ]
    }
   ],
   "source": [
    "np.random.seed(0)\n",
    "\n",
    "node_dim = 10\n",
    "num_walks = 15\n",
    "walk_length = 15\n",
    "node2vec_auc_scores = dict()\n",
    "\n",
    "for p in [0.1,0.2,0.3,0.4,0.5,0.6,0.7,0.8,0.9]:\n",
    "    for q in [0.1,0.2,0.3,0.4,0.5,0.6,0.7,0.8,0.9]:\n",
    "        print(\"node dim: %d,\\tnum_walks: %d,\\twalk_length: %d,\\tp: %.2f,\\tq: %.2f\" % (\n",
    "            node_dim, num_walks, walk_length, p, q), end=\"\\t\")\n",
    "        alias_nodes, alias_edges = preprocess_transition_probs(graph, p=p, q=q)\n",
    "        model = build_node2vec(graph, alias_nodes, alias_edges, \n",
    "                               node_dim=node_dim, num_walks=num_walks, walk_length=walk_length)\n",
    "        node2vec_auc_scores[(node_dim, num_walks, walk_length, p, q)] = get_auc_score(model, valid_edges, false_edges)\n",
    "        print(\"auc: %.4f\" % (node2vec_auc_scores[(node_dim, num_walks, walk_length, p, q)]))"
   ]
  },
  {
   "cell_type": "markdown",
   "metadata": {},
   "source": [
    "Example of using Heatmap to viualize the result."
   ]
  },
  {
   "cell_type": "code",
   "execution_count": 19,
   "metadata": {},
   "outputs": [
    {
     "data": {
      "image/png": "[encoded data removed]",
      "text/plain": [
       "<Figure size 432x288 with 2 Axes>"
      ]
     },
     "metadata": {
      "needs_background": "light"
     },
     "output_type": "display_data"
    }
   ],
   "source": [
    "from mpl_toolkits.mplot3d import Axes3D\n",
    "\n",
    "fig = plt.figure()\n",
    "ax = fig.add_subplot(111, projection='3d')\n",
    "dw_auc = np.array([[deepwalk_auc_scores[(node_dim, num_walks, walk_length)] for node_dim in [5,10,20,40] for walk_length in [5,10,15,20]] for num_walks in [5,10,15,20]])\n",
    "\n",
    "x = np.array([5,5,5,5,5,5,5,5,5,5,5,5,5,5,5,5,10,10,10,10,10,10,10,10,10,10,10,10,10,10,10,10,20,20,20,20,20,20,20,20,20,20,20,20,20,20,20,20,40,40,40,40,40,40,40,40,40,40,40,40,40,40,40,40])\n",
    "y = np.array([5,5,5,5,10,10,10,10,15,15,15,15,20,20,20,20,5,5,5,5,10,10,10,10,15,15,15,15,20,20,20,20,5,5,5,5,10,10,10,10,15,15,15,15,20,20,20,20,5,5,5,5,10,10,10,10,15,15,15,15,20,20,20,20])\n",
    "z = np.array([5,10,15,20,5,10,15,20,5,10,15,20,5,10,15,20,5,10,15,20,5,10,15,20,5,10,15,20,5,10,15,20,5,10,15,20,5,10,15,20,5,10,15,20,5,10,15,20,5,10,15,20,5,10,15,20,5,10,15,20,5,10,15,20])\n",
    "c = dw_auc\n",
    "\n",
    "\n",
    "ax.set_xlabel('node_dim')\n",
    "ax.set_ylabel('num_walks')\n",
    "ax.set_zlabel('walk_length')\n",
    "\n",
    "img = ax.scatter(x, y, z, c=c, s=30, cmap=plt.jet())\n",
    "fig.colorbar(img)\n",
    "plt.show()"
   ]
  },
  {
   "cell_type": "code",
   "execution_count": 27,
   "metadata": {},
   "outputs": [
    {
     "data": {
      "text/plain": [
       "Text(0, 0.5, 'q')"
      ]
     },
     "execution_count": 27,
     "metadata": {},
     "output_type": "execute_result"
    },
    {
     "data": {
      "image/png": "[encoded data removed]",
      "text/plain": [
       "<Figure size 720x720 with 2 Axes>"
      ]
     },
     "metadata": {
      "needs_background": "light"
     },
     "output_type": "display_data"
    }
   ],
   "source": [
    "plt.figure(figsize=(10, 10))\n",
    "node_dim = 10\n",
    "num_walks = 15\n",
    "walk_length = 15\n",
    "# you should have an auc score dictionary here.\n",
    "a = np.array([[node2vec_auc_scores[(node_dim, num_walks, walk_length, p, q)] for p in [0.1,0.2,0.3,0.4,0.5,0.6,0.7,0.8,0.9]] for q in [0.1,0.2,0.3,0.4,0.5,0.6,0.7,0.8,0.9]])\n",
    "plt.imshow(a, cmap=\"hot\", interpolation=\"nearest\")\n",
    "plt.colorbar()\n",
    "plt.xticks(ticks=[0,1,2,3,4,5,6,7,8], labels=[0.1,0.2,0.3,0.4,0.5,0.6,0.7,0.8,0.9])\n",
    "plt.xlabel(\"p\")\n",
    "plt.yticks(ticks=[0,1,2,3,4,5,6,7,8], labels=[0.1,0.2,0.3,0.4,0.5,0.6,0.7,0.8,0.9])\n",
    "plt.ylabel(\"q\")"
   ]
  },
  {
   "cell_type": "markdown",
   "metadata": {},
   "source": [
    "You can build model with the best parameters you find and save the prediction here."
   ]
  },
  {
   "cell_type": "code",
   "execution_count": null,
   "metadata": {},
   "outputs": [],
   "source": [
    "model = build_deepwalk(graph, alias_nodes, node_dim=10, num_walks=10, walk_length=10)\n",
    "scores = [get_cosine_sim(model, src, dst) for src, dst in test_edges]\n",
    "write_pred(\"data/pred.csv\", test_edges, scores)"
   ]
  },
  {
   "cell_type": "markdown",
   "metadata": {},
   "source": [
    "DEEPWAK_TUNING"
   ]
  },
  {
   "cell_type": "code",
   "execution_count": null,
   "metadata": {},
   "outputs": [],
   "source": [
    "import optuna\n",
    "def objective(trial,graph,alias_nodes,alias_edges):\n",
    "    np.random.seed(0)\n",
    "    \n",
    "    node_dim = trial.suggest_categorical(\"node_dim\",[5,10,20,40])\n",
    "    num_walks = trial.suggest_categorical(\"num_walks\",[5,10,15,20])\n",
    "    walk_length = trial.suggest_categorical(\"walk_length\",[5,10,15,20])\n",
    "    deepwalk_auc_scores = dict()\n",
    "\n",
    "    print(\"node dim: %d,\\tnum_walks: %d,\\twalk_length: %d\" % (node_dim, num_walks, walk_length), end=\"\\t\")\n",
    "    model = build_deepwalk(graph, alias_nodes, \n",
    "                           node_dim=node_dim, num_walks=num_walks, walk_length=walk_length)\n",
    "    deepwalk_auc_scores[(node_dim, num_walks, walk_length)] = get_auc_score(model, valid_edges, false_edges)\n",
    "    print(\"auc: %.4f\" % (deepwalk_auc_scores[(node_dim, num_walks, walk_length)]))\n",
    "    return (deepwalk_auc_scores[(node_dim, num_walks, walk_length)])\n",
    "\n",
    "study = optuna.create_study(direction = 'maximize')\n",
    "study.optimize(lambda trial:objective(trial,graph=graph,alias_nodes=alias_nodes,alias_edges=alias_edges), n_trials=100)\n",
    "\n",
    "study.best_params"
   ]
  },
  {
   "cell_type": "markdown",
   "metadata": {},
   "source": [
    "NODE2VEC TUNING"
   ]
  },
  {
   "cell_type": "code",
   "execution_count": null,
   "metadata": {},
   "outputs": [],
   "source": [
    "def objective_node2vec(trial,graph,alias_nodes,alias_edges):\n",
    "    np.random.seed(0)\n",
    "    \n",
    "    node_dim = trial.suggest_categorical(\"node_dim\",[5,10,20,40])\n",
    "    num_walks = trial.suggest_categorical(\"num_walks\",[5,10,15,20])\n",
    "    walk_length = trial.suggest_categorical(\"walk_length\",[5,10,15,20])\n",
    "    p = trial.suggest_float('p',0.01,1)\n",
    "    q = trial.suggest_float('q',0.01,1)\n",
    "\n",
    "    node2vec_auc_scores = dict()\n",
    "    print(\"node dim: %d,\\tnum_walks: %d,\\twalk_length: %d,\\tp: %.2f,\\tq: %.2f\" % (\n",
    "        node_dim, num_walks, walk_length, p, q), end=\"\\t\")\n",
    "    alias_nodes, alias_edges = preprocess_transition_probs(graph, p=p, q=q)\n",
    "    model = build_node2vec(graph, alias_nodes, alias_edges, \n",
    "                           node_dim=node_dim, num_walks=num_walks, walk_length=walk_length)\n",
    "    node2vec_auc_scores[(node_dim, num_walks, walk_length, p, q)] = get_auc_score(model, valid_edges, false_edges)\n",
    "    print(\"auc: %.4f\" % (node2vec_auc_scores[(node_dim, num_walks, walk_length, p, q)]))\n",
    "    return (node2vec_auc_scores[(node_dim, num_walks, walk_length, p, q)])\n",
    "\n",
    "study_node2vec = optuna.create_study(direction = 'maximize')\n",
    "study_node2vec.optimize(lambda trial:objective_node2vec(trial,graph=graph,alias_nodes=alias_nodes,alias_edges=alias_edges), n_trials=100)\n",
    "\n",
    "study_node2vec.best_params"
   ]
  },
  {
   "cell_type": "markdown",
   "metadata": {},
   "source": [
    "use best parameters {'node_dim': 10, 'num_walks': 15, 'walk_length': 15}"
   ]
  },
  {
   "cell_type": "code",
   "execution_count": 28,
   "metadata": {},
   "outputs": [
    {
     "name": "stdout",
     "output_type": "stream",
     "text": [
      "building a DeepWalk model...\tnumber of walks: 124920\taverage walk length: 14.8291\ttraining time: 38.6212\n"
     ]
    }
   ],
   "source": [
    "model = build_deepwalk(graph, alias_nodes, node_dim=10, num_walks=15, walk_length=15)\n",
    "scores = [get_cosine_sim(model, src, dst) for src, dst in test_edges]\n",
    "write_pred(\"data/pred.csv\", test_edges, scores)"
   ]
  },
  {
   "cell_type": "markdown",
   "metadata": {},
   "source": [
    "With the help of p and q, the node2vec model can fit training data better. And you can have a try if you set p=q=1, the two models will return the same results."
   ]
  }
 ],
 "metadata": {
  "kernelspec": {
   "display_name": "Python 3",
   "language": "python",
   "name": "python3"
  },
  "language_info": {
   "codemirror_mode": {
    "name": "ipython",
    "version": 3
   },
   "file_extension": ".py",
   "mimetype": "text/x-python",
   "name": "python",
   "nbconvert_exporter": "python",
   "pygments_lexer": "ipython3",
   "version": "3.6.12"
  }
 },
 "nbformat": 4,
 "nbformat_minor": 4
}
