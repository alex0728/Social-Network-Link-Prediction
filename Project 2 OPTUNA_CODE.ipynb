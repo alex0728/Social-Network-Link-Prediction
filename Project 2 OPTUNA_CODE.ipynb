{
 "cells": [
  {
   "cell_type": "code",
   "execution_count": 1,
   "metadata": {},
   "outputs": [
    {
     "name": "stderr",
     "output_type": "stream",
     "text": [
      "c:\\users\\kenredd\\anaconda3\\envs\\comp4332\\lib\\site-packages\\gensim\\similarities\\__init__.py:15: UserWarning: The gensim.similarities.levenshtein submodule is disabled, because the optional Levenshtein package <https://pypi.org/project/python-Levenshtein/> is unavailable. Install Levenhstein (e.g. `pip install python-Levenshtein`) to suppress this warning.\n",
      "  warnings.warn(msg)\n"
     ]
    }
   ],
   "source": [
    "import networkx as nx\n",
    "import numpy as np\n",
    "import os\n",
    "import time\n",
    "import pandas as pd\n",
    "import matplotlib.pyplot as plt\n",
    "from itertools import chain\n",
    "from collections import defaultdict\n",
    "from gensim.models import Word2Vec\n",
    "from sklearn.model_selection import KFold\n",
    "from sklearn.metrics import roc_auc_score"
   ]
  },
  {
   "cell_type": "markdown",
   "metadata": {},
   "source": [
    "# Pipeline"
   ]
  },
  {
   "cell_type": "markdown",
   "metadata": {},
   "source": [
    "### Data Loader"
   ]
  },
  {
   "cell_type": "markdown",
   "metadata": {},
   "source": [
    "We need to load networks into memory. Usually networks are organized as pairs of nodes. And sometimes different edges have different weights. Hence, we use networkx.DiGraph to store such structure information and attributes."
   ]
  },
  {
   "cell_type": "code",
   "execution_count": 2,
   "metadata": {},
   "outputs": [],
   "source": [
    "def load_data(file_name): \n",
    "    \"\"\"\n",
    "    read edges from an edge file\n",
    "    \"\"\"\n",
    "    edges = list()\n",
    "    df = pd.read_csv(file_name)\n",
    "    for idx, row in df.iterrows():\n",
    "        user_id, friends = row[\"user_id\"], eval(row[\"friends\"])\n",
    "        for friend in friends:\n",
    "            # add each friend relation as an edge\n",
    "            edges.append((user_id, friend))\n",
    "    edges = sorted(edges)\n",
    "    \n",
    "    return edges\n",
    "\n",
    "def load_test_data(file_name):\n",
    "    \"\"\"\n",
    "    read edges from an edge file\n",
    "    \"\"\"\n",
    "    edges = list()\n",
    "    scores = list()\n",
    "    df = pd.read_csv(file_name)\n",
    "    for idx, row in df.iterrows():\n",
    "        edges.append((row[\"src\"], row[\"dst\"]))\n",
    "    edges = sorted(edges)\n",
    "    \n",
    "    return edges\n",
    "\n",
    "def generate_false_edges(true_edges, num_false_edges=5):\n",
    "    \"\"\"\n",
    "    generate false edges given true edges\n",
    "    \"\"\"\n",
    "    nodes = list(set(chain.from_iterable(true_edges)))\n",
    "    N = len(nodes)\n",
    "    true_edges = set(true_edges)\n",
    "    print(N, len(true_edges))\n",
    "    false_edges = set()\n",
    "    \n",
    "    while len(false_edges) < num_false_edges:\n",
    "        # randomly sample two different nodes and check whether the pair exisit or not\n",
    "        src, dst = nodes[int(np.random.rand() * N)], nodes[int(np.random.rand() * N)]\n",
    "        if src != dst and (src, dst) not in true_edges and (src, dst) not in false_edges:\n",
    "            false_edges.add((src, dst))\n",
    "    false_edges = sorted(false_edges)\n",
    "    \n",
    "    return false_edges\n",
    "\n",
    "def construct_graph_from_edges(edges):\n",
    "    \"\"\"\n",
    "    generate a directed graph object given true edges\n",
    "    DiGraph documentation: https://networkx.github.io/documentation/stable/reference/classes/digraph.html\n",
    "    \"\"\"\n",
    "    # convert a list of edges {(u, v)} to a list of edges with weights {(u, v, w)}\n",
    "    edge_weight = defaultdict(float)\n",
    "    for e in edges:\n",
    "        edge_weight[e] += 1.0\n",
    "    weighed_edge_list = list()\n",
    "    for e in sorted(edge_weight.keys()):\n",
    "        weighed_edge_list.append((e[0], e[1], edge_weight[e]))\n",
    "        \n",
    "    graph = nx.DiGraph()\n",
    "    graph.add_weighted_edges_from(weighed_edge_list)\n",
    "    \n",
    "    print(\"number of nodes:\", graph.number_of_nodes())\n",
    "    print(\"number of edges:\", graph.number_of_edges())\n",
    "    \n",
    "    return graph"
   ]
  },
  {
   "cell_type": "markdown",
   "metadata": {},
   "source": [
    "### Random Walk Generator"
   ]
  },
  {
   "cell_type": "markdown",
   "metadata": {},
   "source": [
    "Random walk generators or random walkers yield random walks that contain both local and higher-order neighborhood information. However, naive non-uniform sampling is very slow, which requires O(n) time complexity. Here alias sampling can reduce the time complexity to O(1) with O(n) space. If you are interested, please see the following blog."
   ]
  },
  {
   "cell_type": "code",
   "execution_count": 3,
   "metadata": {},
   "outputs": [],
   "source": [
    "def alias_setup(probs):\n",
    "    \"\"\"\n",
    "    compute utility lists for non-uniform sampling from discrete distributions.\n",
    "    details: https://lips.cs.princeton.edu/the-alias-method-efficient-sampling-with-many-discrete-outcomes/\n",
    "    \"\"\"\n",
    "    K = len(probs)\n",
    "    q = np.zeros(K)\n",
    "    J = np.zeros(K, dtype=np.int)\n",
    "\n",
    "    smaller = list()\n",
    "    larger = list()\n",
    "    for kk, prob in enumerate(probs):\n",
    "        q[kk] = K * prob\n",
    "        if q[kk] < 1.0:\n",
    "            smaller.append(kk)\n",
    "        else:\n",
    "            larger.append(kk)\n",
    "\n",
    "    while len(smaller) > 0 and len(larger) > 0:\n",
    "        small = smaller.pop()\n",
    "        large = larger.pop()\n",
    "\n",
    "        J[small] = large\n",
    "        q[large] = q[large] + q[small] - 1.0\n",
    "        if q[large] < 1.0:\n",
    "            smaller.append(large)\n",
    "        else:\n",
    "            larger.append(large)\n",
    "\n",
    "    return J, q\n",
    "\n",
    "def get_alias_node(graph, node):\n",
    "    \"\"\"\n",
    "    get the alias node setup lists for a given node.\n",
    "    \"\"\"\n",
    "    # get the unnormalized probabilities with the first-order information\n",
    "    unnormalized_probs = list()\n",
    "    for nbr in graph.neighbors(node):\n",
    "        unnormalized_probs.append(graph[node][nbr][\"weight\"])\n",
    "    unnormalized_probs = np.array(unnormalized_probs)\n",
    "    if len(unnormalized_probs) > 0:\n",
    "        normalized_probs = unnormalized_probs / unnormalized_probs.sum()\n",
    "    else:\n",
    "        normalized_probs = unnormalized_probs\n",
    "        \n",
    "    return alias_setup(normalized_probs)\n",
    "    \n",
    "def get_alias_edge(graph, src, dst, p=1, q=1):\n",
    "    \"\"\"\n",
    "    get the alias edge setup lists for a given edge.\n",
    "    \"\"\"\n",
    "    # get the unnormalized probabilities with the second-order information\n",
    "    unnormalized_probs = list()\n",
    "    for dst_nbr in graph.neighbors(dst):\n",
    "        if dst_nbr == src: # distance is 0\n",
    "            unnormalized_probs.append(graph[dst][dst_nbr][\"weight\"]/p)\n",
    "        elif graph.has_edge(dst_nbr, src): # distance is 1\n",
    "            unnormalized_probs.append(graph[dst][dst_nbr][\"weight\"])\n",
    "        else: # distance is 2\n",
    "            unnormalized_probs.append(graph[dst][dst_nbr][\"weight\"]/q)\n",
    "    unnormalized_probs = np.array(unnormalized_probs)\n",
    "    if len(unnormalized_probs) > 0:\n",
    "        normalized_probs = unnormalized_probs / unnormalized_probs.sum()\n",
    "    else:\n",
    "        normalized_probs = unnormalized_probs\n",
    "\n",
    "    return alias_setup(normalized_probs)\n",
    "\n",
    "def preprocess_transition_probs(graph, p=1, q=1):\n",
    "    \"\"\"\n",
    "    preprocess transition probabilities for guiding the random walks.\n",
    "    \"\"\"\n",
    "    alias_nodes = dict()\n",
    "    for node in graph.nodes():\n",
    "        alias_nodes[node] = get_alias_node(graph, node)\n",
    "\n",
    "    alias_edges = dict()\n",
    "    for edge in graph.edges():\n",
    "        alias_edges[edge] = get_alias_edge(graph, edge[0], edge[1], p=p, q=q)\n",
    "\n",
    "    return alias_nodes, alias_edges"
   ]
  },
  {
   "cell_type": "markdown",
   "metadata": {},
   "source": [
    "The difference between DeepWalk and node2vec is how to generate random walks. The former only consider the first-order information while the latter also involves the second-order information."
   ]
  },
  {
   "cell_type": "code",
   "execution_count": 4,
   "metadata": {},
   "outputs": [],
   "source": [
    "def alias_draw(J, q):\n",
    "    \"\"\"\n",
    "    draw sample from a non-uniform discrete distribution using alias sampling.\n",
    "    \"\"\"\n",
    "    K = len(J)\n",
    "\n",
    "    kk = int(np.floor(np.random.rand() * K))\n",
    "    if np.random.rand() < q[kk]:\n",
    "        return kk\n",
    "    else:\n",
    "        return J[kk]\n",
    "\n",
    "\n",
    "# helper function to generate the long random walk as desired\n",
    "def fallback(walk, fetch_last_num=1):\n",
    "    if len(walk) > fetch_last_num:\n",
    "        walk.pop()\n",
    "        fetched = []\n",
    "        for i in range(fetch_last_num):\n",
    "            fetched.append(walk[-1-i])\n",
    "        return walk, fetched\n",
    "    else:\n",
    "        return [], [None for _ in range(fetch_last_num)]\n",
    "\n",
    "def generate_first_order_random_walk(graph, alias_nodes, \n",
    "                                     walk_length=10, start_node=None, verbose=False, max_trails=10):\n",
    "    \"\"\"\n",
    "    simulate a random walk starting from start node and considering the first order information.\n",
    "    max_trials: set the max trials to be one for standard random walk. Larger max_trails will make the generated biased.\n",
    "    \"\"\"\n",
    "    if start_node == None:\n",
    "        start_node = np.random.choice(graph.nodes())\n",
    "    walk = [start_node]\n",
    "    cur = start_node\n",
    "    num_tried = 0\n",
    "    \n",
    "    ########## begin ##########\n",
    "    while len(walk) < walk_length:\n",
    "        cur_nbrs = list(graph.neighbors(cur))\n",
    "        if len(cur_nbrs) > 0: # if we can sample next nodes\n",
    "            # sample the next node based on alias_nodes\n",
    "            cur = cur_nbrs[alias_draw(*alias_nodes[cur])]\n",
    "            walk.append(cur)\n",
    "        else: # if we can't do that\n",
    "            num_tried += 1\n",
    "            if num_tried >= max_trails:\n",
    "                break\n",
    "\n",
    "            walk, fetched = fallback(walk, fetch_last_num=1)\n",
    "            cur = fetched[0]\n",
    "            if len(walk) == 0: # if falls back to the empty walk\n",
    "                start_node = np.random.choice(graph.nodes())\n",
    "                walk = [start_node]\n",
    "                cur = start_node\n",
    "    ########## end ##########\n",
    "\n",
    "    if verbose: \n",
    "        print(f'walk of lenght {len(walk)} generated with {num_tried} trails')\n",
    "    return walk\n",
    "    \n",
    "def generate_second_order_random_walk(graph, alias_nodes, alias_edges, \n",
    "                                      walk_length=10, start_node=None, verbose=False, max_trails=10):\n",
    "    \"\"\"\n",
    "    simulate a random walk starting from start node and considering the second order information.\n",
    "    \"\"\"\n",
    "    if start_node == None:\n",
    "        start_node = np.random.choice(graph.nodes())\n",
    "    walk = [start_node]\n",
    "    \n",
    "    prev = None\n",
    "    cur = start_node\n",
    "    num_tried = 0\n",
    "\n",
    "    ########## begin ##########\n",
    "    while len(walk) < walk_length:\n",
    "        cur_nbrs = list(graph.neighbors(cur))\n",
    "        if len(cur_nbrs) > 0:\n",
    "            if prev is None:\n",
    "                # sample the next node based on alias_nodes\n",
    "                prev, cur = cur, cur_nbrs[alias_draw(*alias_nodes[cur])]\n",
    "            else:\n",
    "                # sample the next node based on alias_edges\n",
    "                prev, cur = cur, cur_nbrs[alias_draw(*alias_edges[(prev, cur)])]\n",
    "            walk.append(cur)\n",
    "        else:\n",
    "            num_tried += 1\n",
    "            if num_tried >= max_trails:\n",
    "                break\n",
    "            walk, (cur, prev) = fallback(walk, fetch_last_num=2)\n",
    "            if len(walk) == 0:\n",
    "                start_node = np.random.choice(graph.nodes())\n",
    "                walk = [start_node]\n",
    "                cur = start_node\n",
    "                prev = None\n",
    "    ########## end ##########\n",
    "    if verbose: \n",
    "        print(f'walk of lenght {len(walk)} generated with {num_tried} trails')\n",
    "    return walk"
   ]
  },
  {
   "cell_type": "markdown",
   "metadata": {},
   "source": [
    "### Network Embedding Algorithms"
   ]
  },
  {
   "cell_type": "code",
   "execution_count": 5,
   "metadata": {},
   "outputs": [],
   "source": [
    "def build_deepwalk(graph, alias_nodes, node_dim=10, num_walks=10, walk_length=10):\n",
    "    \"\"\"\n",
    "    build a deepwalk model\n",
    "    \"\"\"\n",
    "    print(\"building a DeepWalk model...\", end=\"\\t\")\n",
    "    st = time.time()\n",
    "    np.random.seed(0)\n",
    "    nodes = list(graph.nodes())\n",
    "    walks = list()\n",
    "    # generate random walks\n",
    "    for walk_iter in range(num_walks):\n",
    "        np.random.shuffle(nodes)\n",
    "        for node in nodes:\n",
    "            walks.append(generate_first_order_random_walk(\n",
    "                graph, alias_nodes, walk_length=walk_length, start_node=node))\n",
    "        \n",
    "    walk_lens = [len(w) for w in walks]\n",
    "    if len(walk_lens) > 0:\n",
    "        avg_walk_len = sum(walk_lens) / len(walk_lens)\n",
    "    else:\n",
    "        avg_walk_len = 0.0\n",
    "    print(\"number of walks: %d\\taverage walk length: %.4f\" % (len(walks), avg_walk_len), end=\"\\t\")\n",
    "    \n",
    "    # train a skip-gram model for these walks\n",
    "    model = Word2Vec(walks, vector_size=node_dim, window=3, min_count=0, sg=1, workers=os.cpu_count(), epochs=10)\n",
    "    print(\"training time: %.4f\" % (time.time()-st))\n",
    "    \n",
    "    return model\n",
    "\n",
    "def build_node2vec(graph, alias_nodes, alias_edges, node_dim=10, num_walks=10, walk_length=10):\n",
    "    \"\"\"\n",
    "    build a node2vec model\n",
    "    \"\"\"\n",
    "    print(\"building a node2vec model...\", end=\"\\t\")\n",
    "    st = time.time()\n",
    "    np.random.seed(0)\n",
    "    nodes = list(graph.nodes())\n",
    "    walks = list()\n",
    "    # generate random walks\n",
    "    for walk_iter in range(num_walks):\n",
    "        np.random.shuffle(nodes)\n",
    "        for node in nodes:\n",
    "            walks.append(generate_second_order_random_walk(\n",
    "                graph, alias_nodes, alias_edges, walk_length=walk_length, start_node=node))\n",
    "            \n",
    "    walk_lens = [len(w) for w in walks]\n",
    "    if len(walk_lens) > 0:\n",
    "        avg_walk_len = sum(walk_lens) / len(walk_lens)\n",
    "    else:\n",
    "        avg_walk_len = 0.0    \n",
    "    print(\"number of walks: %d\\taverage walk length: %.4f\" % (len(walks), avg_walk_len), end=\"\\t\")\n",
    "    \n",
    "    # train a skip-gram model for these walks\n",
    "    model = Word2Vec(walks, vector_size=node_dim, window=3, min_count=0, sg=1, workers=os.cpu_count(), epochs=10)\n",
    "    print(\"training time: %.4f\" % (time.time()-st))\n",
    "    \n",
    "    return model"
   ]
  },
  {
   "cell_type": "markdown",
   "metadata": {},
   "source": [
    "### Scorer"
   ]
  },
  {
   "cell_type": "code",
   "execution_count": 6,
   "metadata": {},
   "outputs": [],
   "source": [
    "def get_cosine_sim(model, u, v):\n",
    "    \"\"\"\n",
    "    get the cosine similarity between two nodes\n",
    "    \"\"\"\n",
    "    try:\n",
    "        u = model.wv[u]\n",
    "        v = model.wv[v]\n",
    "        return np.dot(u, v) / (np.linalg.norm(u) * np.linalg.norm(v))\n",
    "    except:\n",
    "        return 0.5\n",
    "\n",
    "def get_auc_score(model, true_edges, false_edges):\n",
    "    \"\"\"\n",
    "    get the auc score\n",
    "    \"\"\"\n",
    "    y_true = [1] * len(true_edges) + [0] * len(false_edges)\n",
    "    \n",
    "    y_score = list()\n",
    "    for e in true_edges:\n",
    "        y_score.append(get_cosine_sim(model, e[0], e[1]))\n",
    "    for e in false_edges:\n",
    "        y_score.append(get_cosine_sim(model, e[0], e[1]))\n",
    "    \n",
    "    return roc_auc_score(y_true, y_score)\n",
    "\n",
    "def write_pred(file_name, edges, scores):\n",
    "    df = pd.DataFrame()\n",
    "    df[\"src\"] = [e[0] for e in edges]\n",
    "    df[\"dst\"] = [e[1] for e in edges]\n",
    "    df[\"score\"] = scores\n",
    "    df.to_csv(file_name, index=False)\n",
    "\n",
    "\n",
    "def write_valid_ans(file_name, edges, scores):\n",
    "    df = pd.DataFrame()\n",
    "    df[\"src\"] = [e[0] for e in edges]\n",
    "    df[\"dst\"] = [e[1] for e in edges]\n",
    "    df[\"score\"] = scores\n",
    "    df.to_csv(file_name, index=False)"
   ]
  },
  {
   "cell_type": "markdown",
   "metadata": {},
   "source": [
    "### Try them over a Real-life Network"
   ]
  },
  {
   "cell_type": "markdown",
   "metadata": {},
   "source": [
    "Firstly, we need to load edges into memory and use the networkx.DiGraph structure to store the graph."
   ]
  },
  {
   "cell_type": "code",
   "execution_count": 7,
   "metadata": {},
   "outputs": [
    {
     "name": "stdout",
     "output_type": "stream",
     "text": [
      "number of nodes: 8328\n",
      "number of edges: 100000\n",
      "8474 119268\n"
     ]
    }
   ],
   "source": [
    "train_file = \"data/train.csv\"\n",
    "valid_file = \"data/valid.csv\"\n",
    "test_file = \"data/test.csv\"\n",
    "\n",
    "np.random.seed(0)\n",
    "train_edges = load_data(train_file)\n",
    "graph = construct_graph_from_edges(train_edges)\n",
    "valid_edges = load_data(valid_file)\n",
    "false_edges = generate_false_edges(train_edges+valid_edges, 40000-len(valid_edges))\n",
    "test_edges = load_test_data(test_file)"
   ]
  },
  {
   "cell_type": "code",
   "execution_count": 8,
   "metadata": {},
   "outputs": [
    {
     "name": "stdout",
     "output_type": "stream",
     "text": [
      "number of nodes: 5440\n",
      "number of edges: 19268\n",
      "number of nodes: 8395\n",
      "number of edges: 20732\n",
      "number of nodes: 8509\n",
      "number of edges: 40000\n"
     ]
    },
    {
     "data": {
      "text/plain": [
       "<networkx.classes.digraph.DiGraph at 0x1c1dce6e630>"
      ]
     },
     "execution_count": 8,
     "metadata": {},
     "output_type": "execute_result"
    }
   ],
   "source": [
    "construct_graph_from_edges(valid_edges)\n",
    "construct_graph_from_edges(false_edges)\n",
    "construct_graph_from_edges(test_edges)"
   ]
  },
  {
   "cell_type": "markdown",
   "metadata": {},
   "source": [
    "After that, we can use preprocess transition probabilities with the help of alias sampling."
   ]
  },
  {
   "cell_type": "code",
   "execution_count": 9,
   "metadata": {},
   "outputs": [],
   "source": [
    "alias_nodes, alias_edges = preprocess_transition_probs(graph, p=1, q=1)"
   ]
  },
  {
   "cell_type": "markdown",
   "metadata": {},
   "source": [
    "We can use random walk generators to generate random walks."
   ]
  },
  {
   "cell_type": "markdown",
   "metadata": {},
   "source": [
    "Let's try to generate a first-order random walk and a second-order random walk."
   ]
  },
  {
   "cell_type": "code",
   "execution_count": 10,
   "metadata": {},
   "outputs": [
    {
     "data": {
      "text/plain": [
       "['N6ZTMIue-2b30CJv2tyPGg',\n",
       " 'r9tjKaqLvLKF7PvDnUsFnA',\n",
       " '3DYOjCqN4u47VV5ZPIeKiA',\n",
       " 'ACwN3HGetqPVhAgGKzdnsA',\n",
       " 'NsegE9Mqm3GCQeSx0v0tYw',\n",
       " 'EOxdQuedwe_2MkdLnX7MAA',\n",
       " '7sNE58P4AvsX6QHE8ypCiA',\n",
       " 'KQMzfaaI9jfo68S4CsCifA',\n",
       " 'pL4NhW3rTokFr-CQh3Lzgg',\n",
       " 'G-_KF_Ul4d3WGEa-G0Iq4g']"
      ]
     },
     "execution_count": 10,
     "metadata": {},
     "output_type": "execute_result"
    }
   ],
   "source": [
    "generate_first_order_random_walk(graph, alias_nodes=alias_nodes,\n",
    "                                 start_node=\"N6ZTMIue-2b30CJv2tyPGg\", walk_length=10)"
   ]
  },
  {
   "cell_type": "code",
   "execution_count": 11,
   "metadata": {},
   "outputs": [
    {
     "data": {
      "text/plain": [
       "['N6ZTMIue-2b30CJv2tyPGg',\n",
       " 'PcvbBOCOcs6_suRDH7TSTg',\n",
       " 'e6iCOIhtupBCiw-VwBvJ4A',\n",
       " '2Kjg_lEofeeD5cHsAQWoOQ',\n",
       " 'V7B4KTBitlBs9YH_B00-9Q',\n",
       " '06BQ4dG6VEycSgkLO-HbvQ',\n",
       " 'V7B4KTBitlBs9YH_B00-9Q',\n",
       " 'Gfw63_PbeMMcu8N0PqgMHg',\n",
       " 'JJzNjlYtnmlzOVsl5adowA',\n",
       " '7aiIlfpcQZG7ea10R5i4RQ']"
      ]
     },
     "execution_count": 11,
     "metadata": {},
     "output_type": "execute_result"
    }
   ],
   "source": [
    "generate_second_order_random_walk(graph, alias_nodes=alias_nodes, alias_edges=alias_edges,\n",
    "                                  start_node=\"N6ZTMIue-2b30CJv2tyPGg\", walk_length=10)"
   ]
  },
  {
   "cell_type": "markdown",
   "metadata": {},
   "source": [
    "And we can build a DeepWalk model and a node2vec model. Here we set p=q=0.5 so that the walker will not go very far away from the start node."
   ]
  },
  {
   "cell_type": "code",
   "execution_count": 15,
   "metadata": {},
   "outputs": [
    {
     "name": "stdout",
     "output_type": "stream",
     "text": [
      "building a DeepWalk model...\tnumber of walks: 83280\taverage walk length: 9.8980\ttraining time: 19.9839\n"
     ]
    }
   ],
   "source": [
    "model = build_deepwalk(graph, alias_nodes, node_dim=10, num_walks=10, walk_length=10)"
   ]
  },
  {
   "cell_type": "code",
   "execution_count": 16,
   "metadata": {},
   "outputs": [
    {
     "name": "stdout",
     "output_type": "stream",
     "text": [
      "building a node2vec model...\tnumber of walks: 83280\taverage walk length: 9.9910\ttraining time: 22.0399\n"
     ]
    }
   ],
   "source": [
    "model = build_node2vec(graph, alias_nodes, alias_edges, node_dim=10, num_walks=10, walk_length=10)"
   ]
  },
  {
   "cell_type": "markdown",
   "metadata": {},
   "source": [
    "Let's see the node embeddings of three nodes, and cosine similarities of two edges."
   ]
  },
  {
   "cell_type": "code",
   "execution_count": 17,
   "metadata": {},
   "outputs": [
    {
     "name": "stdout",
     "output_type": "stream",
     "text": [
      "node embedding (\"N6ZTMIue-2b30CJv2tyPGg\"): [ 0.77952605 -0.5022111   2.1373553   1.4119191  -0.85547066  0.6645319\n",
      " -0.44554803  1.0768986  -1.02131    -0.78935987]\n",
      "node embedding (\"N7E-CfqdME28dakWdEKNvw\"): [ 0.59535897 -0.17014615  1.7030517   0.88074785 -0.69196105  0.6744181\n",
      "  1.0173757   0.6628969   0.02595916 -0.9556733 ]\n",
      "node embedding (\"MmlJSLDg-IFaeXb5wdJbgg\"): [ 0.62878597  0.1257576  -0.69431937  0.40506947  0.82795566  1.733121\n",
      "  3.2750273   1.0875849  -0.63047916 -1.6952037 ]\n",
      "true edge (\"N6ZTMIue-2b30CJv2tyPGg\", \"N7E-CfqdME28dakWdEKNvw\"): 0.8056885\n",
      "false edge (\"N6ZTMIue-2b30CJv2tyPGg\", \"MmlJSLDg-IFaeXb5wdJbgg\"): 0.10859527\n"
     ]
    }
   ],
   "source": [
    "print(\"node embedding (\\\"N6ZTMIue-2b30CJv2tyPGg\\\"):\",\n",
    "      model.wv[\"N6ZTMIue-2b30CJv2tyPGg\"])\n",
    "print(\"node embedding (\\\"N7E-CfqdME28dakWdEKNvw\\\"):\",\n",
    "      model.wv[\"N7E-CfqdME28dakWdEKNvw\"])\n",
    "print(\"node embedding (\\\"MmlJSLDg-IFaeXb5wdJbgg\\\"):\",\n",
    "      model.wv.vectors[model.wv.index_to_key.index(\"MmlJSLDg-IFaeXb5wdJbgg\")])\n",
    "print(\"true edge (\\\"N6ZTMIue-2b30CJv2tyPGg\\\", \\\"N7E-CfqdME28dakWdEKNvw\\\"):\",\n",
    "      get_cosine_sim(model, \"N6ZTMIue-2b30CJv2tyPGg\", \"N7E-CfqdME28dakWdEKNvw\"))\n",
    "print(\"false edge (\\\"N6ZTMIue-2b30CJv2tyPGg\\\", \\\"MmlJSLDg-IFaeXb5wdJbgg\\\"):\",\n",
    "      get_cosine_sim(model, \"N6ZTMIue-2b30CJv2tyPGg\", \"MmlJSLDg-IFaeXb5wdJbgg\"))"
   ]
  },
  {
   "cell_type": "code",
   "execution_count": null,
   "metadata": {},
   "outputs": [],
   "source": []
  },
  {
   "cell_type": "markdown",
   "metadata": {},
   "source": [
    "# Link Prediction"
   ]
  },
  {
   "cell_type": "markdown",
   "metadata": {},
   "source": [
    "We can train the model with different parameters and test the model on the validation set. Please show your parameter search process and analysis in your code, and visualization tools (Heatmap, etc.) are recommended to make your analysis clear."
   ]
  },
  {
   "cell_type": "code",
   "execution_count": 18,
   "metadata": {},
   "outputs": [
    {
     "name": "stdout",
     "output_type": "stream",
     "text": [
      "node dim: 10,\tnum_walks: 10,\twalk_length: 10\tbuilding a DeepWalk model...\tnumber of walks: 83280\taverage walk length: 9.8980\ttraining time: 19.4650\n",
      "auc: 0.9273\n"
     ]
    }
   ],
   "source": [
    "np.random.seed(0)\n",
    "\n",
    "node_dim = 10\n",
    "num_walks = 10\n",
    "walk_length = 10\n",
    "\n",
    "deepwalk_auc_scores = dict()\n",
    "\n",
    "print(\"node dim: %d,\\tnum_walks: %d,\\twalk_length: %d\" % (node_dim, num_walks, walk_length), end=\"\\t\")\n",
    "model = build_deepwalk(graph, alias_nodes, \n",
    "                       node_dim=node_dim, num_walks=num_walks, walk_length=walk_length)\n",
    "deepwalk_auc_scores[(node_dim, num_walks, walk_length)] = get_auc_score(model, valid_edges, false_edges)\n",
    "print(\"auc: %.4f\" % (deepwalk_auc_scores[(node_dim, num_walks, walk_length)]))"
   ]
  },
  {
   "cell_type": "code",
   "execution_count": 19,
   "metadata": {},
   "outputs": [
    {
     "name": "stdout",
     "output_type": "stream",
     "text": [
      "node dim: 10,\tnum_walks: 10,\twalk_length: 10,\tp: 0.50,\tq: 0.50\tbuilding a node2vec model...\tnumber of walks: 83280\taverage walk length: 9.9918\ttraining time: 27.2565\n",
      "auc: 0.9281\n"
     ]
    }
   ],
   "source": [
    "np.random.seed(0)\n",
    "\n",
    "node_dim = 10\n",
    "num_walks = 10\n",
    "walk_length = 10\n",
    "p = 0.5\n",
    "q = 0.5\n",
    "\n",
    "node2vec_auc_scores = dict()\n",
    "print(\"node dim: %d,\\tnum_walks: %d,\\twalk_length: %d,\\tp: %.2f,\\tq: %.2f\" % (\n",
    "    node_dim, num_walks, walk_length, p, q), end=\"\\t\")\n",
    "alias_nodes, alias_edges = preprocess_transition_probs(graph, p=p, q=q)\n",
    "model = build_node2vec(graph, alias_nodes, alias_edges, \n",
    "                       node_dim=node_dim, num_walks=num_walks, walk_length=walk_length)\n",
    "node2vec_auc_scores[(node_dim, num_walks, walk_length, p, q)] = get_auc_score(model, valid_edges, false_edges)\n",
    "print(\"auc: %.4f\" % (node2vec_auc_scores[(node_dim, num_walks, walk_length, p, q)]))"
   ]
  },
  {
   "cell_type": "markdown",
   "metadata": {},
   "source": [
    "Example of using Heatmap to viualize the result."
   ]
  },
  {
   "cell_type": "code",
   "execution_count": 20,
   "metadata": {},
   "outputs": [
    {
     "ename": "KeyError",
     "evalue": "(20, 5, 10)",
     "output_type": "error",
     "traceback": [
      "\u001b[1;31m---------------------------------------------------------------------------\u001b[0m",
      "\u001b[1;31mKeyError\u001b[0m                                  Traceback (most recent call last)",
      "\u001b[1;32m<ipython-input-20-1345a951e65a>\u001b[0m in \u001b[0;36m<module>\u001b[1;34m\u001b[0m\n\u001b[0;32m      2\u001b[0m \u001b[0mnode_dim\u001b[0m \u001b[1;33m=\u001b[0m \u001b[1;36m20\u001b[0m\u001b[1;33m\u001b[0m\u001b[1;33m\u001b[0m\u001b[0m\n\u001b[0;32m      3\u001b[0m \u001b[1;31m# you should have an auc score dictionary here.\u001b[0m\u001b[1;33m\u001b[0m\u001b[1;33m\u001b[0m\u001b[1;33m\u001b[0m\u001b[0m\n\u001b[1;32m----> 4\u001b[1;33m \u001b[0ma\u001b[0m \u001b[1;33m=\u001b[0m \u001b[0mnp\u001b[0m\u001b[1;33m.\u001b[0m\u001b[0marray\u001b[0m\u001b[1;33m(\u001b[0m\u001b[1;33m[\u001b[0m\u001b[1;33m[\u001b[0m\u001b[0mdeepwalk_auc_scores\u001b[0m\u001b[1;33m[\u001b[0m\u001b[1;33m(\u001b[0m\u001b[0mnode_dim\u001b[0m\u001b[1;33m,\u001b[0m \u001b[0mnum_walks\u001b[0m\u001b[1;33m,\u001b[0m \u001b[0mwalk_length\u001b[0m\u001b[1;33m)\u001b[0m\u001b[1;33m]\u001b[0m \u001b[1;32mfor\u001b[0m \u001b[0mwalk_length\u001b[0m \u001b[1;32min\u001b[0m \u001b[1;33m[\u001b[0m\u001b[1;36m10\u001b[0m\u001b[1;33m,\u001b[0m \u001b[1;36m20\u001b[0m\u001b[1;33m,\u001b[0m \u001b[1;36m40\u001b[0m\u001b[1;33m]\u001b[0m\u001b[1;33m]\u001b[0m \u001b[1;32mfor\u001b[0m \u001b[0mnum_walks\u001b[0m \u001b[1;32min\u001b[0m \u001b[1;33m[\u001b[0m\u001b[1;36m5\u001b[0m\u001b[1;33m,\u001b[0m \u001b[1;36m10\u001b[0m\u001b[1;33m,\u001b[0m \u001b[1;36m20\u001b[0m\u001b[1;33m,\u001b[0m \u001b[1;36m40\u001b[0m\u001b[1;33m]\u001b[0m\u001b[1;33m]\u001b[0m\u001b[1;33m)\u001b[0m\u001b[1;33m\u001b[0m\u001b[1;33m\u001b[0m\u001b[0m\n\u001b[0m\u001b[0;32m      5\u001b[0m \u001b[0mplt\u001b[0m\u001b[1;33m.\u001b[0m\u001b[0mimshow\u001b[0m\u001b[1;33m(\u001b[0m\u001b[0ma\u001b[0m\u001b[1;33m,\u001b[0m \u001b[0mcmap\u001b[0m\u001b[1;33m=\u001b[0m\u001b[1;34m\"hot\"\u001b[0m\u001b[1;33m,\u001b[0m \u001b[0minterpolation\u001b[0m\u001b[1;33m=\u001b[0m\u001b[1;34m\"nearest\"\u001b[0m\u001b[1;33m)\u001b[0m\u001b[1;33m\u001b[0m\u001b[1;33m\u001b[0m\u001b[0m\n\u001b[0;32m      6\u001b[0m \u001b[0mplt\u001b[0m\u001b[1;33m.\u001b[0m\u001b[0mcolorbar\u001b[0m\u001b[1;33m(\u001b[0m\u001b[1;33m)\u001b[0m\u001b[1;33m\u001b[0m\u001b[1;33m\u001b[0m\u001b[0m\n",
      "\u001b[1;32m<ipython-input-20-1345a951e65a>\u001b[0m in \u001b[0;36m<listcomp>\u001b[1;34m(.0)\u001b[0m\n\u001b[0;32m      2\u001b[0m \u001b[0mnode_dim\u001b[0m \u001b[1;33m=\u001b[0m \u001b[1;36m20\u001b[0m\u001b[1;33m\u001b[0m\u001b[1;33m\u001b[0m\u001b[0m\n\u001b[0;32m      3\u001b[0m \u001b[1;31m# you should have an auc score dictionary here.\u001b[0m\u001b[1;33m\u001b[0m\u001b[1;33m\u001b[0m\u001b[1;33m\u001b[0m\u001b[0m\n\u001b[1;32m----> 4\u001b[1;33m \u001b[0ma\u001b[0m \u001b[1;33m=\u001b[0m \u001b[0mnp\u001b[0m\u001b[1;33m.\u001b[0m\u001b[0marray\u001b[0m\u001b[1;33m(\u001b[0m\u001b[1;33m[\u001b[0m\u001b[1;33m[\u001b[0m\u001b[0mdeepwalk_auc_scores\u001b[0m\u001b[1;33m[\u001b[0m\u001b[1;33m(\u001b[0m\u001b[0mnode_dim\u001b[0m\u001b[1;33m,\u001b[0m \u001b[0mnum_walks\u001b[0m\u001b[1;33m,\u001b[0m \u001b[0mwalk_length\u001b[0m\u001b[1;33m)\u001b[0m\u001b[1;33m]\u001b[0m \u001b[1;32mfor\u001b[0m \u001b[0mwalk_length\u001b[0m \u001b[1;32min\u001b[0m \u001b[1;33m[\u001b[0m\u001b[1;36m10\u001b[0m\u001b[1;33m,\u001b[0m \u001b[1;36m20\u001b[0m\u001b[1;33m,\u001b[0m \u001b[1;36m40\u001b[0m\u001b[1;33m]\u001b[0m\u001b[1;33m]\u001b[0m \u001b[1;32mfor\u001b[0m \u001b[0mnum_walks\u001b[0m \u001b[1;32min\u001b[0m \u001b[1;33m[\u001b[0m\u001b[1;36m5\u001b[0m\u001b[1;33m,\u001b[0m \u001b[1;36m10\u001b[0m\u001b[1;33m,\u001b[0m \u001b[1;36m20\u001b[0m\u001b[1;33m,\u001b[0m \u001b[1;36m40\u001b[0m\u001b[1;33m]\u001b[0m\u001b[1;33m]\u001b[0m\u001b[1;33m)\u001b[0m\u001b[1;33m\u001b[0m\u001b[1;33m\u001b[0m\u001b[0m\n\u001b[0m\u001b[0;32m      5\u001b[0m \u001b[0mplt\u001b[0m\u001b[1;33m.\u001b[0m\u001b[0mimshow\u001b[0m\u001b[1;33m(\u001b[0m\u001b[0ma\u001b[0m\u001b[1;33m,\u001b[0m \u001b[0mcmap\u001b[0m\u001b[1;33m=\u001b[0m\u001b[1;34m\"hot\"\u001b[0m\u001b[1;33m,\u001b[0m \u001b[0minterpolation\u001b[0m\u001b[1;33m=\u001b[0m\u001b[1;34m\"nearest\"\u001b[0m\u001b[1;33m)\u001b[0m\u001b[1;33m\u001b[0m\u001b[1;33m\u001b[0m\u001b[0m\n\u001b[0;32m      6\u001b[0m \u001b[0mplt\u001b[0m\u001b[1;33m.\u001b[0m\u001b[0mcolorbar\u001b[0m\u001b[1;33m(\u001b[0m\u001b[1;33m)\u001b[0m\u001b[1;33m\u001b[0m\u001b[1;33m\u001b[0m\u001b[0m\n",
      "\u001b[1;32m<ipython-input-20-1345a951e65a>\u001b[0m in \u001b[0;36m<listcomp>\u001b[1;34m(.0)\u001b[0m\n\u001b[0;32m      2\u001b[0m \u001b[0mnode_dim\u001b[0m \u001b[1;33m=\u001b[0m \u001b[1;36m20\u001b[0m\u001b[1;33m\u001b[0m\u001b[1;33m\u001b[0m\u001b[0m\n\u001b[0;32m      3\u001b[0m \u001b[1;31m# you should have an auc score dictionary here.\u001b[0m\u001b[1;33m\u001b[0m\u001b[1;33m\u001b[0m\u001b[1;33m\u001b[0m\u001b[0m\n\u001b[1;32m----> 4\u001b[1;33m \u001b[0ma\u001b[0m \u001b[1;33m=\u001b[0m \u001b[0mnp\u001b[0m\u001b[1;33m.\u001b[0m\u001b[0marray\u001b[0m\u001b[1;33m(\u001b[0m\u001b[1;33m[\u001b[0m\u001b[1;33m[\u001b[0m\u001b[0mdeepwalk_auc_scores\u001b[0m\u001b[1;33m[\u001b[0m\u001b[1;33m(\u001b[0m\u001b[0mnode_dim\u001b[0m\u001b[1;33m,\u001b[0m \u001b[0mnum_walks\u001b[0m\u001b[1;33m,\u001b[0m \u001b[0mwalk_length\u001b[0m\u001b[1;33m)\u001b[0m\u001b[1;33m]\u001b[0m \u001b[1;32mfor\u001b[0m \u001b[0mwalk_length\u001b[0m \u001b[1;32min\u001b[0m \u001b[1;33m[\u001b[0m\u001b[1;36m10\u001b[0m\u001b[1;33m,\u001b[0m \u001b[1;36m20\u001b[0m\u001b[1;33m,\u001b[0m \u001b[1;36m40\u001b[0m\u001b[1;33m]\u001b[0m\u001b[1;33m]\u001b[0m \u001b[1;32mfor\u001b[0m \u001b[0mnum_walks\u001b[0m \u001b[1;32min\u001b[0m \u001b[1;33m[\u001b[0m\u001b[1;36m5\u001b[0m\u001b[1;33m,\u001b[0m \u001b[1;36m10\u001b[0m\u001b[1;33m,\u001b[0m \u001b[1;36m20\u001b[0m\u001b[1;33m,\u001b[0m \u001b[1;36m40\u001b[0m\u001b[1;33m]\u001b[0m\u001b[1;33m]\u001b[0m\u001b[1;33m)\u001b[0m\u001b[1;33m\u001b[0m\u001b[1;33m\u001b[0m\u001b[0m\n\u001b[0m\u001b[0;32m      5\u001b[0m \u001b[0mplt\u001b[0m\u001b[1;33m.\u001b[0m\u001b[0mimshow\u001b[0m\u001b[1;33m(\u001b[0m\u001b[0ma\u001b[0m\u001b[1;33m,\u001b[0m \u001b[0mcmap\u001b[0m\u001b[1;33m=\u001b[0m\u001b[1;34m\"hot\"\u001b[0m\u001b[1;33m,\u001b[0m \u001b[0minterpolation\u001b[0m\u001b[1;33m=\u001b[0m\u001b[1;34m\"nearest\"\u001b[0m\u001b[1;33m)\u001b[0m\u001b[1;33m\u001b[0m\u001b[1;33m\u001b[0m\u001b[0m\n\u001b[0;32m      6\u001b[0m \u001b[0mplt\u001b[0m\u001b[1;33m.\u001b[0m\u001b[0mcolorbar\u001b[0m\u001b[1;33m(\u001b[0m\u001b[1;33m)\u001b[0m\u001b[1;33m\u001b[0m\u001b[1;33m\u001b[0m\u001b[0m\n",
      "\u001b[1;31mKeyError\u001b[0m: (20, 5, 10)"
     ]
    },
    {
     "data": {
      "text/plain": [
       "<Figure size 432x288 with 0 Axes>"
      ]
     },
     "metadata": {},
     "output_type": "display_data"
    }
   ],
   "source": [
    "plt.figure(figsize=(6, 4))\n",
    "node_dim = 20\n",
    "# you should have an auc score dictionary here.\n",
    "a = np.array([[deepwalk_auc_scores[(node_dim, num_walks, walk_length)] for walk_length in [10, 20, 40]] for num_walks in [5, 10, 20, 40]])\n",
    "plt.imshow(a, cmap=\"hot\", interpolation=\"nearest\")\n",
    "plt.colorbar()\n",
    "plt.xticks(ticks=[0,1,2], labels=[10, 20, 40])\n",
    "plt.xlabel(\"walk_length\")\n",
    "plt.yticks(ticks=[0,1,2,3], labels=[5, 10, 20, 40])\n",
    "plt.ylabel(\"num_walks\")"
   ]
  },
  {
   "cell_type": "markdown",
   "metadata": {},
   "source": [
    "You can build model with the best parameters you find and save the prediction here."
   ]
  },
  {
   "cell_type": "code",
   "execution_count": null,
   "metadata": {},
   "outputs": [],
   "source": [
    "model = build_deepwalk(graph, alias_nodes, node_dim=10, num_walks=10, walk_length=10)\n",
    "scores = [get_cosine_sim(model, src, dst) for src, dst in test_edges]\n",
    "write_pred(\"data/pred.csv\", test_edges, scores)"
   ]
  },
  {
   "cell_type": "markdown",
   "metadata": {},
   "source": [
    "DEEPWAK_TUNING"
   ]
  },
  {
   "cell_type": "code",
   "execution_count": 22,
   "metadata": {},
   "outputs": [
    {
     "name": "stderr",
     "output_type": "stream",
     "text": [
      "\u001b[32m[I 2021-04-29 21:16:11,601]\u001b[0m A new study created in memory with name: no-name-4b73d1a5-6565-400b-8264-81c9e0ed7bd5\u001b[0m\n"
     ]
    },
    {
     "name": "stdout",
     "output_type": "stream",
     "text": [
      "node dim: 5,\tnum_walks: 5,\twalk_length: 15\tbuilding a DeepWalk model...\tnumber of walks: 41640\taverage walk length: 14.8335\ttraining time: 12.8774\n"
     ]
    },
    {
     "name": "stderr",
     "output_type": "stream",
     "text": [
      "\u001b[32m[I 2021-04-29 21:16:25,304]\u001b[0m Trial 0 finished with value: 0.9195643015557919 and parameters: {'node_dim': 5, 'num_walks': 5, 'walk_length': 15}. Best is trial 0 with value: 0.9195643015557919.\u001b[0m\n"
     ]
    },
    {
     "name": "stdout",
     "output_type": "stream",
     "text": [
      "auc: 0.9196\n",
      "node dim: 20,\tnum_walks: 5,\twalk_length: 10\tbuilding a DeepWalk model...\tnumber of walks: 41640\taverage walk length: 9.8976\ttraining time: 13.1965\n"
     ]
    },
    {
     "name": "stderr",
     "output_type": "stream",
     "text": [
      "\u001b[32m[I 2021-04-29 21:16:39,257]\u001b[0m Trial 1 finished with value: 0.8763124919116652 and parameters: {'node_dim': 20, 'num_walks': 5, 'walk_length': 10}. Best is trial 0 with value: 0.9195643015557919.\u001b[0m\n"
     ]
    },
    {
     "name": "stdout",
     "output_type": "stream",
     "text": [
      "auc: 0.8763\n",
      "node dim: 40,\tnum_walks: 10,\twalk_length: 5\tbuilding a DeepWalk model...\tnumber of walks: 83280\taverage walk length: 4.9629\ttraining time: 15.5313\n"
     ]
    },
    {
     "name": "stderr",
     "output_type": "stream",
     "text": [
      "\u001b[32m[I 2021-04-29 21:16:55,561]\u001b[0m Trial 2 finished with value: 0.8044297869654273 and parameters: {'node_dim': 40, 'num_walks': 10, 'walk_length': 5}. Best is trial 0 with value: 0.9195643015557919.\u001b[0m\n"
     ]
    },
    {
     "name": "stdout",
     "output_type": "stream",
     "text": [
      "auc: 0.8044\n",
      "node dim: 20,\tnum_walks: 20,\twalk_length: 20\tbuilding a DeepWalk model...\tnumber of walks: 166560\taverage walk length: 19.7587\ttraining time: 76.2539\n"
     ]
    },
    {
     "name": "stderr",
     "output_type": "stream",
     "text": [
      "\u001b[32m[I 2021-04-29 21:18:12,618]\u001b[0m Trial 3 finished with value: 0.9259418934728204 and parameters: {'node_dim': 20, 'num_walks': 20, 'walk_length': 20}. Best is trial 3 with value: 0.9259418934728204.\u001b[0m\n"
     ]
    },
    {
     "name": "stdout",
     "output_type": "stream",
     "text": [
      "auc: 0.9259\n",
      "node dim: 10,\tnum_walks: 15,\twalk_length: 20\tbuilding a DeepWalk model...\tnumber of walks: 124920\taverage walk length: 19.7553\ttraining time: 52.9340\n"
     ]
    },
    {
     "name": "stderr",
     "output_type": "stream",
     "text": [
      "\u001b[32m[I 2021-04-29 21:19:06,351]\u001b[0m Trial 4 finished with value: 0.9321651974619121 and parameters: {'node_dim': 10, 'num_walks': 15, 'walk_length': 20}. Best is trial 4 with value: 0.9321651974619121.\u001b[0m\n"
     ]
    },
    {
     "name": "stdout",
     "output_type": "stream",
     "text": [
      "auc: 0.9322\n",
      "node dim: 5,\tnum_walks: 10,\twalk_length: 15\tbuilding a DeepWalk model...\tnumber of walks: 83280\taverage walk length: 14.8289\ttraining time: 27.1340\n"
     ]
    },
    {
     "name": "stderr",
     "output_type": "stream",
     "text": [
      "\u001b[32m[I 2021-04-29 21:19:34,377]\u001b[0m Trial 5 finished with value: 0.9178807525909407 and parameters: {'node_dim': 5, 'num_walks': 10, 'walk_length': 15}. Best is trial 4 with value: 0.9321651974619121.\u001b[0m\n"
     ]
    },
    {
     "name": "stdout",
     "output_type": "stream",
     "text": [
      "auc: 0.9179\n",
      "node dim: 20,\tnum_walks: 5,\twalk_length: 15\tbuilding a DeepWalk model...\tnumber of walks: 41640\taverage walk length: 14.8335\ttraining time: 16.0215\n"
     ]
    },
    {
     "name": "stderr",
     "output_type": "stream",
     "text": [
      "\u001b[32m[I 2021-04-29 21:19:51,250]\u001b[0m Trial 6 finished with value: 0.8969221410232291 and parameters: {'node_dim': 20, 'num_walks': 5, 'walk_length': 15}. Best is trial 4 with value: 0.9321651974619121.\u001b[0m\n"
     ]
    },
    {
     "name": "stdout",
     "output_type": "stream",
     "text": [
      "auc: 0.8969\n",
      "node dim: 10,\tnum_walks: 15,\twalk_length: 15\tbuilding a DeepWalk model...\tnumber of walks: 124920\taverage walk length: 14.8291\ttraining time: 47.6733\n"
     ]
    },
    {
     "name": "stderr",
     "output_type": "stream",
     "text": [
      "\u001b[32m[I 2021-04-29 21:20:39,801]\u001b[0m Trial 7 finished with value: 0.9330437568449191 and parameters: {'node_dim': 10, 'num_walks': 15, 'walk_length': 15}. Best is trial 7 with value: 0.9330437568449191.\u001b[0m\n"
     ]
    },
    {
     "name": "stdout",
     "output_type": "stream",
     "text": [
      "auc: 0.9330\n",
      "node dim: 20,\tnum_walks: 10,\twalk_length: 10\tbuilding a DeepWalk model...\tnumber of walks: 83280\taverage walk length: 9.8980\ttraining time: 23.9901\n"
     ]
    },
    {
     "name": "stderr",
     "output_type": "stream",
     "text": [
      "\u001b[32m[I 2021-04-29 21:21:04,636]\u001b[0m Trial 8 finished with value: 0.9095529094453767 and parameters: {'node_dim': 20, 'num_walks': 10, 'walk_length': 10}. Best is trial 7 with value: 0.9330437568449191.\u001b[0m\n"
     ]
    },
    {
     "name": "stdout",
     "output_type": "stream",
     "text": [
      "auc: 0.9096\n",
      "node dim: 40,\tnum_walks: 15,\twalk_length: 10\tbuilding a DeepWalk model...\tnumber of walks: 124920\taverage walk length: 9.8983\ttraining time: 35.5780\n"
     ]
    },
    {
     "name": "stderr",
     "output_type": "stream",
     "text": [
      "\u001b[32m[I 2021-04-29 21:21:41,020]\u001b[0m Trial 9 finished with value: 0.8812808635936354 and parameters: {'node_dim': 40, 'num_walks': 15, 'walk_length': 10}. Best is trial 7 with value: 0.9330437568449191.\u001b[0m\n"
     ]
    },
    {
     "name": "stdout",
     "output_type": "stream",
     "text": [
      "auc: 0.8813\n",
      "node dim: 10,\tnum_walks: 15,\twalk_length: 15\tbuilding a DeepWalk model...\tnumber of walks: 124920\taverage walk length: 14.8291\ttraining time: 46.7217\n"
     ]
    },
    {
     "name": "stderr",
     "output_type": "stream",
     "text": [
      "\u001b[32m[I 2021-04-29 21:22:28,566]\u001b[0m Trial 10 finished with value: 0.9334301907463161 and parameters: {'node_dim': 10, 'num_walks': 15, 'walk_length': 15}. Best is trial 10 with value: 0.9334301907463161.\u001b[0m\n"
     ]
    },
    {
     "name": "stdout",
     "output_type": "stream",
     "text": [
      "auc: 0.9334\n",
      "node dim: 10,\tnum_walks: 15,\twalk_length: 15\tbuilding a DeepWalk model...\tnumber of walks: 124920\taverage walk length: 14.8291\ttraining time: 42.9682\n"
     ]
    },
    {
     "name": "stderr",
     "output_type": "stream",
     "text": [
      "\u001b[32m[I 2021-04-29 21:23:12,343]\u001b[0m Trial 11 finished with value: 0.9334058168460142 and parameters: {'node_dim': 10, 'num_walks': 15, 'walk_length': 15}. Best is trial 10 with value: 0.9334301907463161.\u001b[0m\n"
     ]
    },
    {
     "name": "stdout",
     "output_type": "stream",
     "text": [
      "auc: 0.9334\n",
      "node dim: 10,\tnum_walks: 15,\twalk_length: 15\tbuilding a DeepWalk model...\tnumber of walks: 124920\taverage walk length: 14.8291\ttraining time: 42.2996\n"
     ]
    },
    {
     "name": "stderr",
     "output_type": "stream",
     "text": [
      "\u001b[32m[I 2021-04-29 21:23:55,416]\u001b[0m Trial 12 finished with value: 0.933813957324674 and parameters: {'node_dim': 10, 'num_walks': 15, 'walk_length': 15}. Best is trial 12 with value: 0.933813957324674.\u001b[0m\n"
     ]
    },
    {
     "name": "stdout",
     "output_type": "stream",
     "text": [
      "auc: 0.9338\n",
      "node dim: 10,\tnum_walks: 15,\twalk_length: 15\tbuilding a DeepWalk model...\tnumber of walks: 124920\taverage walk length: 14.8291\ttraining time: 47.5782\n"
     ]
    },
    {
     "name": "stderr",
     "output_type": "stream",
     "text": [
      "\u001b[32m[I 2021-04-29 21:24:43,839]\u001b[0m Trial 13 finished with value: 0.9336157618299168 and parameters: {'node_dim': 10, 'num_walks': 15, 'walk_length': 15}. Best is trial 12 with value: 0.933813957324674.\u001b[0m\n"
     ]
    },
    {
     "name": "stdout",
     "output_type": "stream",
     "text": [
      "auc: 0.9336\n",
      "node dim: 10,\tnum_walks: 15,\twalk_length: 5\tbuilding a DeepWalk model...\tnumber of walks: 124920\taverage walk length: 4.9630\ttraining time: 21.6099\n"
     ]
    },
    {
     "name": "stderr",
     "output_type": "stream",
     "text": [
      "\u001b[32m[I 2021-04-29 21:25:06,227]\u001b[0m Trial 14 finished with value: 0.9194756728322991 and parameters: {'node_dim': 10, 'num_walks': 15, 'walk_length': 5}. Best is trial 12 with value: 0.933813957324674.\u001b[0m\n"
     ]
    },
    {
     "name": "stdout",
     "output_type": "stream",
     "text": [
      "auc: 0.9195\n",
      "node dim: 10,\tnum_walks: 20,\twalk_length: 15\tbuilding a DeepWalk model...\tnumber of walks: 166560\taverage walk length: 14.8288\ttraining time: 55.9772\n"
     ]
    },
    {
     "name": "stderr",
     "output_type": "stream",
     "text": [
      "\u001b[32m[I 2021-04-29 21:26:02,995]\u001b[0m Trial 15 finished with value: 0.9329856452509524 and parameters: {'node_dim': 10, 'num_walks': 20, 'walk_length': 15}. Best is trial 12 with value: 0.933813957324674.\u001b[0m\n"
     ]
    },
    {
     "name": "stdout",
     "output_type": "stream",
     "text": [
      "auc: 0.9330\n",
      "node dim: 10,\tnum_walks: 15,\twalk_length: 15\tbuilding a DeepWalk model...\tnumber of walks: 124920\taverage walk length: 14.8291\ttraining time: 43.7004\n"
     ]
    },
    {
     "name": "stderr",
     "output_type": "stream",
     "text": [
      "\u001b[32m[I 2021-04-29 21:26:47,479]\u001b[0m Trial 16 finished with value: 0.9335055153982068 and parameters: {'node_dim': 10, 'num_walks': 15, 'walk_length': 15}. Best is trial 12 with value: 0.933813957324674.\u001b[0m\n"
     ]
    },
    {
     "name": "stdout",
     "output_type": "stream",
     "text": [
      "auc: 0.9335\n",
      "node dim: 10,\tnum_walks: 15,\twalk_length: 5\tbuilding a DeepWalk model...\tnumber of walks: 124920\taverage walk length: 4.9630\ttraining time: 23.5796\n"
     ]
    },
    {
     "name": "stderr",
     "output_type": "stream",
     "text": [
      "\u001b[32m[I 2021-04-29 21:27:11,850]\u001b[0m Trial 17 finished with value: 0.9193178464143428 and parameters: {'node_dim': 10, 'num_walks': 15, 'walk_length': 5}. Best is trial 12 with value: 0.933813957324674.\u001b[0m\n"
     ]
    },
    {
     "name": "stdout",
     "output_type": "stream",
     "text": [
      "auc: 0.9193\n",
      "node dim: 10,\tnum_walks: 15,\twalk_length: 20\tbuilding a DeepWalk model...\tnumber of walks: 124920\taverage walk length: 19.7553\ttraining time: 52.2827\n"
     ]
    },
    {
     "name": "stderr",
     "output_type": "stream",
     "text": [
      "\u001b[32m[I 2021-04-29 21:28:04,913]\u001b[0m Trial 18 finished with value: 0.932211721033027 and parameters: {'node_dim': 10, 'num_walks': 15, 'walk_length': 20}. Best is trial 12 with value: 0.933813957324674.\u001b[0m\n"
     ]
    },
    {
     "name": "stdout",
     "output_type": "stream",
     "text": [
      "auc: 0.9322\n",
      "node dim: 5,\tnum_walks: 20,\twalk_length: 15\tbuilding a DeepWalk model...\tnumber of walks: 166560\taverage walk length: 14.8288\ttraining time: 52.9234\n"
     ]
    },
    {
     "name": "stderr",
     "output_type": "stream",
     "text": [
      "\u001b[32m[I 2021-04-29 21:28:58,633]\u001b[0m Trial 19 finished with value: 0.9170088108226255 and parameters: {'node_dim': 5, 'num_walks': 20, 'walk_length': 15}. Best is trial 12 with value: 0.933813957324674.\u001b[0m\n"
     ]
    },
    {
     "name": "stdout",
     "output_type": "stream",
     "text": [
      "auc: 0.9170\n",
      "node dim: 40,\tnum_walks: 15,\twalk_length: 15\tbuilding a DeepWalk model...\tnumber of walks: 124920\taverage walk length: 14.8291\ttraining time: 45.1544\n"
     ]
    },
    {
     "name": "stderr",
     "output_type": "stream",
     "text": [
      "\u001b[32m[I 2021-04-29 21:29:44,615]\u001b[0m Trial 20 finished with value: 0.8951267647590005 and parameters: {'node_dim': 40, 'num_walks': 15, 'walk_length': 15}. Best is trial 12 with value: 0.933813957324674.\u001b[0m\n"
     ]
    },
    {
     "name": "stdout",
     "output_type": "stream",
     "text": [
      "auc: 0.8951\n",
      "node dim: 10,\tnum_walks: 15,\twalk_length: 15\tbuilding a DeepWalk model...\tnumber of walks: 124920\taverage walk length: 14.8291\ttraining time: 41.8356\n"
     ]
    },
    {
     "name": "stderr",
     "output_type": "stream",
     "text": [
      "\u001b[32m[I 2021-04-29 21:30:27,239]\u001b[0m Trial 21 finished with value: 0.9331550534333772 and parameters: {'node_dim': 10, 'num_walks': 15, 'walk_length': 15}. Best is trial 12 with value: 0.933813957324674.\u001b[0m\n"
     ]
    },
    {
     "name": "stdout",
     "output_type": "stream",
     "text": [
      "auc: 0.9332\n",
      "node dim: 10,\tnum_walks: 15,\twalk_length: 15\tbuilding a DeepWalk model...\tnumber of walks: 124920\taverage walk length: 14.8291\ttraining time: 44.9138\n"
     ]
    },
    {
     "name": "stderr",
     "output_type": "stream",
     "text": [
      "\u001b[32m[I 2021-04-29 21:31:12,942]\u001b[0m Trial 22 finished with value: 0.933702540575253 and parameters: {'node_dim': 10, 'num_walks': 15, 'walk_length': 15}. Best is trial 12 with value: 0.933813957324674.\u001b[0m\n"
     ]
    },
    {
     "name": "stdout",
     "output_type": "stream",
     "text": [
      "auc: 0.9337\n",
      "node dim: 10,\tnum_walks: 15,\twalk_length: 15\tbuilding a DeepWalk model...\tnumber of walks: 124920\taverage walk length: 14.8291\ttraining time: 44.8619\n"
     ]
    },
    {
     "name": "stderr",
     "output_type": "stream",
     "text": [
      "\u001b[32m[I 2021-04-29 21:31:58,637]\u001b[0m Trial 23 finished with value: 0.9337464055850655 and parameters: {'node_dim': 10, 'num_walks': 15, 'walk_length': 15}. Best is trial 12 with value: 0.933813957324674.\u001b[0m\n"
     ]
    },
    {
     "name": "stdout",
     "output_type": "stream",
     "text": [
      "auc: 0.9337\n",
      "node dim: 10,\tnum_walks: 15,\twalk_length: 15\tbuilding a DeepWalk model...\tnumber of walks: 124920\taverage walk length: 14.8291\ttraining time: 44.6418\n"
     ]
    },
    {
     "name": "stderr",
     "output_type": "stream",
     "text": [
      "\u001b[32m[I 2021-04-29 21:32:44,098]\u001b[0m Trial 24 finished with value: 0.9335193001136604 and parameters: {'node_dim': 10, 'num_walks': 15, 'walk_length': 15}. Best is trial 12 with value: 0.933813957324674.\u001b[0m\n"
     ]
    },
    {
     "name": "stdout",
     "output_type": "stream",
     "text": [
      "auc: 0.9335\n",
      "node dim: 10,\tnum_walks: 15,\twalk_length: 15\tbuilding a DeepWalk model...\tnumber of walks: 124920\taverage walk length: 14.8291\ttraining time: 41.3778\n"
     ]
    },
    {
     "name": "stderr",
     "output_type": "stream",
     "text": [
      "\u001b[32m[I 2021-04-29 21:33:26,258]\u001b[0m Trial 25 finished with value: 0.9332130173294939 and parameters: {'node_dim': 10, 'num_walks': 15, 'walk_length': 15}. Best is trial 12 with value: 0.933813957324674.\u001b[0m\n"
     ]
    },
    {
     "name": "stdout",
     "output_type": "stream",
     "text": [
      "auc: 0.9332\n",
      "node dim: 10,\tnum_walks: 15,\twalk_length: 15\tbuilding a DeepWalk model...\tnumber of walks: 124920\taverage walk length: 14.8291\ttraining time: 42.1603\n"
     ]
    },
    {
     "name": "stderr",
     "output_type": "stream",
     "text": [
      "\u001b[32m[I 2021-04-29 21:34:09,191]\u001b[0m Trial 26 finished with value: 0.9336993487996781 and parameters: {'node_dim': 10, 'num_walks': 15, 'walk_length': 15}. Best is trial 12 with value: 0.933813957324674.\u001b[0m\n"
     ]
    },
    {
     "name": "stdout",
     "output_type": "stream",
     "text": [
      "auc: 0.9337\n",
      "node dim: 10,\tnum_walks: 15,\twalk_length: 15\tbuilding a DeepWalk model...\tnumber of walks: 124920\taverage walk length: 14.8291\ttraining time: 41.8412\n"
     ]
    },
    {
     "name": "stderr",
     "output_type": "stream",
     "text": [
      "\u001b[32m[I 2021-04-29 21:34:51,815]\u001b[0m Trial 27 finished with value: 0.9336710208526935 and parameters: {'node_dim': 10, 'num_walks': 15, 'walk_length': 15}. Best is trial 12 with value: 0.933813957324674.\u001b[0m\n"
     ]
    },
    {
     "name": "stdout",
     "output_type": "stream",
     "text": [
      "auc: 0.9337\n",
      "node dim: 10,\tnum_walks: 20,\twalk_length: 5\tbuilding a DeepWalk model...\tnumber of walks: 166560\taverage walk length: 4.9630\ttraining time: 28.4176\n"
     ]
    },
    {
     "name": "stderr",
     "output_type": "stream",
     "text": [
      "\u001b[32m[I 2021-04-29 21:35:21,004]\u001b[0m Trial 28 finished with value: 0.9241427984771281 and parameters: {'node_dim': 10, 'num_walks': 20, 'walk_length': 5}. Best is trial 12 with value: 0.933813957324674.\u001b[0m\n"
     ]
    },
    {
     "name": "stdout",
     "output_type": "stream",
     "text": [
      "auc: 0.9241\n",
      "node dim: 5,\tnum_walks: 5,\twalk_length: 20\tbuilding a DeepWalk model...\tnumber of walks: 41640\taverage walk length: 19.7535\ttraining time: 19.1079\n"
     ]
    },
    {
     "name": "stderr",
     "output_type": "stream",
     "text": [
      "\u001b[32m[I 2021-04-29 21:35:40,880]\u001b[0m Trial 29 finished with value: 0.9182016649723304 and parameters: {'node_dim': 5, 'num_walks': 5, 'walk_length': 20}. Best is trial 12 with value: 0.933813957324674.\u001b[0m\n"
     ]
    },
    {
     "name": "stdout",
     "output_type": "stream",
     "text": [
      "auc: 0.9182\n",
      "node dim: 40,\tnum_walks: 10,\twalk_length: 10\tbuilding a DeepWalk model...\tnumber of walks: 83280\taverage walk length: 9.8980\ttraining time: 22.5291\n"
     ]
    },
    {
     "name": "stderr",
     "output_type": "stream",
     "text": [
      "\u001b[32m[I 2021-04-29 21:36:04,183]\u001b[0m Trial 30 finished with value: 0.8567077689589868 and parameters: {'node_dim': 40, 'num_walks': 10, 'walk_length': 10}. Best is trial 12 with value: 0.933813957324674.\u001b[0m\n"
     ]
    },
    {
     "name": "stdout",
     "output_type": "stream",
     "text": [
      "auc: 0.8567\n",
      "node dim: 10,\tnum_walks: 15,\twalk_length: 15\tbuilding a DeepWalk model...\tnumber of walks: 124920\taverage walk length: 14.8291\ttraining time: 49.2466\n"
     ]
    },
    {
     "name": "stderr",
     "output_type": "stream",
     "text": [
      "\u001b[32m[I 2021-04-29 21:36:54,303]\u001b[0m Trial 31 finished with value: 0.9332137608254514 and parameters: {'node_dim': 10, 'num_walks': 15, 'walk_length': 15}. Best is trial 12 with value: 0.933813957324674.\u001b[0m\n"
     ]
    },
    {
     "name": "stdout",
     "output_type": "stream",
     "text": [
      "auc: 0.9332\n",
      "node dim: 10,\tnum_walks: 15,\twalk_length: 15\tbuilding a DeepWalk model...\tnumber of walks: 124920\taverage walk length: 14.8291\ttraining time: 44.2340\n"
     ]
    },
    {
     "name": "stderr",
     "output_type": "stream",
     "text": [
      "\u001b[32m[I 2021-04-29 21:37:39,320]\u001b[0m Trial 32 finished with value: 0.9337271297639465 and parameters: {'node_dim': 10, 'num_walks': 15, 'walk_length': 15}. Best is trial 12 with value: 0.933813957324674.\u001b[0m\n"
     ]
    },
    {
     "name": "stdout",
     "output_type": "stream",
     "text": [
      "auc: 0.9337\n",
      "node dim: 10,\tnum_walks: 5,\twalk_length: 15\tbuilding a DeepWalk model...\tnumber of walks: 41640\taverage walk length: 14.8335\ttraining time: 14.4386\n"
     ]
    },
    {
     "name": "stderr",
     "output_type": "stream",
     "text": [
      "\u001b[32m[I 2021-04-29 21:37:54,518]\u001b[0m Trial 33 finished with value: 0.9222126053676463 and parameters: {'node_dim': 10, 'num_walks': 5, 'walk_length': 15}. Best is trial 12 with value: 0.933813957324674.\u001b[0m\n"
     ]
    },
    {
     "name": "stdout",
     "output_type": "stream",
     "text": [
      "auc: 0.9222\n",
      "node dim: 10,\tnum_walks: 15,\twalk_length: 15\tbuilding a DeepWalk model...\tnumber of walks: 124920\taverage walk length: 14.8291\ttraining time: 42.5145\n"
     ]
    },
    {
     "name": "stderr",
     "output_type": "stream",
     "text": [
      "\u001b[32m[I 2021-04-29 21:38:37,876]\u001b[0m Trial 34 finished with value: 0.9332230445115058 and parameters: {'node_dim': 10, 'num_walks': 15, 'walk_length': 15}. Best is trial 12 with value: 0.933813957324674.\u001b[0m\n"
     ]
    },
    {
     "name": "stdout",
     "output_type": "stream",
     "text": [
      "auc: 0.9332\n",
      "node dim: 20,\tnum_walks: 15,\twalk_length: 15\tbuilding a DeepWalk model...\tnumber of walks: 124920\taverage walk length: 14.8291\ttraining time: 48.0235\n"
     ]
    },
    {
     "name": "stderr",
     "output_type": "stream",
     "text": [
      "\u001b[32m[I 2021-04-29 21:39:26,697]\u001b[0m Trial 35 finished with value: 0.9254310716964016 and parameters: {'node_dim': 20, 'num_walks': 15, 'walk_length': 15}. Best is trial 12 with value: 0.933813957324674.\u001b[0m\n"
     ]
    },
    {
     "name": "stdout",
     "output_type": "stream",
     "text": [
      "auc: 0.9254\n",
      "node dim: 5,\tnum_walks: 15,\twalk_length: 15\tbuilding a DeepWalk model...\tnumber of walks: 124920\taverage walk length: 14.8291\ttraining time: 40.2971\n"
     ]
    },
    {
     "name": "stderr",
     "output_type": "stream",
     "text": [
      "\u001b[32m[I 2021-04-29 21:40:07,759]\u001b[0m Trial 36 finished with value: 0.920914254899293 and parameters: {'node_dim': 5, 'num_walks': 15, 'walk_length': 15}. Best is trial 12 with value: 0.933813957324674.\u001b[0m\n"
     ]
    },
    {
     "name": "stdout",
     "output_type": "stream",
     "text": [
      "auc: 0.9209\n",
      "node dim: 10,\tnum_walks: 5,\twalk_length: 20\tbuilding a DeepWalk model...\tnumber of walks: 41640\taverage walk length: 19.7535\ttraining time: 18.1291\n"
     ]
    },
    {
     "name": "stderr",
     "output_type": "stream",
     "text": [
      "\u001b[32m[I 2021-04-29 21:40:26,678]\u001b[0m Trial 37 finished with value: 0.9265823639214146 and parameters: {'node_dim': 10, 'num_walks': 5, 'walk_length': 20}. Best is trial 12 with value: 0.933813957324674.\u001b[0m\n"
     ]
    },
    {
     "name": "stdout",
     "output_type": "stream",
     "text": [
      "auc: 0.9266\n",
      "node dim: 10,\tnum_walks: 10,\twalk_length: 15\tbuilding a DeepWalk model...\tnumber of walks: 83280\taverage walk length: 14.8289\ttraining time: 28.5669\n"
     ]
    },
    {
     "name": "stderr",
     "output_type": "stream",
     "text": [
      "\u001b[32m[I 2021-04-29 21:40:56,223]\u001b[0m Trial 38 finished with value: 0.9313121547600303 and parameters: {'node_dim': 10, 'num_walks': 10, 'walk_length': 15}. Best is trial 12 with value: 0.933813957324674.\u001b[0m\n"
     ]
    },
    {
     "name": "stdout",
     "output_type": "stream",
     "text": [
      "auc: 0.9313\n",
      "node dim: 20,\tnum_walks: 15,\twalk_length: 10\tbuilding a DeepWalk model...\tnumber of walks: 124920\taverage walk length: 9.8983\ttraining time: 37.9902\n"
     ]
    },
    {
     "name": "stderr",
     "output_type": "stream",
     "text": [
      "\u001b[32m[I 2021-04-29 21:41:35,315]\u001b[0m Trial 39 finished with value: 0.9205819184646985 and parameters: {'node_dim': 20, 'num_walks': 15, 'walk_length': 10}. Best is trial 12 with value: 0.933813957324674.\u001b[0m\n"
     ]
    },
    {
     "name": "stdout",
     "output_type": "stream",
     "text": [
      "auc: 0.9206\n",
      "node dim: 40,\tnum_walks: 15,\twalk_length: 15\tbuilding a DeepWalk model...\tnumber of walks: 124920\taverage walk length: 14.8291\ttraining time: 46.6418\n"
     ]
    },
    {
     "name": "stderr",
     "output_type": "stream",
     "text": [
      "\u001b[32m[I 2021-04-29 21:42:22,769]\u001b[0m Trial 40 finished with value: 0.8945847299208128 and parameters: {'node_dim': 40, 'num_walks': 15, 'walk_length': 15}. Best is trial 12 with value: 0.933813957324674.\u001b[0m\n"
     ]
    },
    {
     "name": "stdout",
     "output_type": "stream",
     "text": [
      "auc: 0.8946\n",
      "node dim: 10,\tnum_walks: 15,\twalk_length: 15\tbuilding a DeepWalk model...\tnumber of walks: 124920\taverage walk length: 14.8291\ttraining time: 45.9754\n"
     ]
    },
    {
     "name": "stderr",
     "output_type": "stream",
     "text": [
      "\u001b[32m[I 2021-04-29 21:43:09,586]\u001b[0m Trial 41 finished with value: 0.9333244203104711 and parameters: {'node_dim': 10, 'num_walks': 15, 'walk_length': 15}. Best is trial 12 with value: 0.933813957324674.\u001b[0m\n"
     ]
    },
    {
     "name": "stdout",
     "output_type": "stream",
     "text": [
      "auc: 0.9333\n",
      "node dim: 10,\tnum_walks: 15,\twalk_length: 15\tbuilding a DeepWalk model...\tnumber of walks: 124920\taverage walk length: 14.8291\ttraining time: 42.2564\n"
     ]
    },
    {
     "name": "stderr",
     "output_type": "stream",
     "text": [
      "\u001b[32m[I 2021-04-29 21:43:52,836]\u001b[0m Trial 42 finished with value: 0.9337189125064371 and parameters: {'node_dim': 10, 'num_walks': 15, 'walk_length': 15}. Best is trial 12 with value: 0.933813957324674.\u001b[0m\n"
     ]
    },
    {
     "name": "stdout",
     "output_type": "stream",
     "text": [
      "auc: 0.9337\n",
      "node dim: 10,\tnum_walks: 15,\twalk_length: 15\tbuilding a DeepWalk model...\tnumber of walks: 124920\taverage walk length: 14.8291\ttraining time: 48.1756\n"
     ]
    },
    {
     "name": "stderr",
     "output_type": "stream",
     "text": [
      "\u001b[32m[I 2021-04-29 21:44:41,790]\u001b[0m Trial 43 finished with value: 0.9334987263038075 and parameters: {'node_dim': 10, 'num_walks': 15, 'walk_length': 15}. Best is trial 12 with value: 0.933813957324674.\u001b[0m\n"
     ]
    },
    {
     "name": "stdout",
     "output_type": "stream",
     "text": [
      "auc: 0.9335\n",
      "node dim: 10,\tnum_walks: 15,\twalk_length: 15\tbuilding a DeepWalk model...\tnumber of walks: 124920\taverage walk length: 14.8291\ttraining time: 42.0193\n"
     ]
    },
    {
     "name": "stderr",
     "output_type": "stream",
     "text": [
      "\u001b[32m[I 2021-04-29 21:45:24,642]\u001b[0m Trial 44 finished with value: 0.9336051789034518 and parameters: {'node_dim': 10, 'num_walks': 15, 'walk_length': 15}. Best is trial 12 with value: 0.933813957324674.\u001b[0m\n"
     ]
    },
    {
     "name": "stdout",
     "output_type": "stream",
     "text": [
      "auc: 0.9336\n",
      "node dim: 10,\tnum_walks: 15,\twalk_length: 15\tbuilding a DeepWalk model...\tnumber of walks: 124920\taverage walk length: 14.8291\ttraining time: 41.7547\n"
     ]
    },
    {
     "name": "stderr",
     "output_type": "stream",
     "text": [
      "\u001b[32m[I 2021-04-29 21:46:07,198]\u001b[0m Trial 45 finished with value: 0.9337103422760994 and parameters: {'node_dim': 10, 'num_walks': 15, 'walk_length': 15}. Best is trial 12 with value: 0.933813957324674.\u001b[0m\n"
     ]
    },
    {
     "name": "stdout",
     "output_type": "stream",
     "text": [
      "auc: 0.9337\n",
      "node dim: 10,\tnum_walks: 10,\twalk_length: 5\tbuilding a DeepWalk model...\tnumber of walks: 83280\taverage walk length: 4.9629\ttraining time: 16.3489\n"
     ]
    },
    {
     "name": "stderr",
     "output_type": "stream",
     "text": [
      "\u001b[32m[I 2021-04-29 21:46:24,362]\u001b[0m Trial 46 finished with value: 0.9095326635748182 and parameters: {'node_dim': 10, 'num_walks': 10, 'walk_length': 5}. Best is trial 12 with value: 0.933813957324674.\u001b[0m\n"
     ]
    },
    {
     "name": "stdout",
     "output_type": "stream",
     "text": [
      "auc: 0.9095\n",
      "node dim: 10,\tnum_walks: 15,\twalk_length: 15\tbuilding a DeepWalk model...\tnumber of walks: 124920\taverage walk length: 14.8291\ttraining time: 42.4343\n"
     ]
    },
    {
     "name": "stderr",
     "output_type": "stream",
     "text": [
      "\u001b[32m[I 2021-04-29 21:47:07,683]\u001b[0m Trial 47 finished with value: 0.9333423192872243 and parameters: {'node_dim': 10, 'num_walks': 15, 'walk_length': 15}. Best is trial 12 with value: 0.933813957324674.\u001b[0m\n"
     ]
    },
    {
     "name": "stdout",
     "output_type": "stream",
     "text": [
      "auc: 0.9333\n",
      "node dim: 20,\tnum_walks: 20,\twalk_length: 10\tbuilding a DeepWalk model...\tnumber of walks: 166560\taverage walk length: 9.8981\ttraining time: 46.8625\n"
     ]
    },
    {
     "name": "stderr",
     "output_type": "stream",
     "text": [
      "\u001b[32m[I 2021-04-29 21:47:55,329]\u001b[0m Trial 48 finished with value: 0.924974328611635 and parameters: {'node_dim': 20, 'num_walks': 20, 'walk_length': 10}. Best is trial 12 with value: 0.933813957324674.\u001b[0m\n"
     ]
    },
    {
     "name": "stdout",
     "output_type": "stream",
     "text": [
      "auc: 0.9250\n",
      "node dim: 10,\tnum_walks: 15,\twalk_length: 15\tbuilding a DeepWalk model...\tnumber of walks: 124920\taverage walk length: 14.8291\ttraining time: 41.5917\n"
     ]
    },
    {
     "name": "stderr",
     "output_type": "stream",
     "text": [
      "\u001b[32m[I 2021-04-29 21:48:37,801]\u001b[0m Trial 49 finished with value: 0.9336050825243463 and parameters: {'node_dim': 10, 'num_walks': 15, 'walk_length': 15}. Best is trial 12 with value: 0.933813957324674.\u001b[0m\n"
     ]
    },
    {
     "name": "stdout",
     "output_type": "stream",
     "text": [
      "auc: 0.9336\n",
      "node dim: 10,\tnum_walks: 15,\twalk_length: 15\tbuilding a DeepWalk model...\tnumber of walks: 124920\taverage walk length: 14.8291\ttraining time: 41.7964\n"
     ]
    },
    {
     "name": "stderr",
     "output_type": "stream",
     "text": [
      "\u001b[32m[I 2021-04-29 21:49:20,377]\u001b[0m Trial 50 finished with value: 0.9334081499713757 and parameters: {'node_dim': 10, 'num_walks': 15, 'walk_length': 15}. Best is trial 12 with value: 0.933813957324674.\u001b[0m\n"
     ]
    },
    {
     "name": "stdout",
     "output_type": "stream",
     "text": [
      "auc: 0.9334\n",
      "node dim: 10,\tnum_walks: 15,\twalk_length: 15\tbuilding a DeepWalk model...\tnumber of walks: 124920\taverage walk length: 14.8291\ttraining time: 44.0044\n"
     ]
    },
    {
     "name": "stderr",
     "output_type": "stream",
     "text": [
      "\u001b[32m[I 2021-04-29 21:50:05,164]\u001b[0m Trial 51 finished with value: 0.9332182280595795 and parameters: {'node_dim': 10, 'num_walks': 15, 'walk_length': 15}. Best is trial 12 with value: 0.933813957324674.\u001b[0m\n"
     ]
    },
    {
     "name": "stdout",
     "output_type": "stream",
     "text": [
      "auc: 0.9332\n",
      "node dim: 10,\tnum_walks: 15,\twalk_length: 15\tbuilding a DeepWalk model...\tnumber of walks: 124920\taverage walk length: 14.8291\ttraining time: 41.9316\n"
     ]
    },
    {
     "name": "stderr",
     "output_type": "stream",
     "text": [
      "\u001b[32m[I 2021-04-29 21:50:47,917]\u001b[0m Trial 52 finished with value: 0.9336987492465407 and parameters: {'node_dim': 10, 'num_walks': 15, 'walk_length': 15}. Best is trial 12 with value: 0.933813957324674.\u001b[0m\n"
     ]
    },
    {
     "name": "stdout",
     "output_type": "stream",
     "text": [
      "auc: 0.9337\n",
      "node dim: 10,\tnum_walks: 15,\twalk_length: 15\tbuilding a DeepWalk model...\tnumber of walks: 124920\taverage walk length: 14.8291\ttraining time: 41.8274\n"
     ]
    },
    {
     "name": "stderr",
     "output_type": "stream",
     "text": [
      "\u001b[32m[I 2021-04-29 21:51:30,547]\u001b[0m Trial 53 finished with value: 0.9330026755640787 and parameters: {'node_dim': 10, 'num_walks': 15, 'walk_length': 15}. Best is trial 12 with value: 0.933813957324674.\u001b[0m\n"
     ]
    },
    {
     "name": "stdout",
     "output_type": "stream",
     "text": [
      "auc: 0.9330\n",
      "node dim: 10,\tnum_walks: 15,\twalk_length: 15\tbuilding a DeepWalk model...\tnumber of walks: 124920\taverage walk length: 14.8291\ttraining time: 42.9645\n"
     ]
    },
    {
     "name": "stderr",
     "output_type": "stream",
     "text": [
      "\u001b[32m[I 2021-04-29 21:52:14,362]\u001b[0m Trial 54 finished with value: 0.9333114354164265 and parameters: {'node_dim': 10, 'num_walks': 15, 'walk_length': 15}. Best is trial 12 with value: 0.933813957324674.\u001b[0m\n"
     ]
    },
    {
     "name": "stdout",
     "output_type": "stream",
     "text": [
      "auc: 0.9333\n",
      "node dim: 10,\tnum_walks: 15,\twalk_length: 15\tbuilding a DeepWalk model...\tnumber of walks: 124920\taverage walk length: 14.8291\ttraining time: 42.2461\n"
     ]
    },
    {
     "name": "stderr",
     "output_type": "stream",
     "text": [
      "\u001b[32m[I 2021-04-29 21:52:57,386]\u001b[0m Trial 55 finished with value: 0.933238353769175 and parameters: {'node_dim': 10, 'num_walks': 15, 'walk_length': 15}. Best is trial 12 with value: 0.933813957324674.\u001b[0m\n"
     ]
    },
    {
     "name": "stdout",
     "output_type": "stream",
     "text": [
      "auc: 0.9332\n",
      "node dim: 5,\tnum_walks: 15,\twalk_length: 20\tbuilding a DeepWalk model...\tnumber of walks: 124920\taverage walk length: 19.7553\ttraining time: 52.6948\n"
     ]
    },
    {
     "name": "stderr",
     "output_type": "stream",
     "text": [
      "\u001b[32m[I 2021-04-29 21:53:50,969]\u001b[0m Trial 56 finished with value: 0.916418200915218 and parameters: {'node_dim': 5, 'num_walks': 15, 'walk_length': 20}. Best is trial 12 with value: 0.933813957324674.\u001b[0m\n"
     ]
    },
    {
     "name": "stdout",
     "output_type": "stream",
     "text": [
      "auc: 0.9164\n",
      "node dim: 10,\tnum_walks: 15,\twalk_length: 15\tbuilding a DeepWalk model...\tnumber of walks: 124920\taverage walk length: 14.8291\ttraining time: 41.9181\n"
     ]
    },
    {
     "name": "stderr",
     "output_type": "stream",
     "text": [
      "\u001b[32m[I 2021-04-29 21:54:33,789]\u001b[0m Trial 57 finished with value: 0.9341203177127955 and parameters: {'node_dim': 10, 'num_walks': 15, 'walk_length': 15}. Best is trial 57 with value: 0.9341203177127955.\u001b[0m\n"
     ]
    },
    {
     "name": "stdout",
     "output_type": "stream",
     "text": [
      "auc: 0.9341\n",
      "node dim: 10,\tnum_walks: 15,\twalk_length: 15\tbuilding a DeepWalk model...\tnumber of walks: 124920\taverage walk length: 14.8291\ttraining time: 44.2583\n"
     ]
    },
    {
     "name": "stderr",
     "output_type": "stream",
     "text": [
      "\u001b[32m[I 2021-04-29 21:55:18,848]\u001b[0m Trial 58 finished with value: 0.9334448654039005 and parameters: {'node_dim': 10, 'num_walks': 15, 'walk_length': 15}. Best is trial 57 with value: 0.9341203177127955.\u001b[0m\n"
     ]
    },
    {
     "name": "stdout",
     "output_type": "stream",
     "text": [
      "auc: 0.9334\n",
      "node dim: 40,\tnum_walks: 20,\twalk_length: 5\tbuilding a DeepWalk model...\tnumber of walks: 166560\taverage walk length: 4.9630\ttraining time: 30.2620\n"
     ]
    },
    {
     "name": "stderr",
     "output_type": "stream",
     "text": [
      "\u001b[32m[I 2021-04-29 21:55:49,891]\u001b[0m Trial 59 finished with value: 0.8469584867104579 and parameters: {'node_dim': 40, 'num_walks': 20, 'walk_length': 5}. Best is trial 57 with value: 0.9341203177127955.\u001b[0m\n"
     ]
    },
    {
     "name": "stdout",
     "output_type": "stream",
     "text": [
      "auc: 0.8470\n",
      "node dim: 10,\tnum_walks: 15,\twalk_length: 15\tbuilding a DeepWalk model...\tnumber of walks: 124920\taverage walk length: 14.8291\ttraining time: 43.6840\n"
     ]
    },
    {
     "name": "stderr",
     "output_type": "stream",
     "text": [
      "\u001b[32m[I 2021-04-29 21:56:34,354]\u001b[0m Trial 60 finished with value: 0.9327910595917868 and parameters: {'node_dim': 10, 'num_walks': 15, 'walk_length': 15}. Best is trial 57 with value: 0.9341203177127955.\u001b[0m\n"
     ]
    },
    {
     "name": "stdout",
     "output_type": "stream",
     "text": [
      "auc: 0.9328\n",
      "node dim: 10,\tnum_walks: 15,\twalk_length: 15\tbuilding a DeepWalk model...\tnumber of walks: 124920\taverage walk length: 14.8291\ttraining time: 41.8367\n"
     ]
    },
    {
     "name": "stderr",
     "output_type": "stream",
     "text": [
      "\u001b[32m[I 2021-04-29 21:57:17,024]\u001b[0m Trial 61 finished with value: 0.9332707847123694 and parameters: {'node_dim': 10, 'num_walks': 15, 'walk_length': 15}. Best is trial 57 with value: 0.9341203177127955.\u001b[0m\n"
     ]
    },
    {
     "name": "stdout",
     "output_type": "stream",
     "text": [
      "auc: 0.9333\n",
      "node dim: 10,\tnum_walks: 15,\twalk_length: 15\tbuilding a DeepWalk model...\tnumber of walks: 124920\taverage walk length: 14.8291\ttraining time: 47.4479\n"
     ]
    },
    {
     "name": "stderr",
     "output_type": "stream",
     "text": [
      "\u001b[32m[I 2021-04-29 21:58:05,346]\u001b[0m Trial 62 finished with value: 0.9332599652190088 and parameters: {'node_dim': 10, 'num_walks': 15, 'walk_length': 15}. Best is trial 57 with value: 0.9341203177127955.\u001b[0m\n"
     ]
    },
    {
     "name": "stdout",
     "output_type": "stream",
     "text": [
      "auc: 0.9333\n",
      "node dim: 10,\tnum_walks: 15,\twalk_length: 15\tbuilding a DeepWalk model...\tnumber of walks: 124920\taverage walk length: 14.8291\ttraining time: 45.4657\n"
     ]
    },
    {
     "name": "stderr",
     "output_type": "stream",
     "text": [
      "\u001b[32m[I 2021-04-29 21:58:51,583]\u001b[0m Trial 63 finished with value: 0.9333672038716183 and parameters: {'node_dim': 10, 'num_walks': 15, 'walk_length': 15}. Best is trial 57 with value: 0.9341203177127955.\u001b[0m\n"
     ]
    },
    {
     "name": "stdout",
     "output_type": "stream",
     "text": [
      "auc: 0.9334\n",
      "node dim: 10,\tnum_walks: 15,\twalk_length: 15\tbuilding a DeepWalk model...\tnumber of walks: 124920\taverage walk length: 14.8291\ttraining time: 41.5903\n"
     ]
    },
    {
     "name": "stderr",
     "output_type": "stream",
     "text": [
      "\u001b[32m[I 2021-04-29 21:59:34,121]\u001b[0m Trial 64 finished with value: 0.9329836325548252 and parameters: {'node_dim': 10, 'num_walks': 15, 'walk_length': 15}. Best is trial 57 with value: 0.9341203177127955.\u001b[0m\n"
     ]
    },
    {
     "name": "stdout",
     "output_type": "stream",
     "text": [
      "auc: 0.9330\n",
      "node dim: 10,\tnum_walks: 5,\twalk_length: 15\tbuilding a DeepWalk model...\tnumber of walks: 41640\taverage walk length: 14.8335\ttraining time: 15.2057\n"
     ]
    },
    {
     "name": "stderr",
     "output_type": "stream",
     "text": [
      "\u001b[32m[I 2021-04-29 21:59:50,092]\u001b[0m Trial 65 finished with value: 0.9227069788606026 and parameters: {'node_dim': 10, 'num_walks': 5, 'walk_length': 15}. Best is trial 57 with value: 0.9341203177127955.\u001b[0m\n"
     ]
    },
    {
     "name": "stdout",
     "output_type": "stream",
     "text": [
      "auc: 0.9227\n",
      "node dim: 10,\tnum_walks: 15,\twalk_length: 15\tbuilding a DeepWalk model...\tnumber of walks: 124920\taverage walk length: 14.8291\ttraining time: 41.8248\n"
     ]
    },
    {
     "name": "stderr",
     "output_type": "stream",
     "text": [
      "\u001b[32m[I 2021-04-29 22:00:32,697]\u001b[0m Trial 66 finished with value: 0.93302390149749 and parameters: {'node_dim': 10, 'num_walks': 15, 'walk_length': 15}. Best is trial 57 with value: 0.9341203177127955.\u001b[0m\n"
     ]
    },
    {
     "name": "stdout",
     "output_type": "stream",
     "text": [
      "auc: 0.9330\n",
      "node dim: 10,\tnum_walks: 15,\twalk_length: 15\tbuilding a DeepWalk model...\tnumber of walks: 124920\taverage walk length: 14.8291\ttraining time: 41.3883\n"
     ]
    },
    {
     "name": "stderr",
     "output_type": "stream",
     "text": [
      "\u001b[32m[I 2021-04-29 22:01:14,868]\u001b[0m Trial 67 finished with value: 0.933533623050093 and parameters: {'node_dim': 10, 'num_walks': 15, 'walk_length': 15}. Best is trial 57 with value: 0.9341203177127955.\u001b[0m\n"
     ]
    },
    {
     "name": "stdout",
     "output_type": "stream",
     "text": [
      "auc: 0.9335\n",
      "node dim: 10,\tnum_walks: 15,\twalk_length: 15\tbuilding a DeepWalk model...\tnumber of walks: 124920\taverage walk length: 14.8291\ttraining time: 41.9558\n"
     ]
    },
    {
     "name": "stderr",
     "output_type": "stream",
     "text": [
      "\u001b[32m[I 2021-04-29 22:01:57,602]\u001b[0m Trial 68 finished with value: 0.9332165958731679 and parameters: {'node_dim': 10, 'num_walks': 15, 'walk_length': 15}. Best is trial 57 with value: 0.9341203177127955.\u001b[0m\n"
     ]
    },
    {
     "name": "stdout",
     "output_type": "stream",
     "text": [
      "auc: 0.9332\n",
      "node dim: 5,\tnum_walks: 10,\twalk_length: 10\tbuilding a DeepWalk model...\tnumber of walks: 83280\taverage walk length: 9.8980\ttraining time: 20.9642\n"
     ]
    },
    {
     "name": "stderr",
     "output_type": "stream",
     "text": [
      "\u001b[32m[I 2021-04-29 22:02:19,359]\u001b[0m Trial 69 finished with value: 0.9186800958592092 and parameters: {'node_dim': 5, 'num_walks': 10, 'walk_length': 10}. Best is trial 57 with value: 0.9341203177127955.\u001b[0m\n"
     ]
    },
    {
     "name": "stdout",
     "output_type": "stream",
     "text": [
      "auc: 0.9187\n",
      "node dim: 10,\tnum_walks: 15,\twalk_length: 15\tbuilding a DeepWalk model...\tnumber of walks: 124920\taverage walk length: 14.8291\ttraining time: 42.3997\n"
     ]
    },
    {
     "name": "stderr",
     "output_type": "stream",
     "text": [
      "\u001b[32m[I 2021-04-29 22:03:02,532]\u001b[0m Trial 70 finished with value: 0.933548608123498 and parameters: {'node_dim': 10, 'num_walks': 15, 'walk_length': 15}. Best is trial 57 with value: 0.9341203177127955.\u001b[0m\n"
     ]
    },
    {
     "name": "stdout",
     "output_type": "stream",
     "text": [
      "auc: 0.9335\n",
      "node dim: 10,\tnum_walks: 15,\twalk_length: 15\tbuilding a DeepWalk model...\tnumber of walks: 124920\taverage walk length: 14.8291\ttraining time: 41.9197\n"
     ]
    },
    {
     "name": "stderr",
     "output_type": "stream",
     "text": [
      "\u001b[32m[I 2021-04-29 22:03:45,391]\u001b[0m Trial 71 finished with value: 0.9334655731431598 and parameters: {'node_dim': 10, 'num_walks': 15, 'walk_length': 15}. Best is trial 57 with value: 0.9341203177127955.\u001b[0m\n"
     ]
    },
    {
     "name": "stdout",
     "output_type": "stream",
     "text": [
      "auc: 0.9335\n",
      "node dim: 10,\tnum_walks: 15,\twalk_length: 15\tbuilding a DeepWalk model...\tnumber of walks: 124920\taverage walk length: 14.8291\ttraining time: 44.6675\n"
     ]
    },
    {
     "name": "stderr",
     "output_type": "stream",
     "text": [
      "\u001b[32m[I 2021-04-29 22:04:30,929]\u001b[0m Trial 72 finished with value: 0.933389560069086 and parameters: {'node_dim': 10, 'num_walks': 15, 'walk_length': 15}. Best is trial 57 with value: 0.9341203177127955.\u001b[0m\n"
     ]
    },
    {
     "name": "stdout",
     "output_type": "stream",
     "text": [
      "auc: 0.9334\n",
      "node dim: 10,\tnum_walks: 15,\twalk_length: 15\tbuilding a DeepWalk model...\tnumber of walks: 124920\taverage walk length: 14.8291\ttraining time: 43.5206\n"
     ]
    },
    {
     "name": "stderr",
     "output_type": "stream",
     "text": [
      "\u001b[32m[I 2021-04-29 22:05:15,270]\u001b[0m Trial 73 finished with value: 0.9334546021969189 and parameters: {'node_dim': 10, 'num_walks': 15, 'walk_length': 15}. Best is trial 57 with value: 0.9341203177127955.\u001b[0m\n"
     ]
    },
    {
     "name": "stdout",
     "output_type": "stream",
     "text": [
      "auc: 0.9335\n",
      "node dim: 10,\tnum_walks: 15,\twalk_length: 15\tbuilding a DeepWalk model...\tnumber of walks: 124920\taverage walk length: 14.8291\ttraining time: 41.6924\n"
     ]
    },
    {
     "name": "stderr",
     "output_type": "stream",
     "text": [
      "\u001b[32m[I 2021-04-29 22:05:57,750]\u001b[0m Trial 74 finished with value: 0.9333811800936063 and parameters: {'node_dim': 10, 'num_walks': 15, 'walk_length': 15}. Best is trial 57 with value: 0.9341203177127955.\u001b[0m\n"
     ]
    },
    {
     "name": "stdout",
     "output_type": "stream",
     "text": [
      "auc: 0.9334\n",
      "node dim: 20,\tnum_walks: 15,\twalk_length: 20\tbuilding a DeepWalk model...\tnumber of walks: 124920\taverage walk length: 19.7553\ttraining time: 58.1728\n"
     ]
    },
    {
     "name": "stderr",
     "output_type": "stream",
     "text": [
      "\u001b[32m[I 2021-04-29 22:06:56,713]\u001b[0m Trial 75 finished with value: 0.9257991860576753 and parameters: {'node_dim': 20, 'num_walks': 15, 'walk_length': 20}. Best is trial 57 with value: 0.9341203177127955.\u001b[0m\n"
     ]
    },
    {
     "name": "stdout",
     "output_type": "stream",
     "text": [
      "auc: 0.9258\n",
      "node dim: 10,\tnum_walks: 15,\twalk_length: 15\tbuilding a DeepWalk model...\tnumber of walks: 124920\taverage walk length: 14.8291\ttraining time: 44.0319\n"
     ]
    },
    {
     "name": "stderr",
     "output_type": "stream",
     "text": [
      "\u001b[32m[I 2021-04-29 22:07:41,520]\u001b[0m Trial 76 finished with value: 0.9334153070587236 and parameters: {'node_dim': 10, 'num_walks': 15, 'walk_length': 15}. Best is trial 57 with value: 0.9341203177127955.\u001b[0m\n"
     ]
    },
    {
     "name": "stdout",
     "output_type": "stream",
     "text": [
      "auc: 0.9334\n",
      "node dim: 10,\tnum_walks: 5,\twalk_length: 15\tbuilding a DeepWalk model...\tnumber of walks: 41640\taverage walk length: 14.8335\ttraining time: 15.3377\n"
     ]
    },
    {
     "name": "stderr",
     "output_type": "stream",
     "text": [
      "\u001b[32m[I 2021-04-29 22:07:57,618]\u001b[0m Trial 77 finished with value: 0.9229388206766256 and parameters: {'node_dim': 10, 'num_walks': 5, 'walk_length': 15}. Best is trial 57 with value: 0.9341203177127955.\u001b[0m\n"
     ]
    },
    {
     "name": "stdout",
     "output_type": "stream",
     "text": [
      "auc: 0.9229\n",
      "node dim: 40,\tnum_walks: 15,\twalk_length: 5\tbuilding a DeepWalk model...\tnumber of walks: 124920\taverage walk length: 4.9630\ttraining time: 24.0930\n"
     ]
    },
    {
     "name": "stderr",
     "output_type": "stream",
     "text": [
      "\u001b[32m[I 2021-04-29 22:08:22,587]\u001b[0m Trial 78 finished with value: 0.8239665401184811 and parameters: {'node_dim': 40, 'num_walks': 15, 'walk_length': 5}. Best is trial 57 with value: 0.9341203177127955.\u001b[0m\n"
     ]
    },
    {
     "name": "stdout",
     "output_type": "stream",
     "text": [
      "auc: 0.8240\n",
      "node dim: 10,\tnum_walks: 20,\twalk_length: 15\tbuilding a DeepWalk model...\tnumber of walks: 166560\taverage walk length: 14.8288\ttraining time: 58.0889\n"
     ]
    },
    {
     "name": "stderr",
     "output_type": "stream",
     "text": [
      "\u001b[32m[I 2021-04-29 22:09:21,453]\u001b[0m Trial 79 finished with value: 0.9322911274026235 and parameters: {'node_dim': 10, 'num_walks': 20, 'walk_length': 15}. Best is trial 57 with value: 0.9341203177127955.\u001b[0m\n"
     ]
    },
    {
     "name": "stdout",
     "output_type": "stream",
     "text": [
      "auc: 0.9323\n",
      "node dim: 10,\tnum_walks: 15,\twalk_length: 15\tbuilding a DeepWalk model...\tnumber of walks: 124920\taverage walk length: 14.8291\ttraining time: 41.4545\n"
     ]
    },
    {
     "name": "stderr",
     "output_type": "stream",
     "text": [
      "\u001b[32m[I 2021-04-29 22:10:03,689]\u001b[0m Trial 80 finished with value: 0.9332791609328192 and parameters: {'node_dim': 10, 'num_walks': 15, 'walk_length': 15}. Best is trial 57 with value: 0.9341203177127955.\u001b[0m\n"
     ]
    },
    {
     "name": "stdout",
     "output_type": "stream",
     "text": [
      "auc: 0.9333\n",
      "node dim: 10,\tnum_walks: 15,\twalk_length: 15\tbuilding a DeepWalk model...\tnumber of walks: 124920\taverage walk length: 14.8291\ttraining time: 43.5303\n"
     ]
    },
    {
     "name": "stderr",
     "output_type": "stream",
     "text": [
      "\u001b[32m[I 2021-04-29 22:10:48,057]\u001b[0m Trial 81 finished with value: 0.9332226677568203 and parameters: {'node_dim': 10, 'num_walks': 15, 'walk_length': 15}. Best is trial 57 with value: 0.9341203177127955.\u001b[0m\n"
     ]
    },
    {
     "name": "stdout",
     "output_type": "stream",
     "text": [
      "auc: 0.9332\n",
      "node dim: 10,\tnum_walks: 15,\twalk_length: 15\tbuilding a DeepWalk model...\tnumber of walks: 124920\taverage walk length: 14.8291\ttraining time: 42.7056\n"
     ]
    },
    {
     "name": "stderr",
     "output_type": "stream",
     "text": [
      "\u001b[32m[I 2021-04-29 22:11:31,582]\u001b[0m Trial 82 finished with value: 0.933110660215999 and parameters: {'node_dim': 10, 'num_walks': 15, 'walk_length': 15}. Best is trial 57 with value: 0.9341203177127955.\u001b[0m\n"
     ]
    },
    {
     "name": "stdout",
     "output_type": "stream",
     "text": [
      "auc: 0.9331\n",
      "node dim: 10,\tnum_walks: 15,\twalk_length: 15\tbuilding a DeepWalk model...\tnumber of walks: 124920\taverage walk length: 14.8291\ttraining time: 42.0000\n"
     ]
    },
    {
     "name": "stderr",
     "output_type": "stream",
     "text": [
      "\u001b[32m[I 2021-04-29 22:12:14,374]\u001b[0m Trial 83 finished with value: 0.9332341969508675 and parameters: {'node_dim': 10, 'num_walks': 15, 'walk_length': 15}. Best is trial 57 with value: 0.9341203177127955.\u001b[0m\n"
     ]
    },
    {
     "name": "stdout",
     "output_type": "stream",
     "text": [
      "auc: 0.9332\n",
      "node dim: 10,\tnum_walks: 15,\twalk_length: 15\tbuilding a DeepWalk model...\tnumber of walks: 124920\taverage walk length: 14.8291\ttraining time: 42.0110\n"
     ]
    },
    {
     "name": "stderr",
     "output_type": "stream",
     "text": [
      "\u001b[32m[I 2021-04-29 22:12:57,164]\u001b[0m Trial 84 finished with value: 0.9335773140768449 and parameters: {'node_dim': 10, 'num_walks': 15, 'walk_length': 15}. Best is trial 57 with value: 0.9341203177127955.\u001b[0m\n"
     ]
    },
    {
     "name": "stdout",
     "output_type": "stream",
     "text": [
      "auc: 0.9336\n",
      "node dim: 10,\tnum_walks: 15,\twalk_length: 15\tbuilding a DeepWalk model...\tnumber of walks: 124920\taverage walk length: 14.8291\ttraining time: 41.9903\n"
     ]
    },
    {
     "name": "stderr",
     "output_type": "stream",
     "text": [
      "\u001b[32m[I 2021-04-29 22:13:40,181]\u001b[0m Trial 85 finished with value: 0.9337986267885008 and parameters: {'node_dim': 10, 'num_walks': 15, 'walk_length': 15}. Best is trial 57 with value: 0.9341203177127955.\u001b[0m\n"
     ]
    },
    {
     "name": "stdout",
     "output_type": "stream",
     "text": [
      "auc: 0.9338\n",
      "node dim: 10,\tnum_walks: 15,\twalk_length: 15\tbuilding a DeepWalk model...\tnumber of walks: 124920\taverage walk length: 14.8291\ttraining time: 50.5689\n"
     ]
    },
    {
     "name": "stderr",
     "output_type": "stream",
     "text": [
      "\u001b[32m[I 2021-04-29 22:14:31,596]\u001b[0m Trial 86 finished with value: 0.9338047199506572 and parameters: {'node_dim': 10, 'num_walks': 15, 'walk_length': 15}. Best is trial 57 with value: 0.9341203177127955.\u001b[0m\n"
     ]
    },
    {
     "name": "stdout",
     "output_type": "stream",
     "text": [
      "auc: 0.9338\n",
      "node dim: 10,\tnum_walks: 15,\twalk_length: 15\tbuilding a DeepWalk model...\tnumber of walks: 124920\taverage walk length: 14.8291\ttraining time: 44.1175\n"
     ]
    },
    {
     "name": "stderr",
     "output_type": "stream",
     "text": [
      "\u001b[32m[I 2021-04-29 22:15:16,516]\u001b[0m Trial 87 finished with value: 0.9334607441744663 and parameters: {'node_dim': 10, 'num_walks': 15, 'walk_length': 15}. Best is trial 57 with value: 0.9341203177127955.\u001b[0m\n"
     ]
    },
    {
     "name": "stdout",
     "output_type": "stream",
     "text": [
      "auc: 0.9335\n",
      "node dim: 10,\tnum_walks: 15,\twalk_length: 15\tbuilding a DeepWalk model...\tnumber of walks: 124920\taverage walk length: 14.8291\ttraining time: 45.2778\n"
     ]
    },
    {
     "name": "stderr",
     "output_type": "stream",
     "text": [
      "\u001b[32m[I 2021-04-29 22:16:02,668]\u001b[0m Trial 88 finished with value: 0.9331556529865146 and parameters: {'node_dim': 10, 'num_walks': 15, 'walk_length': 15}. Best is trial 57 with value: 0.9341203177127955.\u001b[0m\n"
     ]
    },
    {
     "name": "stdout",
     "output_type": "stream",
     "text": [
      "auc: 0.9332\n",
      "node dim: 10,\tnum_walks: 10,\twalk_length: 15\tbuilding a DeepWalk model...\tnumber of walks: 83280\taverage walk length: 14.8289\ttraining time: 29.8303\n"
     ]
    },
    {
     "name": "stderr",
     "output_type": "stream",
     "text": [
      "\u001b[32m[I 2021-04-29 22:16:33,278]\u001b[0m Trial 89 finished with value: 0.9307889513977343 and parameters: {'node_dim': 10, 'num_walks': 10, 'walk_length': 15}. Best is trial 57 with value: 0.9341203177127955.\u001b[0m\n"
     ]
    },
    {
     "name": "stdout",
     "output_type": "stream",
     "text": [
      "auc: 0.9308\n",
      "node dim: 20,\tnum_walks: 15,\twalk_length: 10\tbuilding a DeepWalk model...\tnumber of walks: 124920\taverage walk length: 9.8983\ttraining time: 34.0517\n"
     ]
    },
    {
     "name": "stderr",
     "output_type": "stream",
     "text": [
      "\u001b[32m[I 2021-04-29 22:17:08,105]\u001b[0m Trial 90 finished with value: 0.9201717440114079 and parameters: {'node_dim': 20, 'num_walks': 15, 'walk_length': 10}. Best is trial 57 with value: 0.9341203177127955.\u001b[0m\n"
     ]
    },
    {
     "name": "stdout",
     "output_type": "stream",
     "text": [
      "auc: 0.9202\n",
      "node dim: 10,\tnum_walks: 15,\twalk_length: 15\tbuilding a DeepWalk model...\tnumber of walks: 124920\taverage walk length: 14.8291\ttraining time: 41.7298\n"
     ]
    },
    {
     "name": "stderr",
     "output_type": "stream",
     "text": [
      "\u001b[32m[I 2021-04-29 22:17:50,677]\u001b[0m Trial 91 finished with value: 0.9334830615699566 and parameters: {'node_dim': 10, 'num_walks': 15, 'walk_length': 15}. Best is trial 57 with value: 0.9341203177127955.\u001b[0m\n"
     ]
    },
    {
     "name": "stdout",
     "output_type": "stream",
     "text": [
      "auc: 0.9335\n",
      "node dim: 10,\tnum_walks: 15,\twalk_length: 15\tbuilding a DeepWalk model...\tnumber of walks: 124920\taverage walk length: 14.8291\ttraining time: 41.7151\n"
     ]
    },
    {
     "name": "stderr",
     "output_type": "stream",
     "text": [
      "\u001b[32m[I 2021-04-29 22:18:33,195]\u001b[0m Trial 92 finished with value: 0.9329232191274142 and parameters: {'node_dim': 10, 'num_walks': 15, 'walk_length': 15}. Best is trial 57 with value: 0.9341203177127955.\u001b[0m\n"
     ]
    },
    {
     "name": "stdout",
     "output_type": "stream",
     "text": [
      "auc: 0.9329\n",
      "node dim: 10,\tnum_walks: 15,\twalk_length: 15\tbuilding a DeepWalk model...\tnumber of walks: 124920\taverage walk length: 14.8291\ttraining time: 41.9446\n"
     ]
    },
    {
     "name": "stderr",
     "output_type": "stream",
     "text": [
      "\u001b[32m[I 2021-04-29 22:19:15,913]\u001b[0m Trial 93 finished with value: 0.9335012233988161 and parameters: {'node_dim': 10, 'num_walks': 15, 'walk_length': 15}. Best is trial 57 with value: 0.9341203177127955.\u001b[0m\n"
     ]
    },
    {
     "name": "stdout",
     "output_type": "stream",
     "text": [
      "auc: 0.9335\n",
      "node dim: 10,\tnum_walks: 15,\twalk_length: 15\tbuilding a DeepWalk model...\tnumber of walks: 124920\taverage walk length: 14.8291\ttraining time: 41.7312\n"
     ]
    },
    {
     "name": "stderr",
     "output_type": "stream",
     "text": [
      "\u001b[32m[I 2021-04-29 22:19:58,418]\u001b[0m Trial 94 finished with value: 0.9332541486774023 and parameters: {'node_dim': 10, 'num_walks': 15, 'walk_length': 15}. Best is trial 57 with value: 0.9341203177127955.\u001b[0m\n"
     ]
    },
    {
     "name": "stdout",
     "output_type": "stream",
     "text": [
      "auc: 0.9333\n",
      "node dim: 10,\tnum_walks: 15,\twalk_length: 15\tbuilding a DeepWalk model...\tnumber of walks: 124920\taverage walk length: 14.8291\ttraining time: 42.3514\n"
     ]
    },
    {
     "name": "stderr",
     "output_type": "stream",
     "text": [
      "\u001b[32m[I 2021-04-29 22:20:41,553]\u001b[0m Trial 95 finished with value: 0.9340614551128109 and parameters: {'node_dim': 10, 'num_walks': 15, 'walk_length': 15}. Best is trial 57 with value: 0.9341203177127955.\u001b[0m\n"
     ]
    },
    {
     "name": "stdout",
     "output_type": "stream",
     "text": [
      "auc: 0.9341\n",
      "node dim: 10,\tnum_walks: 15,\twalk_length: 15\tbuilding a DeepWalk model...\tnumber of walks: 124920\taverage walk length: 14.8291\ttraining time: 42.0754\n"
     ]
    },
    {
     "name": "stderr",
     "output_type": "stream",
     "text": [
      "\u001b[32m[I 2021-04-29 22:21:24,430]\u001b[0m Trial 96 finished with value: 0.9335605641392986 and parameters: {'node_dim': 10, 'num_walks': 15, 'walk_length': 15}. Best is trial 57 with value: 0.9341203177127955.\u001b[0m\n"
     ]
    },
    {
     "name": "stdout",
     "output_type": "stream",
     "text": [
      "auc: 0.9336\n",
      "node dim: 5,\tnum_walks: 15,\twalk_length: 15\tbuilding a DeepWalk model...\tnumber of walks: 124920\taverage walk length: 14.8291\ttraining time: 43.0651\n"
     ]
    },
    {
     "name": "stderr",
     "output_type": "stream",
     "text": [
      "\u001b[32m[I 2021-04-29 22:22:08,284]\u001b[0m Trial 97 finished with value: 0.9207747442664296 and parameters: {'node_dim': 5, 'num_walks': 15, 'walk_length': 15}. Best is trial 57 with value: 0.9341203177127955.\u001b[0m\n"
     ]
    },
    {
     "name": "stdout",
     "output_type": "stream",
     "text": [
      "auc: 0.9208\n",
      "node dim: 10,\tnum_walks: 15,\twalk_length: 20\tbuilding a DeepWalk model...\tnumber of walks: 124920\taverage walk length: 19.7553\ttraining time: 52.0857\n"
     ]
    },
    {
     "name": "stderr",
     "output_type": "stream",
     "text": [
      "\u001b[32m[I 2021-04-29 22:23:01,180]\u001b[0m Trial 98 finished with value: 0.9325546779443872 and parameters: {'node_dim': 10, 'num_walks': 15, 'walk_length': 20}. Best is trial 57 with value: 0.9341203177127955.\u001b[0m\n"
     ]
    },
    {
     "name": "stdout",
     "output_type": "stream",
     "text": [
      "auc: 0.9326\n",
      "node dim: 10,\tnum_walks: 15,\twalk_length: 15\tbuilding a DeepWalk model...\tnumber of walks: 124920\taverage walk length: 14.8291\ttraining time: 42.6475\n"
     ]
    },
    {
     "name": "stderr",
     "output_type": "stream",
     "text": [
      "\u001b[32m[I 2021-04-29 22:23:44,685]\u001b[0m Trial 99 finished with value: 0.933592927491951 and parameters: {'node_dim': 10, 'num_walks': 15, 'walk_length': 15}. Best is trial 57 with value: 0.9341203177127955.\u001b[0m\n"
     ]
    },
    {
     "name": "stdout",
     "output_type": "stream",
     "text": [
      "auc: 0.9336\n"
     ]
    },
    {
     "data": {
      "text/plain": [
       "{'node_dim': 10, 'num_walks': 15, 'walk_length': 15}"
      ]
     },
     "execution_count": 22,
     "metadata": {},
     "output_type": "execute_result"
    }
   ],
   "source": [
    "import optuna\n",
    "def objective(trial,graph,alias_nodes,alias_edges):\n",
    "    np.random.seed(0)\n",
    "    \n",
    "    node_dim = trial.suggest_categorical(\"node_dim\",[5,10,20,40])\n",
    "    num_walks = trial.suggest_categorical(\"num_walks\",[5,10,15,20])\n",
    "    walk_length = trial.suggest_categorical(\"walk_length\",[5,10,15,20])\n",
    "    deepwalk_auc_scores = dict()\n",
    "\n",
    "    print(\"node dim: %d,\\tnum_walks: %d,\\twalk_length: %d\" % (node_dim, num_walks, walk_length), end=\"\\t\")\n",
    "    model = build_deepwalk(graph, alias_nodes, \n",
    "                           node_dim=node_dim, num_walks=num_walks, walk_length=walk_length)\n",
    "    deepwalk_auc_scores[(node_dim, num_walks, walk_length)] = get_auc_score(model, valid_edges, false_edges)\n",
    "    print(\"auc: %.4f\" % (deepwalk_auc_scores[(node_dim, num_walks, walk_length)]))\n",
    "    return (deepwalk_auc_scores[(node_dim, num_walks, walk_length)])\n",
    "\n",
    "study = optuna.create_study(direction = 'maximize')\n",
    "study.optimize(lambda trial:objective(trial,graph=graph,alias_nodes=alias_nodes,alias_edges=alias_edges), n_trials=100)\n",
    "\n",
    "study.best_params"
   ]
  },
  {
   "cell_type": "markdown",
   "metadata": {},
   "source": [
    "NODE2VEC TUNING"
   ]
  },
  {
   "cell_type": "code",
   "execution_count": 23,
   "metadata": {},
   "outputs": [
    {
     "name": "stderr",
     "output_type": "stream",
     "text": [
      "\u001b[32m[I 2021-04-29 22:23:44,702]\u001b[0m A new study created in memory with name: no-name-66189d70-22dd-40ca-8d05-aa8380817e1c\u001b[0m\n"
     ]
    },
    {
     "name": "stdout",
     "output_type": "stream",
     "text": [
      "node dim: 20,\tnum_walks: 20,\twalk_length: 5,\tp: 0.76,\tq: 0.67\tbuilding a node2vec model...\tnumber of walks: 166560\taverage walk length: 4.9981\ttraining time: 34.2915\n"
     ]
    },
    {
     "name": "stderr",
     "output_type": "stream",
     "text": [
      "\u001b[32m[I 2021-04-29 22:25:13,030]\u001b[0m Trial 0 finished with value: 0.9026432748252249 and parameters: {'node_dim': 20, 'num_walks': 20, 'walk_length': 5, 'p': 0.7603896275656523, 'q': 0.6698416510055908}. Best is trial 0 with value: 0.9026432748252249.\u001b[0m\n"
     ]
    },
    {
     "name": "stdout",
     "output_type": "stream",
     "text": [
      "auc: 0.9026\n",
      "node dim: 10,\tnum_walks: 10,\twalk_length: 10,\tp: 0.65,\tq: 0.95\tbuilding a node2vec model...\tnumber of walks: 83280\taverage walk length: 9.9914\ttraining time: 28.0517\n"
     ]
    },
    {
     "name": "stderr",
     "output_type": "stream",
     "text": [
      "\u001b[32m[I 2021-04-29 22:26:33,036]\u001b[0m Trial 1 finished with value: 0.9281681619430123 and parameters: {'node_dim': 10, 'num_walks': 10, 'walk_length': 10, 'p': 0.6532959405942755, 'q': 0.9526015631812539}. Best is trial 1 with value: 0.9281681619430123.\u001b[0m\n"
     ]
    },
    {
     "name": "stdout",
     "output_type": "stream",
     "text": [
      "auc: 0.9282\n",
      "node dim: 40,\tnum_walks: 20,\twalk_length: 20,\tp: 0.68,\tq: 0.39\tbuilding a node2vec model...\tnumber of walks: 166560\taverage walk length: 19.9568\ttraining time: 97.7728\n"
     ]
    },
    {
     "name": "stderr",
     "output_type": "stream",
     "text": [
      "\u001b[32m[I 2021-04-29 22:28:59,698]\u001b[0m Trial 2 finished with value: 0.8993509207694259 and parameters: {'node_dim': 40, 'num_walks': 20, 'walk_length': 20, 'p': 0.6796189476512048, 'q': 0.3898031480918806}. Best is trial 1 with value: 0.9281681619430123.\u001b[0m\n"
     ]
    },
    {
     "name": "stdout",
     "output_type": "stream",
     "text": [
      "auc: 0.8994\n",
      "node dim: 5,\tnum_walks: 10,\twalk_length: 5,\tp: 0.87,\tq: 0.03\tbuilding a node2vec model...\tnumber of walks: 83280\taverage walk length: 4.9956\ttraining time: 16.5364\n"
     ]
    },
    {
     "name": "stderr",
     "output_type": "stream",
     "text": [
      "\u001b[32m[I 2021-04-29 22:30:03,016]\u001b[0m Trial 3 finished with value: 0.9065164143780442 and parameters: {'node_dim': 5, 'num_walks': 10, 'walk_length': 5, 'p': 0.8705068646562706, 'q': 0.025511022058571885}. Best is trial 1 with value: 0.9281681619430123.\u001b[0m\n"
     ]
    },
    {
     "name": "stdout",
     "output_type": "stream",
     "text": [
      "auc: 0.9065\n",
      "node dim: 40,\tnum_walks: 5,\twalk_length: 20,\tp: 0.06,\tq: 0.30\tbuilding a node2vec model...\tnumber of walks: 41640\taverage walk length: 19.9745\ttraining time: 21.0186\n"
     ]
    },
    {
     "name": "stderr",
     "output_type": "stream",
     "text": [
      "\u001b[32m[I 2021-04-29 22:31:02,270]\u001b[0m Trial 4 finished with value: 0.8697936445244592 and parameters: {'node_dim': 40, 'num_walks': 5, 'walk_length': 20, 'p': 0.05710864932023144, 'q': 0.30479349184718296}. Best is trial 1 with value: 0.9281681619430123.\u001b[0m\n"
     ]
    },
    {
     "name": "stdout",
     "output_type": "stream",
     "text": [
      "auc: 0.8698\n",
      "node dim: 40,\tnum_walks: 10,\twalk_length: 20,\tp: 0.75,\tq: 0.64\tbuilding a node2vec model...\tnumber of walks: 83280\taverage walk length: 19.9643\ttraining time: 42.7457\n"
     ]
    },
    {
     "name": "stderr",
     "output_type": "stream",
     "text": [
      "\u001b[32m[I 2021-04-29 22:32:28,591]\u001b[0m Trial 5 finished with value: 0.8878646316960346 and parameters: {'node_dim': 40, 'num_walks': 10, 'walk_length': 20, 'p': 0.7539018917507117, 'q': 0.6364792960845678}. Best is trial 1 with value: 0.9281681619430123.\u001b[0m\n"
     ]
    },
    {
     "name": "stdout",
     "output_type": "stream",
     "text": [
      "auc: 0.8879\n",
      "node dim: 10,\tnum_walks: 20,\twalk_length: 20,\tp: 0.89,\tq: 0.74\tbuilding a node2vec model...\tnumber of walks: 166560\taverage walk length: 19.9676\ttraining time: 76.6790\n"
     ]
    },
    {
     "name": "stderr",
     "output_type": "stream",
     "text": [
      "\u001b[32m[I 2021-04-29 22:34:23,209]\u001b[0m Trial 6 finished with value: 0.9311503492618571 and parameters: {'node_dim': 10, 'num_walks': 20, 'walk_length': 20, 'p': 0.8865018871698125, 'q': 0.7353153459295221}. Best is trial 6 with value: 0.9311503492618571.\u001b[0m\n"
     ]
    },
    {
     "name": "stdout",
     "output_type": "stream",
     "text": [
      "auc: 0.9312\n",
      "node dim: 20,\tnum_walks: 10,\twalk_length: 15,\tp: 0.82,\tq: 0.99\tbuilding a node2vec model...\tnumber of walks: 83280\taverage walk length: 14.9829\ttraining time: 39.7325\n"
     ]
    },
    {
     "name": "stderr",
     "output_type": "stream",
     "text": [
      "\u001b[32m[I 2021-04-29 22:35:51,306]\u001b[0m Trial 7 finished with value: 0.9205089169247558 and parameters: {'node_dim': 20, 'num_walks': 10, 'walk_length': 15, 'p': 0.8191843031695338, 'q': 0.9909773153813645}. Best is trial 6 with value: 0.9311503492618571.\u001b[0m\n"
     ]
    },
    {
     "name": "stdout",
     "output_type": "stream",
     "text": [
      "auc: 0.9205\n",
      "node dim: 10,\tnum_walks: 5,\twalk_length: 15,\tp: 0.30,\tq: 0.09\tbuilding a node2vec model...\tnumber of walks: 41640\taverage walk length: 14.9704\ttraining time: 16.1784\n"
     ]
    },
    {
     "name": "stderr",
     "output_type": "stream",
     "text": [
      "\u001b[32m[I 2021-04-29 22:36:45,574]\u001b[0m Trial 8 finished with value: 0.9239301235863515 and parameters: {'node_dim': 10, 'num_walks': 5, 'walk_length': 15, 'p': 0.29651184895282984, 'q': 0.09487355775847278}. Best is trial 6 with value: 0.9311503492618571.\u001b[0m\n"
     ]
    },
    {
     "name": "stdout",
     "output_type": "stream",
     "text": [
      "auc: 0.9239\n",
      "node dim: 20,\tnum_walks: 10,\twalk_length: 5,\tp: 0.11,\tq: 0.71\tbuilding a node2vec model...\tnumber of walks: 83280\taverage walk length: 4.9982\ttraining time: 18.4376\n"
     ]
    },
    {
     "name": "stderr",
     "output_type": "stream",
     "text": [
      "\u001b[32m[I 2021-04-29 22:37:43,608]\u001b[0m Trial 9 finished with value: 0.885376143216407 and parameters: {'node_dim': 20, 'num_walks': 10, 'walk_length': 5, 'p': 0.11359248217237969, 'q': 0.7117717656720165}. Best is trial 6 with value: 0.9311503492618571.\u001b[0m\n"
     ]
    },
    {
     "name": "stdout",
     "output_type": "stream",
     "text": [
      "auc: 0.8854\n",
      "node dim: 10,\tnum_walks: 15,\twalk_length: 20,\tp: 0.45,\tq: 0.83\tbuilding a node2vec model...\tnumber of walks: 124920\taverage walk length: 19.9726\ttraining time: 63.5864\n"
     ]
    },
    {
     "name": "stderr",
     "output_type": "stream",
     "text": [
      "\u001b[32m[I 2021-04-29 22:39:30,363]\u001b[0m Trial 10 finished with value: 0.9320297697984312 and parameters: {'node_dim': 10, 'num_walks': 15, 'walk_length': 20, 'p': 0.4488029689755931, 'q': 0.8281332083579565}. Best is trial 10 with value: 0.9320297697984312.\u001b[0m\n"
     ]
    },
    {
     "name": "stdout",
     "output_type": "stream",
     "text": [
      "auc: 0.9320\n",
      "node dim: 10,\tnum_walks: 15,\twalk_length: 20,\tp: 0.43,\tq: 0.84\tbuilding a node2vec model...\tnumber of walks: 124920\taverage walk length: 19.9739\ttraining time: 58.7034\n"
     ]
    },
    {
     "name": "stderr",
     "output_type": "stream",
     "text": [
      "\u001b[32m[I 2021-04-29 22:41:07,141]\u001b[0m Trial 11 finished with value: 0.9318978092793984 and parameters: {'node_dim': 10, 'num_walks': 15, 'walk_length': 20, 'p': 0.43270605640474413, 'q': 0.8375883490501926}. Best is trial 10 with value: 0.9320297697984312.\u001b[0m\n"
     ]
    },
    {
     "name": "stdout",
     "output_type": "stream",
     "text": [
      "auc: 0.9319\n",
      "node dim: 10,\tnum_walks: 15,\twalk_length: 20,\tp: 0.44,\tq: 0.89\tbuilding a node2vec model...\tnumber of walks: 124920\taverage walk length: 19.9747\ttraining time: 60.5668\n"
     ]
    },
    {
     "name": "stderr",
     "output_type": "stream",
     "text": [
      "\u001b[32m[I 2021-04-29 22:42:47,003]\u001b[0m Trial 12 finished with value: 0.9310769421786649 and parameters: {'node_dim': 10, 'num_walks': 15, 'walk_length': 20, 'p': 0.439226149037678, 'q': 0.8870373795052473}. Best is trial 10 with value: 0.9320297697984312.\u001b[0m\n"
     ]
    },
    {
     "name": "stdout",
     "output_type": "stream",
     "text": [
      "auc: 0.9311\n",
      "node dim: 10,\tnum_walks: 15,\twalk_length: 10,\tp: 0.45,\tq: 0.84\tbuilding a node2vec model...\tnumber of walks: 124920\taverage walk length: 9.9915\ttraining time: 42.6379\n"
     ]
    },
    {
     "name": "stderr",
     "output_type": "stream",
     "text": [
      "\u001b[32m[I 2021-04-29 22:44:15,214]\u001b[0m Trial 13 finished with value: 0.9305560419014896 and parameters: {'node_dim': 10, 'num_walks': 15, 'walk_length': 10, 'p': 0.4493514552786818, 'q': 0.8448540188640965}. Best is trial 10 with value: 0.9320297697984312.\u001b[0m\n"
     ]
    },
    {
     "name": "stdout",
     "output_type": "stream",
     "text": [
      "auc: 0.9306\n",
      "node dim: 10,\tnum_walks: 15,\twalk_length: 20,\tp: 0.23,\tq: 0.53\tbuilding a node2vec model...\tnumber of walks: 124920\taverage walk length: 19.9738\ttraining time: 57.3200\n"
     ]
    },
    {
     "name": "stderr",
     "output_type": "stream",
     "text": [
      "\u001b[32m[I 2021-04-29 22:45:51,008]\u001b[0m Trial 14 finished with value: 0.9312335820071134 and parameters: {'node_dim': 10, 'num_walks': 15, 'walk_length': 20, 'p': 0.22527611519935697, 'q': 0.5336844937395315}. Best is trial 10 with value: 0.9320297697984312.\u001b[0m\n"
     ]
    },
    {
     "name": "stdout",
     "output_type": "stream",
     "text": [
      "auc: 0.9312\n",
      "node dim: 5,\tnum_walks: 15,\twalk_length: 20,\tp: 0.55,\tq: 0.81\tbuilding a node2vec model...\tnumber of walks: 124920\taverage walk length: 19.9712\ttraining time: 54.4231\n"
     ]
    },
    {
     "name": "stderr",
     "output_type": "stream",
     "text": [
      "\u001b[32m[I 2021-04-29 22:47:23,738]\u001b[0m Trial 15 finished with value: 0.9178161272714478 and parameters: {'node_dim': 5, 'num_walks': 15, 'walk_length': 20, 'p': 0.5522544814759803, 'q': 0.8055025207301719}. Best is trial 10 with value: 0.9320297697984312.\u001b[0m\n"
     ]
    },
    {
     "name": "stdout",
     "output_type": "stream",
     "text": [
      "auc: 0.9178\n",
      "node dim: 10,\tnum_walks: 15,\twalk_length: 20,\tp: 0.33,\tq: 0.52\tbuilding a node2vec model...\tnumber of walks: 124920\taverage walk length: 19.9712\ttraining time: 62.4276\n"
     ]
    },
    {
     "name": "stderr",
     "output_type": "stream",
     "text": [
      "\u001b[32m[I 2021-04-29 22:49:07,199]\u001b[0m Trial 16 finished with value: 0.9317084381053484 and parameters: {'node_dim': 10, 'num_walks': 15, 'walk_length': 20, 'p': 0.3289828704323064, 'q': 0.5233589145787381}. Best is trial 10 with value: 0.9320297697984312.\u001b[0m\n"
     ]
    },
    {
     "name": "stdout",
     "output_type": "stream",
     "text": [
      "auc: 0.9317\n",
      "node dim: 10,\tnum_walks: 15,\twalk_length: 10,\tp: 0.55,\tq: 0.99\tbuilding a node2vec model...\tnumber of walks: 124920\taverage walk length: 9.9913\ttraining time: 36.9246\n"
     ]
    },
    {
     "name": "stderr",
     "output_type": "stream",
     "text": [
      "\u001b[32m[I 2021-04-29 22:50:24,131]\u001b[0m Trial 17 finished with value: 0.9310301845440078 and parameters: {'node_dim': 10, 'num_walks': 15, 'walk_length': 10, 'p': 0.5528000937870209, 'q': 0.9947267291004563}. Best is trial 10 with value: 0.9320297697984312.\u001b[0m\n"
     ]
    },
    {
     "name": "stdout",
     "output_type": "stream",
     "text": [
      "auc: 0.9310\n",
      "node dim: 5,\tnum_walks: 15,\twalk_length: 20,\tp: 0.34,\tq: 0.80\tbuilding a node2vec model...\tnumber of walks: 124920\taverage walk length: 19.9741\ttraining time: 54.5464\n"
     ]
    },
    {
     "name": "stderr",
     "output_type": "stream",
     "text": [
      "\u001b[32m[I 2021-04-29 22:51:57,074]\u001b[0m Trial 18 finished with value: 0.9185001535657106 and parameters: {'node_dim': 5, 'num_walks': 15, 'walk_length': 20, 'p': 0.34492838867218945, 'q': 0.7984325887702808}. Best is trial 10 with value: 0.9320297697984312.\u001b[0m\n"
     ]
    },
    {
     "name": "stdout",
     "output_type": "stream",
     "text": [
      "auc: 0.9185\n",
      "node dim: 10,\tnum_walks: 15,\twalk_length: 15,\tp: 0.17,\tq: 0.61\tbuilding a node2vec model...\tnumber of walks: 124920\taverage walk length: 14.9843\ttraining time: 47.2932\n"
     ]
    },
    {
     "name": "stderr",
     "output_type": "stream",
     "text": [
      "\u001b[32m[I 2021-04-29 22:53:26,925]\u001b[0m Trial 19 finished with value: 0.9306192440645791 and parameters: {'node_dim': 10, 'num_walks': 15, 'walk_length': 15, 'p': 0.16927061137161814, 'q': 0.6118425076996428}. Best is trial 10 with value: 0.9320297697984312.\u001b[0m\n"
     ]
    },
    {
     "name": "stdout",
     "output_type": "stream",
     "text": [
      "auc: 0.9306\n",
      "node dim: 10,\tnum_walks: 5,\twalk_length: 20,\tp: 0.99,\tq: 0.40\tbuilding a node2vec model...\tnumber of walks: 41640\taverage walk length: 19.9520\ttraining time: 20.1133\n"
     ]
    },
    {
     "name": "stderr",
     "output_type": "stream",
     "text": [
      "\u001b[32m[I 2021-04-29 22:54:27,779]\u001b[0m Trial 20 finished with value: 0.9282139482765532 and parameters: {'node_dim': 10, 'num_walks': 5, 'walk_length': 20, 'p': 0.9920917609938956, 'q': 0.39613978794306803}. Best is trial 10 with value: 0.9320297697984312.\u001b[0m\n"
     ]
    },
    {
     "name": "stdout",
     "output_type": "stream",
     "text": [
      "auc: 0.9282\n",
      "node dim: 10,\tnum_walks: 15,\twalk_length: 20,\tp: 0.36,\tq: 0.24\tbuilding a node2vec model...\tnumber of walks: 124920\taverage walk length: 19.9619\ttraining time: 61.7836\n"
     ]
    },
    {
     "name": "stderr",
     "output_type": "stream",
     "text": [
      "\u001b[32m[I 2021-04-29 22:56:10,435]\u001b[0m Trial 21 finished with value: 0.930661040052813 and parameters: {'node_dim': 10, 'num_walks': 15, 'walk_length': 20, 'p': 0.357613001487449, 'q': 0.24372074735153038}. Best is trial 10 with value: 0.9320297697984312.\u001b[0m\n"
     ]
    },
    {
     "name": "stdout",
     "output_type": "stream",
     "text": [
      "auc: 0.9307\n",
      "node dim: 10,\tnum_walks: 15,\twalk_length: 20,\tp: 0.47,\tq: 0.50\tbuilding a node2vec model...\tnumber of walks: 124920\taverage walk length: 19.9684\ttraining time: 60.2517\n"
     ]
    },
    {
     "name": "stderr",
     "output_type": "stream",
     "text": [
      "\u001b[32m[I 2021-04-29 22:57:54,767]\u001b[0m Trial 22 finished with value: 0.9305984762448386 and parameters: {'node_dim': 10, 'num_walks': 15, 'walk_length': 20, 'p': 0.4670882225322101, 'q': 0.49608478024032204}. Best is trial 10 with value: 0.9320297697984312.\u001b[0m\n"
     ]
    },
    {
     "name": "stdout",
     "output_type": "stream",
     "text": [
      "auc: 0.9306\n",
      "node dim: 10,\tnum_walks: 15,\twalk_length: 20,\tp: 0.25,\tq: 0.90\tbuilding a node2vec model...\tnumber of walks: 124920\taverage walk length: 19.9748\ttraining time: 59.7689\n"
     ]
    },
    {
     "name": "stderr",
     "output_type": "stream",
     "text": [
      "\u001b[32m[I 2021-04-29 22:59:39,460]\u001b[0m Trial 23 finished with value: 0.9307732165699885 and parameters: {'node_dim': 10, 'num_walks': 15, 'walk_length': 20, 'p': 0.25276409539808614, 'q': 0.8957496380441421}. Best is trial 10 with value: 0.9320297697984312.\u001b[0m\n"
     ]
    },
    {
     "name": "stdout",
     "output_type": "stream",
     "text": [
      "auc: 0.9308\n",
      "node dim: 10,\tnum_walks: 15,\twalk_length: 20,\tp: 0.38,\tq: 0.56\tbuilding a node2vec model...\tnumber of walks: 124920\taverage walk length: 19.9739\ttraining time: 65.7003\n"
     ]
    },
    {
     "name": "stderr",
     "output_type": "stream",
     "text": [
      "\u001b[32m[I 2021-04-29 23:01:29,692]\u001b[0m Trial 24 finished with value: 0.9309549612779294 and parameters: {'node_dim': 10, 'num_walks': 15, 'walk_length': 20, 'p': 0.38087812666216003, 'q': 0.5550961170589372}. Best is trial 10 with value: 0.9320297697984312.\u001b[0m\n"
     ]
    },
    {
     "name": "stdout",
     "output_type": "stream",
     "text": [
      "auc: 0.9310\n",
      "node dim: 10,\tnum_walks: 15,\twalk_length: 20,\tp: 0.58,\tq: 0.77\tbuilding a node2vec model...\tnumber of walks: 124920\taverage walk length: 19.9708\ttraining time: 57.5138\n"
     ]
    },
    {
     "name": "stderr",
     "output_type": "stream",
     "text": [
      "\u001b[32m[I 2021-04-29 23:03:04,941]\u001b[0m Trial 25 finished with value: 0.9307673624780811 and parameters: {'node_dim': 10, 'num_walks': 15, 'walk_length': 20, 'p': 0.5790528447575389, 'q': 0.7651468329509672}. Best is trial 10 with value: 0.9320297697984312.\u001b[0m\n"
     ]
    },
    {
     "name": "stdout",
     "output_type": "stream",
     "text": [
      "auc: 0.9308\n",
      "node dim: 10,\tnum_walks: 15,\twalk_length: 20,\tp: 0.41,\tq: 0.47\tbuilding a node2vec model...\tnumber of walks: 124920\taverage walk length: 19.9699\ttraining time: 58.4432\n"
     ]
    },
    {
     "name": "stderr",
     "output_type": "stream",
     "text": [
      "\u001b[32m[I 2021-04-29 23:04:41,181]\u001b[0m Trial 26 finished with value: 0.931114883002675 and parameters: {'node_dim': 10, 'num_walks': 15, 'walk_length': 20, 'p': 0.40983490807755757, 'q': 0.4659687242540501}. Best is trial 10 with value: 0.9320297697984312.\u001b[0m\n"
     ]
    },
    {
     "name": "stdout",
     "output_type": "stream",
     "text": [
      "auc: 0.9311\n",
      "node dim: 20,\tnum_walks: 15,\twalk_length: 20,\tp: 0.29,\tq: 0.92\tbuilding a node2vec model...\tnumber of walks: 124920\taverage walk length: 19.9730\ttraining time: 66.9655\n"
     ]
    },
    {
     "name": "stderr",
     "output_type": "stream",
     "text": [
      "\u001b[32m[I 2021-04-29 23:06:30,470]\u001b[0m Trial 27 finished with value: 0.9236728164079475 and parameters: {'node_dim': 20, 'num_walks': 15, 'walk_length': 20, 'p': 0.28777595923340615, 'q': 0.9187200180450765}. Best is trial 10 with value: 0.9320297697984312.\u001b[0m\n"
     ]
    },
    {
     "name": "stdout",
     "output_type": "stream",
     "text": [
      "auc: 0.9237\n",
      "node dim: 10,\tnum_walks: 15,\twalk_length: 5,\tp: 0.51,\tq: 0.26\tbuilding a node2vec model...\tnumber of walks: 124920\taverage walk length: 4.9981\ttraining time: 29.1806\n"
     ]
    },
    {
     "name": "stderr",
     "output_type": "stream",
     "text": [
      "\u001b[32m[I 2021-04-29 23:07:43,394]\u001b[0m Trial 28 finished with value: 0.9177507271640799 and parameters: {'node_dim': 10, 'num_walks': 15, 'walk_length': 5, 'p': 0.505372325356498, 'q': 0.25875370996866365}. Best is trial 10 with value: 0.9320297697984312.\u001b[0m\n"
     ]
    },
    {
     "name": "stdout",
     "output_type": "stream",
     "text": [
      "auc: 0.9178\n",
      "node dim: 5,\tnum_walks: 20,\twalk_length: 10,\tp: 0.63,\tq: 0.70\tbuilding a node2vec model...\tnumber of walks: 166560\taverage walk length: 9.9914\ttraining time: 48.8918\n"
     ]
    },
    {
     "name": "stderr",
     "output_type": "stream",
     "text": [
      "\u001b[32m[I 2021-04-29 23:09:14,852]\u001b[0m Trial 29 finished with value: 0.9169448050830971 and parameters: {'node_dim': 5, 'num_walks': 20, 'walk_length': 10, 'p': 0.6339672191775595, 'q': 0.6959760586866759}. Best is trial 10 with value: 0.9320297697984312.\u001b[0m\n"
     ]
    },
    {
     "name": "stdout",
     "output_type": "stream",
     "text": [
      "auc: 0.9169\n",
      "node dim: 40,\tnum_walks: 5,\twalk_length: 15,\tp: 0.19,\tq: 0.85\tbuilding a node2vec model...\tnumber of walks: 41640\taverage walk length: 14.9853\ttraining time: 17.1770\n"
     ]
    },
    {
     "name": "stderr",
     "output_type": "stream",
     "text": [
      "\u001b[32m[I 2021-04-29 23:10:11,837]\u001b[0m Trial 30 finished with value: 0.851050048853442 and parameters: {'node_dim': 40, 'num_walks': 5, 'walk_length': 15, 'p': 0.19011600837731304, 'q': 0.8479018622802108}. Best is trial 10 with value: 0.9320297697984312.\u001b[0m\n"
     ]
    },
    {
     "name": "stdout",
     "output_type": "stream",
     "text": [
      "auc: 0.8511\n",
      "node dim: 10,\tnum_walks: 15,\twalk_length: 20,\tp: 0.23,\tq: 0.58\tbuilding a node2vec model...\tnumber of walks: 124920\taverage walk length: 19.9729\ttraining time: 58.1724\n"
     ]
    },
    {
     "name": "stderr",
     "output_type": "stream",
     "text": [
      "\u001b[32m[I 2021-04-29 23:11:48,474]\u001b[0m Trial 31 finished with value: 0.9315921761154372 and parameters: {'node_dim': 10, 'num_walks': 15, 'walk_length': 20, 'p': 0.22774609456216827, 'q': 0.5767801711114489}. Best is trial 10 with value: 0.9320297697984312.\u001b[0m\n"
     ]
    },
    {
     "name": "stdout",
     "output_type": "stream",
     "text": [
      "auc: 0.9316\n",
      "node dim: 10,\tnum_walks: 15,\twalk_length: 20,\tp: 0.31,\tq: 0.59\tbuilding a node2vec model...\tnumber of walks: 124920\taverage walk length: 19.9701\ttraining time: 56.8003\n"
     ]
    },
    {
     "name": "stderr",
     "output_type": "stream",
     "text": [
      "\u001b[32m[I 2021-04-29 23:13:23,126]\u001b[0m Trial 32 finished with value: 0.9302841326627498 and parameters: {'node_dim': 10, 'num_walks': 15, 'walk_length': 20, 'p': 0.3084136282764473, 'q': 0.5907226065663647}. Best is trial 10 with value: 0.9320297697984312.\u001b[0m\n"
     ]
    },
    {
     "name": "stdout",
     "output_type": "stream",
     "text": [
      "auc: 0.9303\n",
      "node dim: 10,\tnum_walks: 15,\twalk_length: 20,\tp: 0.05,\tq: 0.41\tbuilding a node2vec model...\tnumber of walks: 124920\taverage walk length: 19.9769\ttraining time: 59.4322\n"
     ]
    },
    {
     "name": "stderr",
     "output_type": "stream",
     "text": [
      "\u001b[32m[I 2021-04-29 23:15:14,049]\u001b[0m Trial 33 finished with value: 0.9293325729914764 and parameters: {'node_dim': 10, 'num_walks': 15, 'walk_length': 20, 'p': 0.047886824522729576, 'q': 0.4056250948808932}. Best is trial 10 with value: 0.9320297697984312.\u001b[0m\n"
     ]
    },
    {
     "name": "stdout",
     "output_type": "stream",
     "text": [
      "auc: 0.9293\n",
      "node dim: 10,\tnum_walks: 20,\twalk_length: 20,\tp: 0.16,\tq: 0.67\tbuilding a node2vec model...\tnumber of walks: 166560\taverage walk length: 19.9734\ttraining time: 79.1135\n"
     ]
    },
    {
     "name": "stderr",
     "output_type": "stream",
     "text": [
      "\u001b[32m[I 2021-04-29 23:17:11,227]\u001b[0m Trial 34 finished with value: 0.9296152666766293 and parameters: {'node_dim': 10, 'num_walks': 20, 'walk_length': 20, 'p': 0.15670732996323675, 'q': 0.6685935555081678}. Best is trial 10 with value: 0.9320297697984312.\u001b[0m\n"
     ]
    },
    {
     "name": "stdout",
     "output_type": "stream",
     "text": [
      "auc: 0.9296\n",
      "node dim: 10,\tnum_walks: 15,\twalk_length: 5,\tp: 0.39,\tq: 0.45\tbuilding a node2vec model...\tnumber of walks: 124920\taverage walk length: 4.9982\ttraining time: 25.2844\n"
     ]
    },
    {
     "name": "stderr",
     "output_type": "stream",
     "text": [
      "\u001b[32m[I 2021-04-29 23:18:14,117]\u001b[0m Trial 35 finished with value: 0.9180712227371298 and parameters: {'node_dim': 10, 'num_walks': 15, 'walk_length': 5, 'p': 0.3855024648458792, 'q': 0.446685519736576}. Best is trial 10 with value: 0.9320297697984312.\u001b[0m\n"
     ]
    },
    {
     "name": "stdout",
     "output_type": "stream",
     "text": [
      "auc: 0.9181\n",
      "node dim: 40,\tnum_walks: 15,\twalk_length: 20,\tp: 0.50,\tq: 0.33\tbuilding a node2vec model...\tnumber of walks: 124920\taverage walk length: 19.9607\ttraining time: 62.0210\n"
     ]
    },
    {
     "name": "stderr",
     "output_type": "stream",
     "text": [
      "\u001b[32m[I 2021-04-29 23:19:54,204]\u001b[0m Trial 36 finished with value: 0.8961535652198258 and parameters: {'node_dim': 40, 'num_walks': 15, 'walk_length': 20, 'p': 0.49929293490825094, 'q': 0.33249282500858857}. Best is trial 10 with value: 0.9320297697984312.\u001b[0m\n"
     ]
    },
    {
     "name": "stdout",
     "output_type": "stream",
     "text": [
      "auc: 0.8962\n",
      "node dim: 10,\tnum_walks: 15,\twalk_length: 20,\tp: 0.33,\tq: 0.64\tbuilding a node2vec model...\tnumber of walks: 124920\taverage walk length: 19.9719\ttraining time: 60.5267\n"
     ]
    },
    {
     "name": "stderr",
     "output_type": "stream",
     "text": [
      "\u001b[32m[I 2021-04-29 23:21:34,502]\u001b[0m Trial 37 finished with value: 0.9317504306068236 and parameters: {'node_dim': 10, 'num_walks': 15, 'walk_length': 20, 'p': 0.3288541380940245, 'q': 0.6387948407479135}. Best is trial 10 with value: 0.9320297697984312.\u001b[0m\n"
     ]
    },
    {
     "name": "stdout",
     "output_type": "stream",
     "text": [
      "auc: 0.9318\n",
      "node dim: 20,\tnum_walks: 10,\twalk_length: 20,\tp: 0.64,\tq: 0.66\tbuilding a node2vec model...\tnumber of walks: 83280\taverage walk length: 19.9672\ttraining time: 42.2925\n"
     ]
    },
    {
     "name": "stderr",
     "output_type": "stream",
     "text": [
      "\u001b[32m[I 2021-04-29 23:22:56,160]\u001b[0m Trial 38 finished with value: 0.9229531974351561 and parameters: {'node_dim': 20, 'num_walks': 10, 'walk_length': 20, 'p': 0.6431567547429281, 'q': 0.6621442823811736}. Best is trial 10 with value: 0.9320297697984312.\u001b[0m\n"
     ]
    },
    {
     "name": "stdout",
     "output_type": "stream",
     "text": [
      "auc: 0.9230\n",
      "node dim: 10,\tnum_walks: 20,\twalk_length: 10,\tp: 0.32,\tq: 0.75\tbuilding a node2vec model...\tnumber of walks: 166560\taverage walk length: 9.9918\ttraining time: 47.6436\n"
     ]
    },
    {
     "name": "stderr",
     "output_type": "stream",
     "text": [
      "\u001b[32m[I 2021-04-29 23:24:21,625]\u001b[0m Trial 39 finished with value: 0.9315189805656063 and parameters: {'node_dim': 10, 'num_walks': 20, 'walk_length': 10, 'p': 0.31886002129906166, 'q': 0.7486087832918221}. Best is trial 10 with value: 0.9320297697984312.\u001b[0m\n"
     ]
    },
    {
     "name": "stdout",
     "output_type": "stream",
     "text": [
      "auc: 0.9315\n",
      "node dim: 40,\tnum_walks: 15,\twalk_length: 20,\tp: 0.74,\tq: 0.95\tbuilding a node2vec model...\tnumber of walks: 124920\taverage walk length: 19.9700\ttraining time: 63.1297\n"
     ]
    },
    {
     "name": "stderr",
     "output_type": "stream",
     "text": [
      "\u001b[32m[I 2021-04-29 23:26:09,528]\u001b[0m Trial 40 finished with value: 0.8945223388442222 and parameters: {'node_dim': 40, 'num_walks': 15, 'walk_length': 20, 'p': 0.7383104481155254, 'q': 0.9487535221431294}. Best is trial 10 with value: 0.9320297697984312.\u001b[0m\n"
     ]
    },
    {
     "name": "stdout",
     "output_type": "stream",
     "text": [
      "auc: 0.8945\n",
      "node dim: 10,\tnum_walks: 15,\twalk_length: 20,\tp: 0.25,\tq: 0.57\tbuilding a node2vec model...\tnumber of walks: 124920\taverage walk length: 19.9732\ttraining time: 59.0931\n"
     ]
    },
    {
     "name": "stderr",
     "output_type": "stream",
     "text": [
      "\u001b[32m[I 2021-04-29 23:27:47,702]\u001b[0m Trial 41 finished with value: 0.930196047166943 and parameters: {'node_dim': 10, 'num_walks': 15, 'walk_length': 20, 'p': 0.24740166812765393, 'q': 0.5701364885928906}. Best is trial 10 with value: 0.9320297697984312.\u001b[0m\n"
     ]
    },
    {
     "name": "stdout",
     "output_type": "stream",
     "text": [
      "auc: 0.9302\n",
      "node dim: 10,\tnum_walks: 15,\twalk_length: 20,\tp: 0.11,\tq: 0.63\tbuilding a node2vec model...\tnumber of walks: 124920\taverage walk length: 19.9738\ttraining time: 56.7984\n"
     ]
    },
    {
     "name": "stderr",
     "output_type": "stream",
     "text": [
      "\u001b[32m[I 2021-04-29 23:29:22,697]\u001b[0m Trial 42 finished with value: 0.931100541291092 and parameters: {'node_dim': 10, 'num_walks': 15, 'walk_length': 20, 'p': 0.10733602087666075, 'q': 0.6320094142470295}. Best is trial 10 with value: 0.9320297697984312.\u001b[0m\n"
     ]
    },
    {
     "name": "stdout",
     "output_type": "stream",
     "text": [
      "auc: 0.9311\n",
      "node dim: 10,\tnum_walks: 15,\twalk_length: 20,\tp: 0.27,\tq: 0.50\tbuilding a node2vec model...\tnumber of walks: 124920\taverage walk length: 19.9717\ttraining time: 57.1183\n"
     ]
    },
    {
     "name": "stderr",
     "output_type": "stream",
     "text": [
      "\u001b[32m[I 2021-04-29 23:30:58,060]\u001b[0m Trial 43 finished with value: 0.9313436832443268 and parameters: {'node_dim': 10, 'num_walks': 15, 'walk_length': 20, 'p': 0.2692029478131496, 'q': 0.5035116929941666}. Best is trial 10 with value: 0.9320297697984312.\u001b[0m\n"
     ]
    },
    {
     "name": "stdout",
     "output_type": "stream",
     "text": [
      "auc: 0.9313\n",
      "node dim: 10,\tnum_walks: 15,\twalk_length: 20,\tp: 0.42,\tq: 0.70\tbuilding a node2vec model...\tnumber of walks: 124920\taverage walk length: 19.9731\ttraining time: 57.3717\n"
     ]
    },
    {
     "name": "stderr",
     "output_type": "stream",
     "text": [
      "\u001b[32m[I 2021-04-29 23:32:33,319]\u001b[0m Trial 44 finished with value: 0.9319104574724116 and parameters: {'node_dim': 10, 'num_walks': 15, 'walk_length': 20, 'p': 0.42309411684390774, 'q': 0.6993987536001179}. Best is trial 10 with value: 0.9320297697984312.\u001b[0m\n"
     ]
    },
    {
     "name": "stdout",
     "output_type": "stream",
     "text": [
      "auc: 0.9319\n",
      "node dim: 10,\tnum_walks: 10,\twalk_length: 5,\tp: 0.42,\tq: 0.80\tbuilding a node2vec model...\tnumber of walks: 83280\taverage walk length: 4.9982\ttraining time: 18.6603\n"
     ]
    },
    {
     "name": "stderr",
     "output_type": "stream",
     "text": [
      "\u001b[32m[I 2021-04-29 23:33:35,369]\u001b[0m Trial 45 finished with value: 0.9128978351740857 and parameters: {'node_dim': 10, 'num_walks': 10, 'walk_length': 5, 'p': 0.4220389733014294, 'q': 0.8000526821053241}. Best is trial 10 with value: 0.9320297697984312.\u001b[0m\n"
     ]
    },
    {
     "name": "stdout",
     "output_type": "stream",
     "text": [
      "auc: 0.9129\n",
      "node dim: 10,\tnum_walks: 5,\twalk_length: 20,\tp: 0.49,\tq: 0.71\tbuilding a node2vec model...\tnumber of walks: 41640\taverage walk length: 19.9727\ttraining time: 20.4785\n"
     ]
    },
    {
     "name": "stderr",
     "output_type": "stream",
     "text": [
      "\u001b[32m[I 2021-04-29 23:34:35,553]\u001b[0m Trial 46 finished with value: 0.9280657760409534 and parameters: {'node_dim': 10, 'num_walks': 5, 'walk_length': 20, 'p': 0.4913975694632913, 'q': 0.7089671463294129}. Best is trial 10 with value: 0.9320297697984312.\u001b[0m\n"
     ]
    },
    {
     "name": "stdout",
     "output_type": "stream",
     "text": [
      "auc: 0.9281\n",
      "node dim: 5,\tnum_walks: 15,\twalk_length: 15,\tp: 0.60,\tq: 0.84\tbuilding a node2vec model...\tnumber of walks: 124920\taverage walk length: 14.9823\ttraining time: 44.0917\n"
     ]
    },
    {
     "name": "stderr",
     "output_type": "stream",
     "text": [
      "\u001b[32m[I 2021-04-29 23:35:57,972]\u001b[0m Trial 47 finished with value: 0.9180721452228546 and parameters: {'node_dim': 5, 'num_walks': 15, 'walk_length': 15, 'p': 0.5970196619603689, 'q': 0.8397510018950691}. Best is trial 10 with value: 0.9320297697984312.\u001b[0m\n"
     ]
    },
    {
     "name": "stdout",
     "output_type": "stream",
     "text": [
      "auc: 0.9181\n",
      "node dim: 20,\tnum_walks: 15,\twalk_length: 20,\tp: 0.40,\tq: 0.77\tbuilding a node2vec model...\tnumber of walks: 124920\taverage walk length: 19.9735\ttraining time: 66.6551\n"
     ]
    },
    {
     "name": "stderr",
     "output_type": "stream",
     "text": [
      "\u001b[32m[I 2021-04-29 23:37:47,218]\u001b[0m Trial 48 finished with value: 0.924428259619456 and parameters: {'node_dim': 20, 'num_walks': 15, 'walk_length': 20, 'p': 0.4042423051917278, 'q': 0.7700974317665497}. Best is trial 10 with value: 0.9320297697984312.\u001b[0m\n"
     ]
    },
    {
     "name": "stdout",
     "output_type": "stream",
     "text": [
      "auc: 0.9244\n",
      "node dim: 10,\tnum_walks: 15,\twalk_length: 20,\tp: 0.36,\tq: 0.64\tbuilding a node2vec model...\tnumber of walks: 124920\taverage walk length: 19.9701\ttraining time: 60.1755\n"
     ]
    },
    {
     "name": "stderr",
     "output_type": "stream",
     "text": [
      "\u001b[32m[I 2021-04-29 23:39:28,418]\u001b[0m Trial 49 finished with value: 0.9299771777281977 and parameters: {'node_dim': 10, 'num_walks': 15, 'walk_length': 20, 'p': 0.35786043405025514, 'q': 0.6423470816081348}. Best is trial 10 with value: 0.9320297697984312.\u001b[0m\n"
     ]
    },
    {
     "name": "stdout",
     "output_type": "stream",
     "text": [
      "auc: 0.9300\n",
      "node dim: 10,\tnum_walks: 15,\twalk_length: 20,\tp: 0.54,\tq: 0.86\tbuilding a node2vec model...\tnumber of walks: 124920\taverage walk length: 19.9719\ttraining time: 60.4891\n"
     ]
    },
    {
     "name": "stderr",
     "output_type": "stream",
     "text": [
      "\u001b[32m[I 2021-04-29 23:41:11,541]\u001b[0m Trial 50 finished with value: 0.9313974339966846 and parameters: {'node_dim': 10, 'num_walks': 15, 'walk_length': 20, 'p': 0.5443141222050948, 'q': 0.8563146232364858}. Best is trial 10 with value: 0.9320297697984312.\u001b[0m\n"
     ]
    },
    {
     "name": "stdout",
     "output_type": "stream",
     "text": [
      "auc: 0.9314\n",
      "node dim: 10,\tnum_walks: 15,\twalk_length: 20,\tp: 0.33,\tq: 0.55\tbuilding a node2vec model...\tnumber of walks: 124920\taverage walk length: 19.9723\ttraining time: 57.8120\n"
     ]
    },
    {
     "name": "stderr",
     "output_type": "stream",
     "text": [
      "\u001b[32m[I 2021-04-29 23:42:48,963]\u001b[0m Trial 51 finished with value: 0.9298707539171172 and parameters: {'node_dim': 10, 'num_walks': 15, 'walk_length': 20, 'p': 0.3275111409942943, 'q': 0.5507552157821478}. Best is trial 10 with value: 0.9320297697984312.\u001b[0m\n"
     ]
    },
    {
     "name": "stdout",
     "output_type": "stream",
     "text": [
      "auc: 0.9299\n",
      "node dim: 10,\tnum_walks: 15,\twalk_length: 20,\tp: 0.45,\tq: 0.71\tbuilding a node2vec model...\tnumber of walks: 124920\taverage walk length: 19.9735\ttraining time: 60.8506\n"
     ]
    },
    {
     "name": "stderr",
     "output_type": "stream",
     "text": [
      "\u001b[32m[I 2021-04-29 23:44:28,752]\u001b[0m Trial 52 finished with value: 0.9310391928611892 and parameters: {'node_dim': 10, 'num_walks': 15, 'walk_length': 20, 'p': 0.4450306307247992, 'q': 0.7092161185280932}. Best is trial 10 with value: 0.9320297697984312.\u001b[0m\n"
     ]
    },
    {
     "name": "stdout",
     "output_type": "stream",
     "text": [
      "auc: 0.9310\n",
      "node dim: 10,\tnum_walks: 15,\twalk_length: 20,\tp: 0.19,\tq: 0.61\tbuilding a node2vec model...\tnumber of walks: 124920\taverage walk length: 19.9743\ttraining time: 60.7857\n"
     ]
    },
    {
     "name": "stderr",
     "output_type": "stream",
     "text": [
      "\u001b[32m[I 2021-04-29 23:46:10,555]\u001b[0m Trial 53 finished with value: 0.9298892449369478 and parameters: {'node_dim': 10, 'num_walks': 15, 'walk_length': 20, 'p': 0.19182387949618163, 'q': 0.6091386326449558}. Best is trial 10 with value: 0.9320297697984312.\u001b[0m\n"
     ]
    },
    {
     "name": "stdout",
     "output_type": "stream",
     "text": [
      "auc: 0.9299\n",
      "node dim: 10,\tnum_walks: 15,\twalk_length: 20,\tp: 0.23,\tq: 0.52\tbuilding a node2vec model...\tnumber of walks: 124920\taverage walk length: 19.9731\ttraining time: 57.1709\n"
     ]
    },
    {
     "name": "stderr",
     "output_type": "stream",
     "text": [
      "\u001b[32m[I 2021-04-29 23:47:46,074]\u001b[0m Trial 54 finished with value: 0.9302866785731494 and parameters: {'node_dim': 10, 'num_walks': 15, 'walk_length': 20, 'p': 0.2316757164939215, 'q': 0.515038616865639}. Best is trial 10 with value: 0.9320297697984312.\u001b[0m\n"
     ]
    },
    {
     "name": "stdout",
     "output_type": "stream",
     "text": [
      "auc: 0.9303\n",
      "node dim: 10,\tnum_walks: 15,\twalk_length: 20,\tp: 0.46,\tq: 0.74\tbuilding a node2vec model...\tnumber of walks: 124920\taverage walk length: 19.9717\ttraining time: 58.6300\n"
     ]
    },
    {
     "name": "stderr",
     "output_type": "stream",
     "text": [
      "\u001b[32m[I 2021-04-29 23:49:23,048]\u001b[0m Trial 55 finished with value: 0.9309806894924165 and parameters: {'node_dim': 10, 'num_walks': 15, 'walk_length': 20, 'p': 0.46152738859849307, 'q': 0.7406378869477319}. Best is trial 10 with value: 0.9320297697984312.\u001b[0m\n"
     ]
    },
    {
     "name": "stdout",
     "output_type": "stream",
     "text": [
      "auc: 0.9310\n",
      "node dim: 10,\tnum_walks: 15,\twalk_length: 20,\tp: 0.38,\tq: 0.68\tbuilding a node2vec model...\tnumber of walks: 124920\taverage walk length: 19.9710\ttraining time: 59.6613\n"
     ]
    },
    {
     "name": "stderr",
     "output_type": "stream",
     "text": [
      "\u001b[32m[I 2021-04-29 23:51:04,107]\u001b[0m Trial 56 finished with value: 0.9309606501485129 and parameters: {'node_dim': 10, 'num_walks': 15, 'walk_length': 20, 'p': 0.38483389044024663, 'q': 0.6817161487197956}. Best is trial 10 with value: 0.9320297697984312.\u001b[0m\n"
     ]
    },
    {
     "name": "stdout",
     "output_type": "stream",
     "text": [
      "auc: 0.9310\n",
      "node dim: 10,\tnum_walks: 10,\twalk_length: 10,\tp: 0.34,\tq: 0.58\tbuilding a node2vec model...\tnumber of walks: 83280\taverage walk length: 9.9922\ttraining time: 23.9168\n"
     ]
    },
    {
     "name": "stderr",
     "output_type": "stream",
     "text": [
      "\u001b[32m[I 2021-04-29 23:52:05,216]\u001b[0m Trial 57 finished with value: 0.9293140969917664 and parameters: {'node_dim': 10, 'num_walks': 10, 'walk_length': 10, 'p': 0.3403049931715527, 'q': 0.5845147189913099}. Best is trial 10 with value: 0.9320297697984312.\u001b[0m\n"
     ]
    },
    {
     "name": "stdout",
     "output_type": "stream",
     "text": [
      "auc: 0.9293\n",
      "node dim: 10,\tnum_walks: 5,\twalk_length: 20,\tp: 0.10,\tq: 0.46\tbuilding a node2vec model...\tnumber of walks: 41640\taverage walk length: 19.9767\ttraining time: 21.5150\n"
     ]
    },
    {
     "name": "stderr",
     "output_type": "stream",
     "text": [
      "\u001b[32m[I 2021-04-29 23:53:05,556]\u001b[0m Trial 58 finished with value: 0.9289278095365427 and parameters: {'node_dim': 10, 'num_walks': 5, 'walk_length': 20, 'p': 0.09983163825697183, 'q': 0.45842218747672}. Best is trial 10 with value: 0.9320297697984312.\u001b[0m\n"
     ]
    },
    {
     "name": "stdout",
     "output_type": "stream",
     "text": [
      "auc: 0.9289\n",
      "node dim: 5,\tnum_walks: 15,\twalk_length: 15,\tp: 0.28,\tq: 0.82\tbuilding a node2vec model...\tnumber of walks: 124920\taverage walk length: 14.9829\ttraining time: 45.6007\n"
     ]
    },
    {
     "name": "stderr",
     "output_type": "stream",
     "text": [
      "\u001b[32m[I 2021-04-29 23:54:29,947]\u001b[0m Trial 59 finished with value: 0.9194838375193874 and parameters: {'node_dim': 5, 'num_walks': 15, 'walk_length': 15, 'p': 0.2809751049623559, 'q': 0.8157010013947487}. Best is trial 10 with value: 0.9320297697984312.\u001b[0m\n"
     ]
    },
    {
     "name": "stdout",
     "output_type": "stream",
     "text": [
      "auc: 0.9195\n",
      "node dim: 10,\tnum_walks: 15,\twalk_length: 20,\tp: 0.53,\tq: 0.89\tbuilding a node2vec model...\tnumber of walks: 124920\taverage walk length: 19.9728\ttraining time: 58.1186\n"
     ]
    },
    {
     "name": "stderr",
     "output_type": "stream",
     "text": [
      "\u001b[32m[I 2021-04-29 23:56:06,225]\u001b[0m Trial 60 finished with value: 0.9314975055485326 and parameters: {'node_dim': 10, 'num_walks': 15, 'walk_length': 20, 'p': 0.5303651399524149, 'q': 0.8852428570101687}. Best is trial 10 with value: 0.9320297697984312.\u001b[0m\n"
     ]
    },
    {
     "name": "stdout",
     "output_type": "stream",
     "text": [
      "auc: 0.9315\n",
      "node dim: 10,\tnum_walks: 20,\twalk_length: 10,\tp: 0.29,\tq: 0.95\tbuilding a node2vec model...\tnumber of walks: 166560\taverage walk length: 9.9918\ttraining time: 50.3352\n"
     ]
    },
    {
     "name": "stderr",
     "output_type": "stream",
     "text": [
      "\u001b[32m[I 2021-04-29 23:57:38,181]\u001b[0m Trial 61 finished with value: 0.9310949825948849 and parameters: {'node_dim': 10, 'num_walks': 20, 'walk_length': 10, 'p': 0.2935162949104562, 'q': 0.951628269384431}. Best is trial 10 with value: 0.9320297697984312.\u001b[0m\n"
     ]
    },
    {
     "name": "stdout",
     "output_type": "stream",
     "text": [
      "auc: 0.9311\n",
      "node dim: 10,\tnum_walks: 20,\twalk_length: 10,\tp: 0.42,\tq: 0.75\tbuilding a node2vec model...\tnumber of walks: 166560\taverage walk length: 9.9919\ttraining time: 47.7560\n"
     ]
    },
    {
     "name": "stderr",
     "output_type": "stream",
     "text": [
      "\u001b[32m[I 2021-04-29 23:59:04,575]\u001b[0m Trial 62 finished with value: 0.9311891725179381 and parameters: {'node_dim': 10, 'num_walks': 20, 'walk_length': 10, 'p': 0.42091182065851485, 'q': 0.7515205703656683}. Best is trial 10 with value: 0.9320297697984312.\u001b[0m\n"
     ]
    },
    {
     "name": "stdout",
     "output_type": "stream",
     "text": [
      "auc: 0.9312\n",
      "node dim: 10,\tnum_walks: 20,\twalk_length: 10,\tp: 0.21,\tq: 0.78\tbuilding a node2vec model...\tnumber of walks: 166560\taverage walk length: 9.9922\ttraining time: 49.9227\n"
     ]
    },
    {
     "name": "stderr",
     "output_type": "stream",
     "text": [
      "\u001b[32m[I 2021-04-30 00:00:39,015]\u001b[0m Trial 63 finished with value: 0.9312591750405173 and parameters: {'node_dim': 10, 'num_walks': 20, 'walk_length': 10, 'p': 0.21242538385783097, 'q': 0.7793063467903879}. Best is trial 10 with value: 0.9320297697984312.\u001b[0m\n"
     ]
    },
    {
     "name": "stdout",
     "output_type": "stream",
     "text": [
      "auc: 0.9313\n",
      "node dim: 10,\tnum_walks: 20,\twalk_length: 10,\tp: 0.32,\tq: 0.72\tbuilding a node2vec model...\tnumber of walks: 166560\taverage walk length: 9.9916\ttraining time: 56.2505\n"
     ]
    },
    {
     "name": "stderr",
     "output_type": "stream",
     "text": [
      "\u001b[32m[I 2021-04-30 00:02:13,392]\u001b[0m Trial 64 finished with value: 0.9313426681345263 and parameters: {'node_dim': 10, 'num_walks': 20, 'walk_length': 10, 'p': 0.317192249029669, 'q': 0.7190264561854721}. Best is trial 10 with value: 0.9320297697984312.\u001b[0m\n"
     ]
    },
    {
     "name": "stdout",
     "output_type": "stream",
     "text": [
      "auc: 0.9313\n",
      "node dim: 10,\tnum_walks: 20,\twalk_length: 10,\tp: 0.35,\tq: 0.63\tbuilding a node2vec model...\tnumber of walks: 166560\taverage walk length: 9.9916\ttraining time: 48.5190\n"
     ]
    },
    {
     "name": "stderr",
     "output_type": "stream",
     "text": [
      "\u001b[32m[I 2021-04-30 00:03:40,132]\u001b[0m Trial 65 finished with value: 0.9298816059540718 and parameters: {'node_dim': 10, 'num_walks': 20, 'walk_length': 10, 'p': 0.3477208148843739, 'q': 0.6312705793450524}. Best is trial 10 with value: 0.9320297697984312.\u001b[0m\n"
     ]
    },
    {
     "name": "stdout",
     "output_type": "stream",
     "text": [
      "auc: 0.9299\n",
      "node dim: 10,\tnum_walks: 20,\twalk_length: 20,\tp: 0.14,\tq: 0.54\tbuilding a node2vec model...\tnumber of walks: 166560\taverage walk length: 19.9748\ttraining time: 75.9704\n"
     ]
    },
    {
     "name": "stderr",
     "output_type": "stream",
     "text": [
      "\u001b[32m[I 2021-04-30 00:05:35,010]\u001b[0m Trial 66 finished with value: 0.9296660960155787 and parameters: {'node_dim': 10, 'num_walks': 20, 'walk_length': 20, 'p': 0.1397709079229398, 'q': 0.5365711945472923}. Best is trial 10 with value: 0.9320297697984312.\u001b[0m\n"
     ]
    },
    {
     "name": "stdout",
     "output_type": "stream",
     "text": [
      "auc: 0.9297\n",
      "node dim: 40,\tnum_walks: 15,\twalk_length: 5,\tp: 0.48,\tq: 0.66\tbuilding a node2vec model...\tnumber of walks: 124920\taverage walk length: 4.9982\ttraining time: 27.5646\n"
     ]
    },
    {
     "name": "stderr",
     "output_type": "stream",
     "text": [
      "\u001b[32m[I 2021-04-30 00:06:46,239]\u001b[0m Trial 67 finished with value: 0.8298816274829109 and parameters: {'node_dim': 40, 'num_walks': 15, 'walk_length': 5, 'p': 0.4812931752202733, 'q': 0.6602889652075714}. Best is trial 10 with value: 0.9320297697984312.\u001b[0m\n"
     ]
    },
    {
     "name": "stdout",
     "output_type": "stream",
     "text": [
      "auc: 0.8299\n",
      "node dim: 20,\tnum_walks: 15,\twalk_length: 20,\tp: 0.38,\tq: 0.91\tbuilding a node2vec model...\tnumber of walks: 124920\taverage walk length: 19.9753\ttraining time: 63.2938\n"
     ]
    },
    {
     "name": "stderr",
     "output_type": "stream",
     "text": [
      "\u001b[32m[I 2021-04-30 00:08:28,251]\u001b[0m Trial 68 finished with value: 0.9226648486746907 and parameters: {'node_dim': 20, 'num_walks': 15, 'walk_length': 20, 'p': 0.3833361870646513, 'q': 0.9149995610414503}. Best is trial 10 with value: 0.9320297697984312.\u001b[0m\n"
     ]
    },
    {
     "name": "stdout",
     "output_type": "stream",
     "text": [
      "auc: 0.9227\n",
      "node dim: 10,\tnum_walks: 15,\twalk_length: 10,\tp: 0.43,\tq: 0.81\tbuilding a node2vec model...\tnumber of walks: 124920\taverage walk length: 9.9921\ttraining time: 39.3072\n"
     ]
    },
    {
     "name": "stderr",
     "output_type": "stream",
     "text": [
      "\u001b[32m[I 2021-04-30 00:09:50,340]\u001b[0m Trial 69 finished with value: 0.9311402807745143 and parameters: {'node_dim': 10, 'num_walks': 15, 'walk_length': 10, 'p': 0.4349372338888095, 'q': 0.8147675183960691}. Best is trial 10 with value: 0.9320297697984312.\u001b[0m\n"
     ]
    },
    {
     "name": "stdout",
     "output_type": "stream",
     "text": [
      "auc: 0.9311\n",
      "node dim: 10,\tnum_walks: 15,\twalk_length: 20,\tp: 0.26,\tq: 0.74\tbuilding a node2vec model...\tnumber of walks: 124920\taverage walk length: 19.9719\ttraining time: 57.8981\n"
     ]
    },
    {
     "name": "stderr",
     "output_type": "stream",
     "text": [
      "\u001b[32m[I 2021-04-30 00:11:27,591]\u001b[0m Trial 70 finished with value: 0.930444665205723 and parameters: {'node_dim': 10, 'num_walks': 15, 'walk_length': 20, 'p': 0.26302399664959486, 'q': 0.7383651965947076}. Best is trial 10 with value: 0.9320297697984312.\u001b[0m\n"
     ]
    },
    {
     "name": "stdout",
     "output_type": "stream",
     "text": [
      "auc: 0.9304\n",
      "node dim: 10,\tnum_walks: 15,\twalk_length: 20,\tp: 0.52,\tq: 0.89\tbuilding a node2vec model...\tnumber of walks: 124920\taverage walk length: 19.9739\ttraining time: 61.2143\n"
     ]
    },
    {
     "name": "stderr",
     "output_type": "stream",
     "text": [
      "\u001b[32m[I 2021-04-30 00:13:13,544]\u001b[0m Trial 71 finished with value: 0.931532558754405 and parameters: {'node_dim': 10, 'num_walks': 15, 'walk_length': 20, 'p': 0.5240044144671747, 'q': 0.8900728845749969}. Best is trial 10 with value: 0.9320297697984312.\u001b[0m\n"
     ]
    },
    {
     "name": "stdout",
     "output_type": "stream",
     "text": [
      "auc: 0.9315\n",
      "node dim: 10,\tnum_walks: 15,\twalk_length: 20,\tp: 0.61,\tq: 0.99\tbuilding a node2vec model...\tnumber of walks: 124920\taverage walk length: 19.9716\ttraining time: 69.3306\n"
     ]
    },
    {
     "name": "stderr",
     "output_type": "stream",
     "text": [
      "\u001b[32m[I 2021-04-30 00:15:02,514]\u001b[0m Trial 72 finished with value: 0.9315000301804286 and parameters: {'node_dim': 10, 'num_walks': 15, 'walk_length': 20, 'p': 0.6062264551696266, 'q': 0.9895808972889111}. Best is trial 10 with value: 0.9320297697984312.\u001b[0m\n"
     ]
    },
    {
     "name": "stdout",
     "output_type": "stream",
     "text": [
      "auc: 0.9315\n",
      "node dim: 10,\tnum_walks: 15,\twalk_length: 20,\tp: 0.51,\tq: 0.87\tbuilding a node2vec model...\tnumber of walks: 124920\taverage walk length: 19.9735\ttraining time: 73.5042\n"
     ]
    },
    {
     "name": "stderr",
     "output_type": "stream",
     "text": [
      "\u001b[32m[I 2021-04-30 00:17:09,030]\u001b[0m Trial 73 finished with value: 0.9309603034340681 and parameters: {'node_dim': 10, 'num_walks': 15, 'walk_length': 20, 'p': 0.5118093139205272, 'q': 0.8729780161929974}. Best is trial 10 with value: 0.9320297697984312.\u001b[0m\n"
     ]
    },
    {
     "name": "stdout",
     "output_type": "stream",
     "text": [
      "auc: 0.9310\n",
      "node dim: 10,\tnum_walks: 15,\twalk_length: 20,\tp: 0.57,\tq: 0.78\tbuilding a node2vec model...\tnumber of walks: 124920\taverage walk length: 19.9729\ttraining time: 58.1115\n"
     ]
    },
    {
     "name": "stderr",
     "output_type": "stream",
     "text": [
      "\u001b[32m[I 2021-04-30 00:18:47,448]\u001b[0m Trial 74 finished with value: 0.931653895041642 and parameters: {'node_dim': 10, 'num_walks': 15, 'walk_length': 20, 'p': 0.5696735624066065, 'q': 0.7809835994735388}. Best is trial 10 with value: 0.9320297697984312.\u001b[0m\n"
     ]
    },
    {
     "name": "stdout",
     "output_type": "stream",
     "text": [
      "auc: 0.9317\n",
      "node dim: 10,\tnum_walks: 15,\twalk_length: 20,\tp: 0.71,\tq: 0.92\tbuilding a node2vec model...\tnumber of walks: 124920\taverage walk length: 19.9720\ttraining time: 74.8328\n"
     ]
    },
    {
     "name": "stderr",
     "output_type": "stream",
     "text": [
      "\u001b[32m[I 2021-04-30 00:20:41,407]\u001b[0m Trial 75 finished with value: 0.9307168485616593 and parameters: {'node_dim': 10, 'num_walks': 15, 'walk_length': 20, 'p': 0.7131796554969618, 'q': 0.9167857218615949}. Best is trial 10 with value: 0.9320297697984312.\u001b[0m\n"
     ]
    },
    {
     "name": "stdout",
     "output_type": "stream",
     "text": [
      "auc: 0.9307\n",
      "node dim: 10,\tnum_walks: 15,\twalk_length: 20,\tp: 0.57,\tq: 0.78\tbuilding a node2vec model...\tnumber of walks: 124920\taverage walk length: 19.9704\ttraining time: 71.4274\n"
     ]
    },
    {
     "name": "stderr",
     "output_type": "stream",
     "text": [
      "\u001b[32m[I 2021-04-30 00:22:41,040]\u001b[0m Trial 76 finished with value: 0.9310042548095727 and parameters: {'node_dim': 10, 'num_walks': 15, 'walk_length': 20, 'p': 0.5658592892121628, 'q': 0.7836271804875068}. Best is trial 10 with value: 0.9320297697984312.\u001b[0m\n"
     ]
    },
    {
     "name": "stdout",
     "output_type": "stream",
     "text": [
      "auc: 0.9310\n",
      "node dim: 10,\tnum_walks: 15,\twalk_length: 20,\tp: 0.67,\tq: 0.83\tbuilding a node2vec model...\tnumber of walks: 124920\taverage walk length: 19.9730\ttraining time: 85.6884\n"
     ]
    },
    {
     "name": "stderr",
     "output_type": "stream",
     "text": [
      "\u001b[32m[I 2021-04-30 00:25:04,807]\u001b[0m Trial 77 finished with value: 0.9312442187556763 and parameters: {'node_dim': 10, 'num_walks': 15, 'walk_length': 20, 'p': 0.6712867552303455, 'q': 0.827367972742093}. Best is trial 10 with value: 0.9320297697984312.\u001b[0m\n"
     ]
    },
    {
     "name": "stdout",
     "output_type": "stream",
     "text": [
      "auc: 0.9312\n",
      "node dim: 5,\tnum_walks: 15,\twalk_length: 20,\tp: 0.47,\tq: 0.60\tbuilding a node2vec model...\tnumber of walks: 124920\taverage walk length: 19.9710\ttraining time: 57.2156\n"
     ]
    },
    {
     "name": "stderr",
     "output_type": "stream",
     "text": [
      "\u001b[32m[I 2021-04-30 00:26:50,188]\u001b[0m Trial 78 finished with value: 0.9161362319508721 and parameters: {'node_dim': 5, 'num_walks': 15, 'walk_length': 20, 'p': 0.4711110445039778, 'q': 0.6033512101253299}. Best is trial 10 with value: 0.9320297697984312.\u001b[0m\n"
     ]
    },
    {
     "name": "stdout",
     "output_type": "stream",
     "text": [
      "auc: 0.9161\n",
      "node dim: 10,\tnum_walks: 15,\twalk_length: 20,\tp: 0.53,\tq: 0.69\tbuilding a node2vec model...\tnumber of walks: 124920\taverage walk length: 19.9699\ttraining time: 60.2459\n"
     ]
    },
    {
     "name": "stderr",
     "output_type": "stream",
     "text": [
      "\u001b[32m[I 2021-04-30 00:28:35,790]\u001b[0m Trial 79 finished with value: 0.9317792554694566 and parameters: {'node_dim': 10, 'num_walks': 15, 'walk_length': 20, 'p': 0.5309505280617876, 'q': 0.6904458883307629}. Best is trial 10 with value: 0.9320297697984312.\u001b[0m\n"
     ]
    },
    {
     "name": "stdout",
     "output_type": "stream",
     "text": [
      "auc: 0.9318\n",
      "node dim: 10,\tnum_walks: 15,\twalk_length: 20,\tp: 0.36,\tq: 0.68\tbuilding a node2vec model...\tnumber of walks: 124920\taverage walk length: 19.9742\ttraining time: 57.8839\n"
     ]
    },
    {
     "name": "stderr",
     "output_type": "stream",
     "text": [
      "\u001b[32m[I 2021-04-30 00:30:11,719]\u001b[0m Trial 80 finished with value: 0.931198010607089 and parameters: {'node_dim': 10, 'num_walks': 15, 'walk_length': 20, 'p': 0.36495851662468964, 'q': 0.6815061403119953}. Best is trial 10 with value: 0.9320297697984312.\u001b[0m\n"
     ]
    },
    {
     "name": "stdout",
     "output_type": "stream",
     "text": [
      "auc: 0.9312\n",
      "node dim: 10,\tnum_walks: 15,\twalk_length: 20,\tp: 0.61,\tq: 0.79\tbuilding a node2vec model...\tnumber of walks: 124920\taverage walk length: 19.9686\ttraining time: 60.7631\n"
     ]
    },
    {
     "name": "stderr",
     "output_type": "stream",
     "text": [
      "\u001b[32m[I 2021-04-30 00:31:59,246]\u001b[0m Trial 81 finished with value: 0.9305675961290707 and parameters: {'node_dim': 10, 'num_walks': 15, 'walk_length': 20, 'p': 0.6091813494999713, 'q': 0.7917905389752722}. Best is trial 10 with value: 0.9320297697984312.\u001b[0m\n"
     ]
    },
    {
     "name": "stdout",
     "output_type": "stream",
     "text": [
      "auc: 0.9306\n",
      "node dim: 10,\tnum_walks: 15,\twalk_length: 20,\tp: 0.52,\tq: 0.57\tbuilding a node2vec model...\tnumber of walks: 124920\taverage walk length: 19.9694\ttraining time: 61.7435\n"
     ]
    },
    {
     "name": "stderr",
     "output_type": "stream",
     "text": [
      "\u001b[32m[I 2021-04-30 00:33:44,762]\u001b[0m Trial 82 finished with value: 0.9315515279147335 and parameters: {'node_dim': 10, 'num_walks': 15, 'walk_length': 20, 'p': 0.5153322272377145, 'q': 0.5730027531530605}. Best is trial 10 with value: 0.9320297697984312.\u001b[0m\n"
     ]
    },
    {
     "name": "stdout",
     "output_type": "stream",
     "text": [
      "auc: 0.9316\n",
      "node dim: 10,\tnum_walks: 15,\twalk_length: 20,\tp: 0.45,\tq: 0.56\tbuilding a node2vec model...\tnumber of walks: 124920\taverage walk length: 19.9677\ttraining time: 57.9147\n"
     ]
    },
    {
     "name": "stderr",
     "output_type": "stream",
     "text": [
      "\u001b[32m[I 2021-04-30 00:35:21,273]\u001b[0m Trial 83 finished with value: 0.9301043092785373 and parameters: {'node_dim': 10, 'num_walks': 15, 'walk_length': 20, 'p': 0.45247553509436034, 'q': 0.5606548252542521}. Best is trial 10 with value: 0.9320297697984312.\u001b[0m\n"
     ]
    },
    {
     "name": "stdout",
     "output_type": "stream",
     "text": [
      "auc: 0.9301\n",
      "node dim: 10,\tnum_walks: 15,\twalk_length: 20,\tp: 0.57,\tq: 0.49\tbuilding a node2vec model...\tnumber of walks: 124920\taverage walk length: 19.9654\ttraining time: 60.8716\n"
     ]
    },
    {
     "name": "stderr",
     "output_type": "stream",
     "text": [
      "\u001b[32m[I 2021-04-30 00:37:02,772]\u001b[0m Trial 84 finished with value: 0.9312188885743786 and parameters: {'node_dim': 10, 'num_walks': 15, 'walk_length': 20, 'p': 0.5730990263965873, 'q': 0.49430154469313714}. Best is trial 10 with value: 0.9320297697984312.\u001b[0m\n"
     ]
    },
    {
     "name": "stdout",
     "output_type": "stream",
     "text": [
      "auc: 0.9312\n",
      "node dim: 10,\tnum_walks: 15,\twalk_length: 20,\tp: 0.40,\tq: 0.42\tbuilding a node2vec model...\tnumber of walks: 124920\taverage walk length: 19.9658\ttraining time: 57.7278\n"
     ]
    },
    {
     "name": "stderr",
     "output_type": "stream",
     "text": [
      "\u001b[32m[I 2021-04-30 00:38:38,354]\u001b[0m Trial 85 finished with value: 0.9310883774969597 and parameters: {'node_dim': 10, 'num_walks': 15, 'walk_length': 20, 'p': 0.40112752286541337, 'q': 0.4205356374096764}. Best is trial 10 with value: 0.9320297697984312.\u001b[0m\n"
     ]
    },
    {
     "name": "stdout",
     "output_type": "stream",
     "text": [
      "auc: 0.9311\n",
      "node dim: 40,\tnum_walks: 15,\twalk_length: 20,\tp: 0.50,\tq: 0.64\tbuilding a node2vec model...\tnumber of walks: 124920\taverage walk length: 19.9717\ttraining time: 62.4161\n"
     ]
    },
    {
     "name": "stderr",
     "output_type": "stream",
     "text": [
      "\u001b[32m[I 2021-04-30 00:40:18,389]\u001b[0m Trial 86 finished with value: 0.8976127686603868 and parameters: {'node_dim': 40, 'num_walks': 15, 'walk_length': 20, 'p': 0.49650531565780465, 'q': 0.6421499711936072}. Best is trial 10 with value: 0.9320297697984312.\u001b[0m\n"
     ]
    },
    {
     "name": "stdout",
     "output_type": "stream",
     "text": [
      "auc: 0.8976\n",
      "node dim: 10,\tnum_walks: 5,\twalk_length: 20,\tp: 0.55,\tq: 0.58\tbuilding a node2vec model...\tnumber of walks: 41640\taverage walk length: 19.9713\ttraining time: 20.6109\n"
     ]
    },
    {
     "name": "stderr",
     "output_type": "stream",
     "text": [
      "\u001b[32m[I 2021-04-30 00:41:19,072]\u001b[0m Trial 87 finished with value: 0.9288023014108779 and parameters: {'node_dim': 10, 'num_walks': 5, 'walk_length': 20, 'p': 0.5525877791145768, 'q': 0.5781802433356515}. Best is trial 10 with value: 0.9320297697984312.\u001b[0m\n"
     ]
    },
    {
     "name": "stdout",
     "output_type": "stream",
     "text": [
      "auc: 0.9288\n",
      "node dim: 10,\tnum_walks: 10,\twalk_length: 20,\tp: 0.43,\tq: 0.48\tbuilding a node2vec model...\tnumber of walks: 83280\taverage walk length: 19.9665\ttraining time: 42.3276\n"
     ]
    },
    {
     "name": "stderr",
     "output_type": "stream",
     "text": [
      "\u001b[32m[I 2021-04-30 00:42:44,278]\u001b[0m Trial 88 finished with value: 0.9315169378292385 and parameters: {'node_dim': 10, 'num_walks': 10, 'walk_length': 20, 'p': 0.4314404254456809, 'q': 0.482101428654057}. Best is trial 10 with value: 0.9320297697984312.\u001b[0m\n"
     ]
    },
    {
     "name": "stdout",
     "output_type": "stream",
     "text": [
      "auc: 0.9315\n",
      "node dim: 20,\tnum_walks: 15,\twalk_length: 15,\tp: 0.63,\tq: 0.53\tbuilding a node2vec model...\tnumber of walks: 124920\taverage walk length: 14.9805\ttraining time: 59.4324\n"
     ]
    },
    {
     "name": "stderr",
     "output_type": "stream",
     "text": [
      "\u001b[32m[I 2021-04-30 00:44:28,028]\u001b[0m Trial 89 finished with value: 0.9219050133296559 and parameters: {'node_dim': 20, 'num_walks': 15, 'walk_length': 15, 'p': 0.6257793746348995, 'q': 0.5299956090478466}. Best is trial 10 with value: 0.9320297697984312.\u001b[0m\n"
     ]
    },
    {
     "name": "stdout",
     "output_type": "stream",
     "text": [
      "auc: 0.9219\n",
      "node dim: 10,\tnum_walks: 15,\twalk_length: 20,\tp: 0.48,\tq: 0.02\tbuilding a node2vec model...\tnumber of walks: 124920\taverage walk length: 19.8895\ttraining time: 63.0442\n"
     ]
    },
    {
     "name": "stderr",
     "output_type": "stream",
     "text": [
      "\u001b[32m[I 2021-04-30 00:46:13,948]\u001b[0m Trial 90 finished with value: 0.930818942823048 and parameters: {'node_dim': 10, 'num_walks': 15, 'walk_length': 20, 'p': 0.4750055827311166, 'q': 0.015006097166577248}. Best is trial 10 with value: 0.9320297697984312.\u001b[0m\n"
     ]
    },
    {
     "name": "stdout",
     "output_type": "stream",
     "text": [
      "auc: 0.9308\n",
      "node dim: 10,\tnum_walks: 15,\twalk_length: 20,\tp: 0.53,\tq: 0.62\tbuilding a node2vec model...\tnumber of walks: 124920\taverage walk length: 19.9689\ttraining time: 66.8047\n"
     ]
    },
    {
     "name": "stderr",
     "output_type": "stream",
     "text": [
      "\u001b[32m[I 2021-04-30 00:48:10,165]\u001b[0m Trial 91 finished with value: 0.9308219919074796 and parameters: {'node_dim': 10, 'num_walks': 15, 'walk_length': 20, 'p': 0.52572072232613, 'q': 0.6156208065412245}. Best is trial 10 with value: 0.9320297697984312.\u001b[0m\n"
     ]
    },
    {
     "name": "stdout",
     "output_type": "stream",
     "text": [
      "auc: 0.9308\n",
      "node dim: 10,\tnum_walks: 15,\twalk_length: 20,\tp: 0.52,\tq: 0.86\tbuilding a node2vec model...\tnumber of walks: 124920\taverage walk length: 19.9733\ttraining time: 65.0188\n"
     ]
    },
    {
     "name": "stderr",
     "output_type": "stream",
     "text": [
      "\u001b[32m[I 2021-04-30 00:49:53,989]\u001b[0m Trial 92 finished with value: 0.9314259046348126 and parameters: {'node_dim': 10, 'num_walks': 15, 'walk_length': 20, 'p': 0.520562860851444, 'q': 0.8631898813710288}. Best is trial 10 with value: 0.9320297697984312.\u001b[0m\n"
     ]
    },
    {
     "name": "stdout",
     "output_type": "stream",
     "text": [
      "auc: 0.9314\n",
      "node dim: 10,\tnum_walks: 15,\twalk_length: 20,\tp: 0.54,\tq: 0.84\tbuilding a node2vec model...\tnumber of walks: 124920\taverage walk length: 19.9698\ttraining time: 59.4657\n"
     ]
    },
    {
     "name": "stderr",
     "output_type": "stream",
     "text": [
      "\u001b[32m[I 2021-04-30 00:51:45,144]\u001b[0m Trial 93 finished with value: 0.9319456921714051 and parameters: {'node_dim': 10, 'num_walks': 15, 'walk_length': 20, 'p': 0.5419066524139822, 'q': 0.8415776229035847}. Best is trial 10 with value: 0.9320297697984312.\u001b[0m\n"
     ]
    },
    {
     "name": "stdout",
     "output_type": "stream",
     "text": [
      "auc: 0.9319\n",
      "node dim: 10,\tnum_walks: 15,\twalk_length: 20,\tp: 0.58,\tq: 0.76\tbuilding a node2vec model...\tnumber of walks: 124920\taverage walk length: 19.9738\ttraining time: 63.2284\n"
     ]
    },
    {
     "name": "stderr",
     "output_type": "stream",
     "text": [
      "\u001b[32m[I 2021-04-30 00:53:29,295]\u001b[0m Trial 94 finished with value: 0.9317508624352838 and parameters: {'node_dim': 10, 'num_walks': 15, 'walk_length': 20, 'p': 0.5772171150853607, 'q': 0.7619835782759818}. Best is trial 10 with value: 0.9320297697984312.\u001b[0m\n"
     ]
    },
    {
     "name": "stdout",
     "output_type": "stream",
     "text": [
      "auc: 0.9318\n",
      "node dim: 10,\tnum_walks: 15,\twalk_length: 20,\tp: 0.59,\tq: 0.76\tbuilding a node2vec model...\tnumber of walks: 124920\taverage walk length: 19.9718\ttraining time: 65.4847\n"
     ]
    },
    {
     "name": "stderr",
     "output_type": "stream",
     "text": [
      "\u001b[32m[I 2021-04-30 00:55:25,742]\u001b[0m Trial 95 finished with value: 0.9314532763008015 and parameters: {'node_dim': 10, 'num_walks': 15, 'walk_length': 20, 'p': 0.5870635656522183, 'q': 0.758844998603033}. Best is trial 10 with value: 0.9320297697984312.\u001b[0m\n"
     ]
    },
    {
     "name": "stdout",
     "output_type": "stream",
     "text": [
      "auc: 0.9315\n",
      "node dim: 10,\tnum_walks: 15,\twalk_length: 5,\tp: 0.54,\tq: 0.70\tbuilding a node2vec model...\tnumber of walks: 124920\taverage walk length: 4.9983\ttraining time: 29.3194\n"
     ]
    },
    {
     "name": "stderr",
     "output_type": "stream",
     "text": [
      "\u001b[32m[I 2021-04-30 00:56:39,076]\u001b[0m Trial 96 finished with value: 0.9200767154649683 and parameters: {'node_dim': 10, 'num_walks': 15, 'walk_length': 5, 'p': 0.5426577788695391, 'q': 0.698851919104613}. Best is trial 10 with value: 0.9320297697984312.\u001b[0m\n"
     ]
    },
    {
     "name": "stdout",
     "output_type": "stream",
     "text": [
      "auc: 0.9201\n",
      "node dim: 10,\tnum_walks: 15,\twalk_length: 20,\tp: 0.66,\tq: 0.73\tbuilding a node2vec model...\tnumber of walks: 124920\taverage walk length: 19.9675\ttraining time: 66.2687\n"
     ]
    },
    {
     "name": "stderr",
     "output_type": "stream",
     "text": [
      "\u001b[32m[I 2021-04-30 00:58:38,794]\u001b[0m Trial 97 finished with value: 0.9321371148435598 and parameters: {'node_dim': 10, 'num_walks': 15, 'walk_length': 20, 'p': 0.6571491716239801, 'q': 0.7278198960779393}. Best is trial 97 with value: 0.9321371148435598.\u001b[0m\n"
     ]
    },
    {
     "name": "stdout",
     "output_type": "stream",
     "text": [
      "auc: 0.9321\n",
      "node dim: 10,\tnum_walks: 15,\twalk_length: 20,\tp: 0.67,\tq: 0.73\tbuilding a node2vec model...\tnumber of walks: 124920\taverage walk length: 19.9678\ttraining time: 63.7741\n"
     ]
    },
    {
     "name": "stderr",
     "output_type": "stream",
     "text": [
      "\u001b[32m[I 2021-04-30 01:00:25,029]\u001b[0m Trial 98 finished with value: 0.9308650408240864 and parameters: {'node_dim': 10, 'num_walks': 15, 'walk_length': 20, 'p': 0.6683025403009808, 'q': 0.7317842246491725}. Best is trial 97 with value: 0.9321371148435598.\u001b[0m\n"
     ]
    },
    {
     "name": "stdout",
     "output_type": "stream",
     "text": [
      "auc: 0.9309\n",
      "node dim: 10,\tnum_walks: 15,\twalk_length: 20,\tp: 0.65,\tq: 0.84\tbuilding a node2vec model...\tnumber of walks: 124920\taverage walk length: 19.9686\ttraining time: 65.0014\n"
     ]
    },
    {
     "name": "stderr",
     "output_type": "stream",
     "text": [
      "\u001b[32m[I 2021-04-30 01:02:16,100]\u001b[0m Trial 99 finished with value: 0.9312063405155009 and parameters: {'node_dim': 10, 'num_walks': 15, 'walk_length': 20, 'p': 0.6525769694868939, 'q': 0.8428208632704561}. Best is trial 97 with value: 0.9321371148435598.\u001b[0m\n"
     ]
    },
    {
     "name": "stdout",
     "output_type": "stream",
     "text": [
      "auc: 0.9312\n"
     ]
    },
    {
     "data": {
      "text/plain": [
       "{'node_dim': 10,\n",
       " 'num_walks': 15,\n",
       " 'walk_length': 20,\n",
       " 'p': 0.6571491716239801,\n",
       " 'q': 0.7278198960779393}"
      ]
     },
     "execution_count": 23,
     "metadata": {},
     "output_type": "execute_result"
    }
   ],
   "source": [
    "def objective_node2vec(trial,graph,alias_nodes,alias_edges):\n",
    "    np.random.seed(0)\n",
    "    \n",
    "    node_dim = trial.suggest_categorical(\"node_dim\",[5,10,20,40])\n",
    "    num_walks = trial.suggest_categorical(\"num_walks\",[5,10,15,20])\n",
    "    walk_length = trial.suggest_categorical(\"walk_length\",[5,10,15,20])\n",
    "    p = trial.suggest_float('p',0.01,1)\n",
    "    q = trial.suggest_float('q',0.01,1)\n",
    "\n",
    "    node2vec_auc_scores = dict()\n",
    "    print(\"node dim: %d,\\tnum_walks: %d,\\twalk_length: %d,\\tp: %.2f,\\tq: %.2f\" % (\n",
    "        node_dim, num_walks, walk_length, p, q), end=\"\\t\")\n",
    "    alias_nodes, alias_edges = preprocess_transition_probs(graph, p=p, q=q)\n",
    "    model = build_node2vec(graph, alias_nodes, alias_edges, \n",
    "                           node_dim=node_dim, num_walks=num_walks, walk_length=walk_length)\n",
    "    node2vec_auc_scores[(node_dim, num_walks, walk_length, p, q)] = get_auc_score(model, valid_edges, false_edges)\n",
    "    print(\"auc: %.4f\" % (node2vec_auc_scores[(node_dim, num_walks, walk_length, p, q)]))\n",
    "    return (node2vec_auc_scores[(node_dim, num_walks, walk_length, p, q)])\n",
    "\n",
    "study_node2vec = optuna.create_study(direction = 'maximize')\n",
    "study_node2vec.optimize(lambda trial:objective_node2vec(trial,graph=graph,alias_nodes=alias_nodes,alias_edges=alias_edges), n_trials=100)\n",
    "\n",
    "study_node2vec.best_params"
   ]
  },
  {
   "cell_type": "markdown",
   "metadata": {},
   "source": [
    "use best parameters {'node_dim': 10, 'num_walks': 15, 'walk_length': 15}"
   ]
  },
  {
   "cell_type": "code",
   "execution_count": 12,
   "metadata": {},
   "outputs": [
    {
     "name": "stdout",
     "output_type": "stream",
     "text": [
      "building a DeepWalk model...\tnumber of walks: 124920\taverage walk length: 14.8291\ttraining time: 40.3434\n"
     ]
    }
   ],
   "source": [
    "model = build_deepwalk(graph, alias_nodes, node_dim=10, num_walks=15, walk_length=15)\n",
    "scores = [get_cosine_sim(model, src, dst) for src, dst in test_edges]\n",
    "write_pred(\"data/pred.csv\", test_edges, scores)"
   ]
  },
  {
   "cell_type": "markdown",
   "metadata": {},
   "source": [
    "With the help of p and q, the node2vec model can fit training data better. And you can have a try if you set p=q=1, the two models will return the same results."
   ]
  }
 ],
 "metadata": {
  "kernelspec": {
   "display_name": "Python 3",
   "language": "python",
   "name": "python3"
  },
  "language_info": {
   "codemirror_mode": {
    "name": "ipython",
    "version": 3
   },
   "file_extension": ".py",
   "mimetype": "text/x-python",
   "name": "python",
   "nbconvert_exporter": "python",
   "pygments_lexer": "ipython3",
   "version": "3.6.12"
  }
 },
 "nbformat": 4,
 "nbformat_minor": 4
}
